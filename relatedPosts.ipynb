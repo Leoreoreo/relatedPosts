{
  "nbformat": 4,
  "nbformat_minor": 0,
  "metadata": {
    "colab": {
      "provenance": []
    },
    "kernelspec": {
      "name": "python3",
      "display_name": "Python 3"
    },
    "language_info": {
      "name": "python"
    }
  },
  "cells": [
    {
      "cell_type": "code",
      "source": [
        "import json\n",
        "COMMON_WORDS = {'a', 'an', 'the', 'in', 'on', 'at', 'for', 'to', 'with', 'and', 'or', 'do', 'have', 'has', 'does', 'did'}\n",
        "\n",
        "def read_target_strings(person_id):\n",
        "    file_path = f\"./persona{person_id}.json\"\n",
        "\n",
        "    with open(file_path, 'r') as json_file:\n",
        "        data = json.load(json_file)['data']\n",
        "\n",
        "        BrosingHistoryTitles    = [_['title'] for _ in data['browsingHistoryList']]\n",
        "        PostsContents           = [_['content'] for _ in data['facebookPostsList']]\n",
        "        ScheduleAddrs           = [_['address'] for _ in data['schedule']]\n",
        "        ProfileInfo             = [_ for _ in data.values() if isinstance(_, str)]\n",
        "        return [BrosingHistoryTitles, PostsContents, ScheduleAddrs, ProfileInfo]\n",
        "\n",
        "def direct_match(key_word, string_list):\n",
        "    key_words_to_check = [word for word in key_word if word.lower() not in COMMON_WORDS]\n",
        "    filtered_list = [\n",
        "        string for string in string_list if any(\n",
        "            word.lower() in string.lower().split() for word in key_words_to_check\n",
        "        )\n",
        "    ]\n",
        "    return filtered_list"
      ],
      "metadata": {
        "id": "Mwm7KXa68Xi6"
      },
      "execution_count": 74,
      "outputs": []
    },
    {
      "cell_type": "code",
      "source": [
        "def sentence_vector(sentence, model):\n",
        "    return sum([model.wv[word] for word in sentence if word in model.wv])"
      ],
      "metadata": {
        "id": "RlFuxjwrUMbf"
      },
      "execution_count": 68,
      "outputs": []
    },
    {
      "cell_type": "markdown",
      "source": [
        "reference: https://radimrehurek.com/gensim/models/word2vec.html"
      ],
      "metadata": {
        "id": "pstn0grHmfzF"
      }
    },
    {
      "cell_type": "code",
      "source": [
        "import gensim.downloader\n",
        "glove_vectors = gensim.downloader.load('glove-twitter-25')"
      ],
      "metadata": {
        "colab": {
          "base_uri": "https://localhost:8080/"
        },
        "id": "x20V8JkRadwh",
        "outputId": "91f5abaf-01fc-4356-ccd4-f02770629dd7"
      },
      "execution_count": 12,
      "outputs": [
        {
          "output_type": "stream",
          "name": "stdout",
          "text": [
            "[==================================================] 100.0% 104.8/104.8MB downloaded\n"
          ]
        }
      ]
    },
    {
      "cell_type": "code",
      "source": [
        "def get_relevant_ws(key_words):\n",
        "    similar = []\n",
        "    for w in key_words:\n",
        "      similar += glove_vectors.most_similar(w)\n",
        "    return set([word for word, _ in similar])"
      ],
      "metadata": {
        "id": "TNdZI2gOhL-H"
      },
      "execution_count": 69,
      "outputs": []
    },
    {
      "cell_type": "code",
      "execution_count": 77,
      "metadata": {
        "colab": {
          "base_uri": "https://localhost:8080/"
        },
        "id": "vOGImuMQxCR0",
        "outputId": "a293461c-5df8-4581-a21f-a2c5241c715b"
      },
      "outputs": [
        {
          "output_type": "stream",
          "name": "stdout",
          "text": [
            "------------------------------------------------\n",
            "Direct Matches:\n",
            "Breakfast and News Reading - 1200 S Central Ave, Los Angeles, CA 90021\n",
            "Breakfast and News Reading - 1200 S Central Ave, Los Angeles, CA 90021\n",
            "Breakfast and News Reading - 453 S Spring St, Los Angeles, CA 90013\n",
            "Work as a Financial Analyst - 601 S Figueroa St, Los Angeles, CA 90017\n",
            "Lunch Break - 515 S Flower St, Los Angeles, CA 90071\n",
            "Work as a Financial Analyst - 601 S Figueroa St, Los Angeles, CA 90017\n",
            "Dinner - 301 S Alvarado St, Los Angeles, CA 90057\n",
            "Relaxation Time - 624 S Grand Ave, Los Angeles, CA 90017\n",
            "Online Gaming - 1235 S Flower St, Los Angeles, CA 90015\n",
            "Watching YouTube Videos - 1150 S Olive St, Los Angeles, CA 90015\n",
            "YouTube Videos - 267 S San Pedro St, Los Angeles, CA 90012\n",
            "Morning Exercise - 1100 S Hope St, Los Angeles, CA 90015\n",
            "Breakfast and News Reading - 1200 S Central Ave, Los Angeles, CA 90021\n",
            "Commute to Work - 200 S Main St, Los Angeles, CA 90012\n",
            "Commute back Home - 100 S Olive St, Los Angeles, CA 90012\n",
            "Relaxation Time - 900 S Figueroa St, Los Angeles, CA 90015\n",
            "Online Gaming - 5500 S Figueroa St, Los Angeles, CA 90037\n",
            "Watching YouTube Videos - 1900 E South St, Long Beach, CA 90805\n",
            "------------------------------------------------\n",
            "Relevant Matches:\n",
            "Healthy Lunch Ideas - BBC Good Food\n",
            "Real Estate Market Trends - Realtor.com\n",
            "Breakfast Restaurants Near Me - Google Search\n",
            "Real Estate Market Trends - Zillow\n",
            "Easy Breakfast Recipes - Food Network\n",
            "Google Maps - Find bike shops near me\n",
            "Music Concerts Near Me - Find Upcoming Shows\n",
            "How to Make a Healthy Breakfast - BBC Good Food\n",
            "Taking a well-deserved lunch break. Fueling up with a healthy meal to recharge for the rest of the day! #LunchBreak #HealthyEating\n",
            "Taking some much-needed relaxation time. Enjoying a quiet evening to unwind and destress. #SelfCare #RelaxationMode\n",
            "Taking a well-deserved lunch break to refuel and recharge. It's important to prioritize self-care and take time for oneself. #LunchBreak #SelfCare\n",
            "Relaxing and winding down by watching entertaining YouTube videos. It's a great way to unwind and enjoy some downtime. #YouTubeTime #Relaxation\n",
            "Heading to work with a cup of coffee in hand. Another day, another opportunity to make a difference! #CommuteLife #CareerGoals\n",
            "Taking a well-deserved lunch break. Refueling for the afternoon ahead! #LunchBreak #Foodie\n",
            "Taking a well-deserved lunch break. Enjoying a satisfying meal and recharge for the rest of the day! #LunchBreak #WorkLifeBalance\n",
            "Unwinding with some online gaming. It's the perfect way to relax and have fun after a long day! #GamerLife #RelaxationTime\n",
            "Taking a well-deserved lunch break to refuel and recharge. Tasty meal and some relaxation time. #LunchBreak #MeTime\n",
            "Lunch Break - 515 S Flower St, Los Angeles, CA 90071\n",
            "Dinner - 301 S Alvarado St, Los Angeles, CA 90057\n",
            "Lunch Break - 678 Locust St, Los Angeles, CA 90005\n",
            "Dinner - 123 Main St, Los Angeles, CA 90005\n",
            "Lunch Break - 601 W 5th St, Los Angeles, CA 90071\n",
            "Dinner Preparation - 789 Elm St, Los Angeles, CA 90005\n",
            "Lunch Break - 1100 Glendon Ave, Los Angeles, CA 90024\n",
            "Dinner - 3500 W 6th St, Los Angeles, CA 90020\n",
            "Lunch Break - 321 Walnut St, Los Angeles, CA 90005\n",
            "Dinner - 123 Main St, Los Angeles, CA 90005\n",
            "Lunch Break - 234 Pine Street, Los Angeles, CA 90005\n",
            "Dinner - 1220 Elm Street, Los Angeles, CA 90005\n",
            "Coffee Break - 321 Figueroa St, Los Angeles, CA 90012\n",
            "Lunch Break - 123 Flower St, Los Angeles, CA 90016\n",
            "Dinner - 123 Main St, Los Angeles, CA 90001\n"
          ]
        }
      ],
      "source": [
        "def get_related_posts(person_id, key_word):\n",
        "    tar_str = read_target_strings(person_id)\n",
        "    print(\"------------------------------------------------\")\n",
        "    print(\"Direct Matches:\")\n",
        "    for lst in tar_str:\n",
        "        match_strings = direct_match(key_word, lst)\n",
        "        for s in match_strings:\n",
        "            print(s)\n",
        "    print(\"------------------------------------------------\")\n",
        "    print(\"Relevant Matches:\")\n",
        "    relevant_ws = get_relevant_ws(key_word.split())\n",
        "    for lst in tar_str:\n",
        "        match_strings = direct_match(relevant_ws, lst)\n",
        "        for s in match_strings:\n",
        "            print(s)\n",
        "\n",
        "\n",
        "get_related_posts(2, 'eat a breakfast')\n",
        "\n"
      ]
    }
  ]
}