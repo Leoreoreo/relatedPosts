{
  "nbformat": 4,
  "nbformat_minor": 0,
  "metadata": {
    "colab": {
      "provenance": []
    },
    "kernelspec": {
      "name": "python3",
      "display_name": "Python 3"
    },
    "language_info": {
      "name": "python"
    }
  },
  "cells": [
    {
      "cell_type": "code",
      "execution_count": 1,
      "metadata": {
        "colab": {
          "base_uri": "https://localhost:8080/"
        },
        "id": "vqSg16cpxhlp",
        "outputId": "dea29335-d9bc-4172-a504-8949b4a9ca19"
      },
      "outputs": [
        {
          "output_type": "stream",
          "name": "stdout",
          "text": [
            "Mounted at /content/drive\n"
          ]
        }
      ],
      "source": [
        "from google.colab import drive\n",
        "\n",
        "drive.mount('/content/drive')"
      ]
    },
    {
      "cell_type": "code",
      "source": [
        "data_folder_path = '/content/drive/My Drive/adAuditing/personas_new/age'"
      ],
      "metadata": {
        "id": "0huPI5KYABHh"
      },
      "execution_count": 2,
      "outputs": []
    },
    {
      "cell_type": "code",
      "source": [
        "import json, os"
      ],
      "metadata": {
        "id": "OhP6Pcy9DRSH"
      },
      "execution_count": 3,
      "outputs": []
    },
    {
      "cell_type": "markdown",
      "source": [
        "reference: https://www.analyticsvidhya.com/blog/2022/03/keyword-extraction-methods-from-documents-in-nlp/"
      ],
      "metadata": {
        "id": "SOyCMp9ZdsUh"
      }
    },
    {
      "cell_type": "code",
      "source": [
        "import spacy\n",
        "from collections import Counter\n",
        "from string import punctuation\n",
        "nlp = spacy.load(\"en_core_web_sm\")\n",
        "def get_hotwords(text):\n",
        "    result = []\n",
        "    pos_tag = ['PROPN', 'ADJ', 'NOUN']\n",
        "    doc = nlp(text.lower())\n",
        "    for token in doc:\n",
        "        if(token.text in nlp.Defaults.stop_words or token.text in punctuation):\n",
        "            continue\n",
        "        if(token.pos_ in pos_tag):\n",
        "            result.append(token.text)\n",
        "    return result\n"
      ],
      "metadata": {
        "id": "yTIsiT_1Gb5z"
      },
      "execution_count": 4,
      "outputs": []
    },
    {
      "cell_type": "code",
      "source": [
        "def extractKeywords():\n",
        "    res = {}\n",
        "    for file_name in os.listdir(data_folder_path):\n",
        "        if not file_name.endswith('.json'): continue\n",
        "        with open(os.path.join(data_folder_path, file_name), 'r') as file:\n",
        "            data = json.load(file)['data']\n",
        "            persona = file_name.split('.')[0]\n",
        "            res[persona] = {}\n",
        "            for bh in data['browsing_history']:\n",
        "                keywords = get_hotwords(bh['title'])\n",
        "                for kw in keywords:\n",
        "                    if kw in res[persona]:\n",
        "                        res[persona][kw]['browsing_history'].add(bh['id'])\n",
        "                    else:\n",
        "                        res[persona][kw] = {'browsing_history': {bh['id']}, 'schedule': set(), 'facebookPostsList': set()}\n",
        "            for sch in data['schedule']:\n",
        "                keywords = get_hotwords(sch['event'])\n",
        "                for kw in keywords:\n",
        "                    if kw in res[persona]:\n",
        "                        res[persona][kw]['schedule'].add(sch['id'])\n",
        "                    else:\n",
        "                        res[persona][kw] = {'browsing_history': set(), 'schedule': {sch['id']}, 'facebookPostsList': set()}\n",
        "    print(res)\n",
        "    return res\n",
        "\n",
        "# {pid1 : {kw1 : {'browsing_history' : {id1, id2...}, {'schedule' : {id1, id2...}}, {'facebookPostsList' : {id1, id2...}}}, kw2: ...}, pid2 : {...}, pid3 : {...}}\n",
        "\n",
        "\n",
        "            # for pc in data['facebookPostsList']:\n",
        "            #   passage_embedding = model.encode(pc['content'])\n",
        "            #   if util.dot_score(query_embedding, passage_embedding) > THRESHOLD:\n",
        "            #     result['facebookPostsList'].append(pc['id'])\n"
      ],
      "metadata": {
        "id": "XXyMX0MbI9KL"
      },
      "execution_count": 20,
      "outputs": []
    },
    {
      "cell_type": "code",
      "source": [
        "all_persona_keywords = extractKeywords()"
      ],
      "metadata": {
        "colab": {
          "base_uri": "https://localhost:8080/"
        },
        "id": "7JiCzUOvNuXZ",
        "outputId": "e4bb51cd-35c2-49c5-beb8-7e100373cbbc"
      },
      "execution_count": 21,
      "outputs": [
        {
          "output_type": "stream",
          "name": "stdout",
          "text": [
            "{'4b81a719-4d63-4a0d-92be-5087c71a40b0_a120fce9-2511-422b-9c80-cb739e59ef6a': {'psychology': {'browsing_history': {0, 35, 38, 10, 11, 12, 45, 46, 30}, 'schedule': set(), 'facebookPostsList': set()}, 'today': {'browsing_history': {0, 35, 45, 46}, 'schedule': set(), 'facebookPostsList': set()}, 'therapist': {'browsing_history': {0}, 'schedule': set(), 'facebookPostsList': set()}, 'mental': {'browsing_history': {1, 4, 5, 13, 45, 22, 55, 59, 29}, 'schedule': set(), 'facebookPostsList': set()}, 'health': {'browsing_history': {1, 4, 5, 13, 22, 55, 29}, 'schedule': set(), 'facebookPostsList': set()}, 'blogs': {'browsing_history': {1, 13}, 'schedule': set(), 'facebookPostsList': set()}, 'stress': {'browsing_history': {8, 2, 27}, 'schedule': set(), 'facebookPostsList': set()}, 'anxiety': {'browsing_history': {2}, 'schedule': set(), 'facebookPostsList': set()}, 'best': {'browsing_history': {3, 6, 70, 40, 9, 60, 17, 50, 21, 23, 25, 28, 31}, 'schedule': set(), 'facebookPostsList': set()}, 'online': {'browsing_history': {3, 36, 15, 23, 28, 31}, 'schedule': set(), 'facebookPostsList': set()}, 'clothing': {'browsing_history': {3, 28, 15}, 'schedule': set(), 'facebookPostsList': set()}, 'stores': {'browsing_history': {3, 28, 15}, 'schedule': set(), 'facebookPostsList': set()}, 'women': {'browsing_history': {3, 28}, 'schedule': set(), 'facebookPostsList': set()}, 'elle': {'browsing_history': {3, 28}, 'schedule': set(), 'facebookPostsList': set()}, 'benefits': {'browsing_history': {48, 4, 22}, 'schedule': set(), 'facebookPostsList': set()}, 'exercise': {'browsing_history': {4}, 'schedule': set(), 'facebookPostsList': set()}, 'verywell': {'browsing_history': {4, 22}, 'schedule': set(), 'facebookPostsList': set()}, 'mind': {'browsing_history': {4, 22}, 'schedule': set(), 'facebookPostsList': set()}, 'self': {'browsing_history': {37, 5, 69, 14, 79, 58, 29}, 'schedule': {8, 41, 19, 30}, 'facebookPostsList': set()}, 'care': {'browsing_history': {29, 37, 5, 14}, 'schedule': set(), 'facebookPostsList': set()}, 'tips': {'browsing_history': {64, 37, 5, 74, 14, 53}, 'schedule': set(), 'facebookPostsList': set()}, 'better': {'browsing_history': {5}, 'schedule': set(), 'facebookPostsList': set()}, 'healthline': {'browsing_history': {24, 5, 14}, 'schedule': set(), 'facebookPostsList': set()}, 'movies': {'browsing_history': {34, 67, 6, 77, 17, 56, 25, 26}, 'schedule': set(), 'facebookPostsList': set()}, 'platforms': {'browsing_history': {18, 6}, 'schedule': set(), 'facebookPostsList': set()}, 'imdb': {'browsing_history': {67, 6, 77, 17, 25}, 'schedule': set(), 'facebookPostsList': set()}, 'memory': {'browsing_history': {7}, 'schedule': set(), 'facebookPostsList': set()}, 'cognitive': {'browsing_history': {11, 7}, 'schedule': set(), 'facebookPostsList': set()}, 'function': {'browsing_history': {7}, 'schedule': set(), 'facebookPostsList': set()}, 'mayo': {'browsing_history': {27, 7}, 'schedule': set(), 'facebookPostsList': set()}, 'clinic': {'browsing_history': {27, 7}, 'schedule': set(), 'facebookPostsList': set()}, 'relaxation': {'browsing_history': {8}, 'schedule': set(), 'facebookPostsList': set()}, 'techniques': {'browsing_history': {68, 8, 14, 47, 78, 57, 59}, 'schedule': {9, 42, 20, 31}, 'facebookPostsList': set()}, 'relief': {'browsing_history': {8}, 'schedule': set(), 'facebookPostsList': set()}, 'webmd': {'browsing_history': {8}, 'schedule': set(), 'facebookPostsList': set()}, 'bike': {'browsing_history': {9}, 'schedule': set(), 'facebookPostsList': set()}, 'deals': {'browsing_history': {9}, 'schedule': set(), 'facebookPostsList': set()}, 'amazon': {'browsing_history': {9, 36, 69, 79}, 'schedule': set(), 'facebookPostsList': set()}, 'research': {'browsing_history': {10, 12, 38}, 'schedule': set(), 'facebookPostsList': set()}, 'methods': {'browsing_history': {10}, 'schedule': set(), 'facebookPostsList': set()}, 'google': {'browsing_history': {10, 12, 15, 18, 30, 31, 32, 33, 35, 37, 38, 43, 44, 47, 48, 49, 63, 64, 65, 66, 68, 73, 74, 75, 76, 78}, 'schedule': set(), 'facebookPostsList': set()}, 'search': {'browsing_history': {10, 15, 18, 30, 31, 32, 33, 35, 37, 43, 44, 47, 48, 49, 63, 64, 65, 66, 68, 73, 74, 75, 76, 78}, 'schedule': set(), 'facebookPostsList': set()}, 'wikipedia': {'browsing_history': {11}, 'schedule': set(), 'facebookPostsList': set()}, 'articles': {'browsing_history': {35, 12, 38}, 'schedule': set(), 'facebookPostsList': set()}, 'scholar': {'browsing_history': {12, 38}, 'schedule': set(), 'facebookPostsList': set()}, 'medium': {'browsing_history': {13}, 'schedule': set(), 'facebookPostsList': set()}, 'fashion': {'browsing_history': {16}, 'schedule': set(), 'facebookPostsList': set()}, 'trends': {'browsing_history': {16}, 'schedule': set(), 'facebookPostsList': set()}, 'vogue': {'browsing_history': {16}, 'schedule': set(), 'facebookPostsList': set()}, 'movie': {'browsing_history': {18, 39}, 'schedule': {17, 28, 6, 39}, 'facebookPostsList': set()}, 'streaming': {'browsing_history': {18}, 'schedule': set(), 'facebookPostsList': set()}, 'healthy': {'browsing_history': {19, 54}, 'schedule': set(), 'facebookPostsList': set()}, 'dinner': {'browsing_history': {65, 75, 44, 19, 54}, 'schedule': {26, 4, 37, 15}, 'facebookPostsList': set()}, 'recipes': {'browsing_history': {65, 75, 44, 19, 54}, 'schedule': set(), 'facebookPostsList': set()}, 'food': {'browsing_history': {19}, 'schedule': set(), 'facebookPostsList': set()}, 'network': {'browsing_history': {19}, 'schedule': set(), 'facebookPostsList': set()}, 'internship': {'browsing_history': {20}, 'schedule': set(), 'facebookPostsList': set()}, 'opportunities': {'browsing_history': {20}, 'schedule': set(), 'facebookPostsList': set()}, 'balance': {'browsing_history': {20}, 'schedule': set(), 'facebookPostsList': set()}, 'careers': {'browsing_history': {20}, 'schedule': set(), 'facebookPostsList': set()}, 'yoga': {'browsing_history': {24, 21, 22, 23}, 'schedule': set(), 'facebookPostsList': set()}, 'classes': {'browsing_history': {31, 21, 23}, 'schedule': set(), 'facebookPostsList': set()}, 'urbanclap': {'browsing_history': {21}, 'schedule': set(), 'facebookPostsList': set()}, 'right': {'browsing_history': {24}, 'schedule': set(), 'facebookPostsList': set()}, 'mat': {'browsing_history': {24}, 'schedule': set(), 'facebookPostsList': set()}, 'tomatoes': {'browsing_history': {26, 34}, 'schedule': set(), 'facebookPostsList': set()}, 'importance': {'browsing_history': {45, 29}, 'schedule': set(), 'facebookPostsList': set()}, 'psychcentral': {'browsing_history': {29}, 'schedule': set(), 'facebookPostsList': set()}, 'fitness': {'browsing_history': {31}, 'schedule': set(), 'facebookPostsList': set()}, 'diy': {'browsing_history': {32}, 'schedule': set(), 'facebookPostsList': set()}, 'home': {'browsing_history': {32}, 'schedule': {0, 2, 4, 6, 8, 10, 11, 13, 15, 17, 19, 21, 22, 24, 26, 28, 30, 32, 33, 35, 37, 39, 41, 43}, 'facebookPostsList': set()}, 'decor': {'browsing_history': {32}, 'schedule': set(), 'facebookPostsList': set()}, 'ideas': {'browsing_history': {32}, 'schedule': set(), 'facebookPostsList': set()}, 'wreath': {'browsing_history': {33}, 'schedule': set(), 'facebookPostsList': set()}, 'shopping': {'browsing_history': {36}, 'schedule': set(), 'facebookPostsList': set()}, 'clothes': {'browsing_history': {36}, 'schedule': set(), 'facebookPostsList': set()}, 'tricks': {'browsing_history': {53, 37}, 'schedule': set(), 'facebookPostsList': set()}, 'trailers': {'browsing_history': {39}, 'schedule': set(), 'facebookPostsList': set()}, 'youtube': {'browsing_history': {39}, 'schedule': set(), 'facebookPostsList': set()}, 'consumer': {'browsing_history': {70, 71, 40, 41, 50, 51, 60, 61}, 'schedule': set(), 'facebookPostsList': set()}, 'reports': {'browsing_history': {70, 71, 40, 41, 50, 51, 60, 61}, 'schedule': set(), 'facebookPostsList': set()}, 'mattresses': {'browsing_history': {40, 50, 60, 70}, 'schedule': set(), 'facebookPostsList': set()}, 'product': {'browsing_history': {41, 51, 61, 71}, 'schedule': set(), 'facebookPostsList': set()}, 'reviews': {'browsing_history': {71, 72, 41, 42, 51, 52, 61, 62}, 'schedule': set(), 'facebookPostsList': set()}, 'ratings': {'browsing_history': {41, 51, 61, 71}, 'schedule': set(), 'facebookPostsList': set()}, 'examples': {'browsing_history': {72, 42, 52, 62}, 'schedule': set(), 'facebookPostsList': set()}, 'customer': {'browsing_history': {72, 42, 52, 62}, 'schedule': set(), 'facebookPostsList': set()}, 'business': {'browsing_history': {72, 42, 52, 62}, 'schedule': set(), 'facebookPostsList': set()}, 'house': {'browsing_history': {73, 43, 53, 63}, 'schedule': {0, 33, 11, 22}, 'facebookPostsList': set()}, 'quick': {'browsing_history': {44}, 'schedule': set(), 'facebookPostsList': set()}, 'easy': {'browsing_history': {65, 75, 44}, 'schedule': set(), 'facebookPostsList': set()}, 'wellness': {'browsing_history': {59, 45}, 'schedule': set(), 'facebookPostsList': set()}, 'strategies': {'browsing_history': {46}, 'schedule': set(), 'facebookPostsList': set()}, 'personal': {'browsing_history': {49, 58, 46}, 'schedule': {32, 10, 43, 21}, 'facebookPostsList': set()}, 'development': {'browsing_history': {58, 46}, 'schedule': set(), 'facebookPostsList': set()}, 'effective': {'browsing_history': {57, 68, 78, 47}, 'schedule': set(), 'facebookPostsList': set()}, 'communication': {'browsing_history': {47}, 'schedule': set(), 'facebookPostsList': set()}, 'therapy': {'browsing_history': {64, 74, 47}, 'schedule': {1, 34, 12, 23}, 'facebookPostsList': set()}, 'counseling': {'browsing_history': {48, 59, 55}, 'schedule': {9, 42, 20, 31}, 'facebookPostsList': set()}, 'training': {'browsing_history': {48}, 'schedule': {9, 42, 20, 31}, 'facebookPostsList': set()}, 'sessions': {'browsing_history': {48, 74, 64}, 'schedule': set(), 'facebookPostsList': set()}, 'documents': {'browsing_history': {49}, 'schedule': {32, 10, 43, 21}, 'facebookPostsList': set()}, 'bills': {'browsing_history': {49}, 'schedule': {32, 10, 43, 21}, 'facebookPostsList': set()}, 'family': {'browsing_history': {65, 75, 54}, 'schedule': {26, 4, 37, 15}, 'facebookPostsList': set()}, 'progress': {'browsing_history': {66, 76, 55}, 'schedule': {16, 27, 5, 38}, 'facebookPostsList': set()}, 'notes': {'browsing_history': {66, 76, 55}, 'schedule': {16, 27, 5, 38}, 'facebookPostsList': set()}, 'classic': {'browsing_history': {56, 67, 77}, 'schedule': {17, 28, 6, 39}, 'facebookPostsList': set()}, 'film': {'browsing_history': {56}, 'schedule': set(), 'facebookPostsList': set()}, 'lover': {'browsing_history': {56}, 'schedule': set(), 'facebookPostsList': set()}, 'collaboration': {'browsing_history': {57, 68, 78}, 'schedule': set(), 'facebookPostsList': set()}, 'teams': {'browsing_history': {57}, 'schedule': set(), 'facebookPostsList': set()}, 'help': {'browsing_history': {58, 69, 79}, 'schedule': {8, 41, 19, 30}, 'facebookPostsList': set()}, 'books': {'browsing_history': {58, 69, 79}, 'schedule': set(), 'facebookPostsList': set()}, 'new': {'browsing_history': {59}, 'schedule': {7, 40, 9, 42, 18, 20, 29, 31}, 'facebookPostsList': set()}, 'clients': {'browsing_history': {66, 76}, 'schedule': {16, 27, 5, 38}, 'facebookPostsList': set()}, 'time': {'browsing_history': {67, 77}, 'schedule': set(), 'facebookPostsList': set()}, 'projects': {'browsing_history': {68, 78}, 'schedule': set(), 'facebookPostsList': set()}, 'laundry': {'browsing_history': set(), 'schedule': {0, 33, 11, 22}, 'facebookPostsList': set()}, 'workplace': {'browsing_history': set(), 'schedule': {1, 3, 5, 7, 9, 12, 14, 16, 18, 20, 23, 25, 27, 29, 31, 34, 36, 38, 40, 42}, 'facebookPostsList': set()}, 'session': {'browsing_history': set(), 'schedule': {1, 34, 9, 42, 12, 20, 23, 31}, 'facebookPostsList': set()}, 'client': {'browsing_history': set(), 'schedule': {1, 34, 12, 23}, 'facebookPostsList': set()}, 'child': {'browsing_history': set(), 'schedule': {24, 2, 35, 13}, 'facebookPostsList': set()}, 'homework': {'browsing_history': set(), 'schedule': {24, 2, 35, 13}, 'facebookPostsList': set()}, 'team': {'browsing_history': set(), 'schedule': {25, 3, 36, 14}, 'facebookPostsList': set()}, 'meeting': {'browsing_history': set(), 'schedule': {25, 3, 36, 14}, 'facebookPostsList': set()}, 'complete': {'browsing_history': set(), 'schedule': {16, 27, 5, 38}, 'facebookPostsList': set()}, 'collaborate': {'browsing_history': set(), 'schedule': {40, 18, 29, 7}, 'facebookPostsList': set()}, 'colleagues': {'browsing_history': set(), 'schedule': {40, 18, 29, 7}, 'facebookPostsList': set()}, 'project': {'browsing_history': set(), 'schedule': {40, 18, 29, 7}, 'facebookPostsList': set()}, 'book': {'browsing_history': set(), 'schedule': {8, 41, 19, 30}, 'facebookPostsList': set()}}, '4b81a719-4d63-4a0d-92be-5087c71a40b0_199bea01-2cba-4381-9980-fad5a40da13e': {'psychology': {'browsing_history': {0, 35, 38, 10, 11, 12, 45, 46, 30}, 'schedule': set(), 'facebookPostsList': set()}, 'today': {'browsing_history': {0, 35, 45, 46}, 'schedule': set(), 'facebookPostsList': set()}, 'therapist': {'browsing_history': {0}, 'schedule': set(), 'facebookPostsList': set()}, 'mental': {'browsing_history': {1, 4, 5, 13, 45, 22, 55, 59, 29}, 'schedule': set(), 'facebookPostsList': set()}, 'health': {'browsing_history': {1, 4, 5, 13, 22, 55, 29}, 'schedule': set(), 'facebookPostsList': set()}, 'blogs': {'browsing_history': {1, 13}, 'schedule': set(), 'facebookPostsList': set()}, 'stress': {'browsing_history': {8, 2, 27}, 'schedule': set(), 'facebookPostsList': set()}, 'anxiety': {'browsing_history': {2}, 'schedule': set(), 'facebookPostsList': set()}, 'best': {'browsing_history': {3, 6, 70, 40, 9, 103, 60, 17, 50, 21, 23, 25, 28, 31}, 'schedule': set(), 'facebookPostsList': set()}, 'online': {'browsing_history': {3, 36, 15, 115, 23, 28, 31}, 'schedule': {38, 2, 26, 14}, 'facebookPostsList': set()}, 'clothing': {'browsing_history': {3, 28, 15}, 'schedule': set(), 'facebookPostsList': set()}, 'stores': {'browsing_history': {3, 28, 109, 15}, 'schedule': set(), 'facebookPostsList': set()}, 'women': {'browsing_history': {3, 28}, 'schedule': set(), 'facebookPostsList': set()}, 'elle': {'browsing_history': {3, 28}, 'schedule': set(), 'facebookPostsList': set()}, 'benefits': {'browsing_history': {48, 4, 22}, 'schedule': set(), 'facebookPostsList': set()}, 'exercise': {'browsing_history': {4}, 'schedule': set(), 'facebookPostsList': set()}, 'verywell': {'browsing_history': {4, 22}, 'schedule': set(), 'facebookPostsList': set()}, 'mind': {'browsing_history': {4, 22}, 'schedule': set(), 'facebookPostsList': set()}, 'self': {'browsing_history': {37, 5, 69, 14, 79, 58, 29}, 'schedule': set(), 'facebookPostsList': set()}, 'care': {'browsing_history': {29, 37, 5, 14}, 'schedule': set(), 'facebookPostsList': set()}, 'tips': {'browsing_history': {64, 96, 37, 5, 74, 14, 53, 87}, 'schedule': set(), 'facebookPostsList': set()}, 'better': {'browsing_history': {5}, 'schedule': set(), 'facebookPostsList': set()}, 'healthline': {'browsing_history': {24, 5, 14}, 'schedule': set(), 'facebookPostsList': set()}, 'movies': {'browsing_history': {34, 67, 6, 103, 77, 17, 114, 56, 25, 26}, 'schedule': set(), 'facebookPostsList': set()}, 'platforms': {'browsing_history': {18, 6}, 'schedule': set(), 'facebookPostsList': set()}, 'imdb': {'browsing_history': {67, 6, 77, 17, 114, 83, 25}, 'schedule': set(), 'facebookPostsList': set()}, 'memory': {'browsing_history': {7}, 'schedule': set(), 'facebookPostsList': set()}, 'cognitive': {'browsing_history': {11, 7}, 'schedule': set(), 'facebookPostsList': set()}, 'function': {'browsing_history': {7}, 'schedule': set(), 'facebookPostsList': set()}, 'mayo': {'browsing_history': {27, 7}, 'schedule': set(), 'facebookPostsList': set()}, 'clinic': {'browsing_history': {27, 7}, 'schedule': set(), 'facebookPostsList': set()}, 'relaxation': {'browsing_history': {8}, 'schedule': set(), 'facebookPostsList': set()}, 'techniques': {'browsing_history': {68, 8, 14, 47, 78, 57, 59}, 'schedule': set(), 'facebookPostsList': set()}, 'relief': {'browsing_history': {8}, 'schedule': set(), 'facebookPostsList': set()}, 'webmd': {'browsing_history': {8}, 'schedule': set(), 'facebookPostsList': set()}, 'bike': {'browsing_history': {9}, 'schedule': set(), 'facebookPostsList': set()}, 'deals': {'browsing_history': {9, 98}, 'schedule': set(), 'facebookPostsList': set()}, 'amazon': {'browsing_history': {36, 69, 9, 79, 93}, 'schedule': set(), 'facebookPostsList': set()}, 'research': {'browsing_history': {10, 12, 38}, 'schedule': set(), 'facebookPostsList': set()}, 'methods': {'browsing_history': {10}, 'schedule': set(), 'facebookPostsList': set()}, 'google': {'browsing_history': {10, 12, 15, 18, 30, 31, 32, 33, 35, 37, 38, 43, 44, 47, 48, 49, 63, 64, 65, 66, 68, 73, 74, 75, 76, 78, 81, 109}, 'schedule': set(), 'facebookPostsList': set()}, 'search': {'browsing_history': {10, 15, 18, 30, 31, 32, 33, 35, 37, 43, 44, 47, 48, 49, 63, 64, 65, 66, 68, 73, 74, 75, 76, 78, 81}, 'schedule': set(), 'facebookPostsList': set()}, 'wikipedia': {'browsing_history': {11, 100}, 'schedule': set(), 'facebookPostsList': set()}, 'articles': {'browsing_history': {35, 12, 38}, 'schedule': set(), 'facebookPostsList': set()}, 'scholar': {'browsing_history': {12, 38}, 'schedule': set(), 'facebookPostsList': set()}, 'medium': {'browsing_history': {13}, 'schedule': set(), 'facebookPostsList': set()}, 'fashion': {'browsing_history': {16}, 'schedule': set(), 'facebookPostsList': set()}, 'trends': {'browsing_history': {16}, 'schedule': set(), 'facebookPostsList': set()}, 'vogue': {'browsing_history': {16}, 'schedule': set(), 'facebookPostsList': set()}, 'movie': {'browsing_history': {18, 83, 39}, 'schedule': {27, 3, 39, 15}, 'facebookPostsList': set()}, 'streaming': {'browsing_history': {18}, 'schedule': set(), 'facebookPostsList': set()}, 'healthy': {'browsing_history': {19, 54}, 'schedule': set(), 'facebookPostsList': set()}, 'dinner': {'browsing_history': {65, 75, 44, 19, 54}, 'schedule': set(), 'facebookPostsList': set()}, 'recipes': {'browsing_history': {65, 75, 44, 19, 54, 86, 118, 95}, 'schedule': set(), 'facebookPostsList': set()}, 'food': {'browsing_history': {19}, 'schedule': set(), 'facebookPostsList': set()}, 'network': {'browsing_history': {19}, 'schedule': set(), 'facebookPostsList': set()}, 'internship': {'browsing_history': {20}, 'schedule': set(), 'facebookPostsList': set()}, 'opportunities': {'browsing_history': {88, 97, 20, 108}, 'schedule': set(), 'facebookPostsList': set()}, 'balance': {'browsing_history': {20}, 'schedule': set(), 'facebookPostsList': set()}, 'careers': {'browsing_history': {20}, 'schedule': set(), 'facebookPostsList': set()}, 'yoga': {'browsing_history': {24, 21, 22, 23}, 'schedule': {35, 11, 47, 23}, 'facebookPostsList': set()}, 'classes': {'browsing_history': {31, 21, 23}, 'schedule': set(), 'facebookPostsList': set()}, 'urbanclap': {'browsing_history': {21}, 'schedule': set(), 'facebookPostsList': set()}, 'right': {'browsing_history': {24}, 'schedule': set(), 'facebookPostsList': set()}, 'mat': {'browsing_history': {24}, 'schedule': set(), 'facebookPostsList': set()}, 'tomatoes': {'browsing_history': {26, 34, 103}, 'schedule': set(), 'facebookPostsList': set()}, 'importance': {'browsing_history': {45, 29}, 'schedule': set(), 'facebookPostsList': set()}, 'psychcentral': {'browsing_history': {29}, 'schedule': set(), 'facebookPostsList': set()}, 'fitness': {'browsing_history': {31}, 'schedule': set(), 'facebookPostsList': set()}, 'diy': {'browsing_history': {32}, 'schedule': set(), 'facebookPostsList': set()}, 'home': {'browsing_history': {32, 106}, 'schedule': {18, 42, 6, 30}, 'facebookPostsList': set()}, 'decor': {'browsing_history': {32}, 'schedule': set(), 'facebookPostsList': set()}, 'ideas': {'browsing_history': {32}, 'schedule': set(), 'facebookPostsList': set()}, 'wreath': {'browsing_history': {33}, 'schedule': set(), 'facebookPostsList': set()}, 'shopping': {'browsing_history': {89, 98, 36}, 'schedule': {9, 45, 21, 33}, 'facebookPostsList': set()}, 'clothes': {'browsing_history': {36}, 'schedule': set(), 'facebookPostsList': set()}, 'tricks': {'browsing_history': {53, 37, 87}, 'schedule': set(), 'facebookPostsList': set()}, 'trailers': {'browsing_history': {39}, 'schedule': set(), 'facebookPostsList': set()}, 'youtube': {'browsing_history': {39}, 'schedule': set(), 'facebookPostsList': set()}, 'consumer': {'browsing_history': {70, 71, 40, 41, 50, 51, 60, 61}, 'schedule': set(), 'facebookPostsList': set()}, 'reports': {'browsing_history': {70, 71, 40, 41, 50, 51, 60, 61}, 'schedule': set(), 'facebookPostsList': set()}, 'mattresses': {'browsing_history': {40, 50, 60, 70}, 'schedule': set(), 'facebookPostsList': set()}, 'product': {'browsing_history': {41, 51, 61, 71}, 'schedule': set(), 'facebookPostsList': set()}, 'reviews': {'browsing_history': {71, 72, 41, 42, 51, 52, 61, 62}, 'schedule': set(), 'facebookPostsList': set()}, 'ratings': {'browsing_history': {41, 51, 61, 71}, 'schedule': set(), 'facebookPostsList': set()}, 'examples': {'browsing_history': {72, 42, 52, 62}, 'schedule': set(), 'facebookPostsList': set()}, 'customer': {'browsing_history': {72, 42, 52, 62}, 'schedule': set(), 'facebookPostsList': set()}, 'business': {'browsing_history': {72, 42, 52, 62}, 'schedule': set(), 'facebookPostsList': set()}, 'house': {'browsing_history': {73, 43, 53, 63}, 'schedule': set(), 'facebookPostsList': set()}, 'quick': {'browsing_history': {44}, 'schedule': set(), 'facebookPostsList': set()}, 'easy': {'browsing_history': {65, 75, 44}, 'schedule': set(), 'facebookPostsList': set()}, 'wellness': {'browsing_history': {59, 45}, 'schedule': set(), 'facebookPostsList': set()}, 'strategies': {'browsing_history': {46}, 'schedule': set(), 'facebookPostsList': set()}, 'personal': {'browsing_history': {49, 58, 46}, 'schedule': set(), 'facebookPostsList': set()}, 'development': {'browsing_history': {58, 46}, 'schedule': set(), 'facebookPostsList': set()}, 'effective': {'browsing_history': {57, 68, 78, 47}, 'schedule': set(), 'facebookPostsList': set()}, 'communication': {'browsing_history': {47}, 'schedule': set(), 'facebookPostsList': set()}, 'therapy': {'browsing_history': {64, 74, 47}, 'schedule': set(), 'facebookPostsList': set()}, 'counseling': {'browsing_history': {48, 59, 55}, 'schedule': set(), 'facebookPostsList': set()}, 'training': {'browsing_history': {48}, 'schedule': set(), 'facebookPostsList': set()}, 'sessions': {'browsing_history': {48, 74, 64}, 'schedule': set(), 'facebookPostsList': set()}, 'documents': {'browsing_history': {49}, 'schedule': set(), 'facebookPostsList': set()}, 'bills': {'browsing_history': {49}, 'schedule': set(), 'facebookPostsList': set()}, 'family': {'browsing_history': {65, 75, 54}, 'schedule': set(), 'facebookPostsList': set()}, 'progress': {'browsing_history': {66, 76, 55}, 'schedule': set(), 'facebookPostsList': set()}, 'notes': {'browsing_history': {66, 76, 55}, 'schedule': set(), 'facebookPostsList': set()}, 'classic': {'browsing_history': {67, 103, 77, 114, 83, 56}, 'schedule': {27, 3, 39, 15}, 'facebookPostsList': set()}, 'film': {'browsing_history': {56}, 'schedule': set(), 'facebookPostsList': set()}, 'lover': {'browsing_history': {56}, 'schedule': set(), 'facebookPostsList': set()}, 'collaboration': {'browsing_history': {57, 68, 78}, 'schedule': set(), 'facebookPostsList': set()}, 'teams': {'browsing_history': {57}, 'schedule': set(), 'facebookPostsList': set()}, 'help': {'browsing_history': {58, 69, 79}, 'schedule': set(), 'facebookPostsList': set()}, 'books': {'browsing_history': {69, 107, 79, 87, 58, 93}, 'schedule': {16, 40, 4, 28}, 'facebookPostsList': set()}, 'new': {'browsing_history': {116, 90, 59, 84}, 'schedule': {16, 40, 4, 28}, 'facebookPostsList': set()}, 'clients': {'browsing_history': {66, 76}, 'schedule': set(), 'facebookPostsList': set()}, 'time': {'browsing_history': {114, 67, 77, 103}, 'schedule': set(), 'facebookPostsList': set()}, 'projects': {'browsing_history': {68, 78}, 'schedule': set(), 'facebookPostsList': set()}, 'morning': {'browsing_history': {80, 90, 110}, 'schedule': {0, 24, 12, 36}, 'facebookPostsList': set()}, 'newspaper': {'browsing_history': {80, 110}, 'schedule': {0, 24, 12, 36}, 'facebookPostsList': set()}, 'oregonian': {'browsing_history': {80, 110}, 'schedule': set(), 'facebookPostsList': set()}, 'neighborhood': {'browsing_history': {81}, 'schedule': {1, 37, 13, 25}, 'facebookPostsList': set()}, 'virtual': {'browsing_history': {113, 82}, 'schedule': {38, 2, 26, 14}, 'facebookPostsList': set()}, 'book': {'browsing_history': {96, 113, 82, 91}, 'schedule': {2, 38, 7, 43, 14, 19, 26, 31}, 'facebookPostsList': set()}, 'club': {'browsing_history': {113, 82, 91}, 'schedule': {38, 2, 26, 14}, 'facebookPostsList': set()}, 'meeting': {'browsing_history': {113, 82}, 'schedule': {38, 2, 26, 14}, 'facebookPostsList': set()}, 'goodreads': {'browsing_history': {82}, 'schedule': set(), 'facebookPostsList': set()}, 'recommendations': {'browsing_history': {83}, 'schedule': set(), 'facebookPostsList': set()}, 'releases': {'browsing_history': {84}, 'schedule': set(), 'facebookPostsList': set()}, 'local': {'browsing_history': {99, 84, 119, 111}, 'schedule': {32, 34, 4, 8, 40, 10, 44, 46, 16, 20, 22, 28}, 'facebookPostsList': set()}, 'library': {'browsing_history': {104, 116, 84}, 'schedule': {16, 40, 4, 28}, 'facebookPostsList': set()}, 'catalog': {'browsing_history': {84}, 'schedule': set(), 'facebookPostsList': set()}, 'video': {'browsing_history': {105, 117, 85, 94}, 'schedule': {17, 29, 5, 41}, 'facebookPostsList': set()}, 'grandchildren': {'browsing_history': {117, 85, 94}, 'schedule': {17, 29, 5, 41}, 'facebookPostsList': set()}, 'zoom': {'browsing_history': {117, 85, 94}, 'schedule': set(), 'facebookPostsList': set()}, 'meal': {'browsing_history': {118, 86, 95}, 'schedule': {18, 42, 6, 30}, 'facebookPostsList': set()}, 'allrecipes': {'browsing_history': {106, 118, 86, 95}, 'schedule': set(), 'facebookPostsList': set()}, 'volunteermatch': {'browsing_history': {88, 97, 108, 119}, 'schedule': set(), 'facebookPostsList': set()}, 'grocery': {'browsing_history': {89, 98, 109}, 'schedule': {9, 45, 21, 33}, 'facebookPostsList': set()}, 'list': {'browsing_history': {89}, 'schedule': set(), 'facebookPostsList': set()}, 'news': {'browsing_history': {90, 111}, 'schedule': set(), 'facebookPostsList': set()}, 'highlights': {'browsing_history': {90}, 'schedule': set(), 'facebookPostsList': set()}, 'york': {'browsing_history': {90}, 'schedule': set(), 'facebookPostsList': set()}, 'times': {'browsing_history': {90}, 'schedule': set(), 'facebookPostsList': set()}, 'discussion': {'browsing_history': {91}, 'schedule': set(), 'facebookPostsList': set()}, 'mockingbird': {'browsing_history': {91}, 'schedule': set(), 'facebookPostsList': set()}, 'patterns': {'browsing_history': {92}, 'schedule': set(), 'facebookPostsList': set()}, 'scarves': {'browsing_history': {92}, 'schedule': set(), 'facebookPostsList': set()}, 'ravelry': {'browsing_history': {92}, 'schedule': set(), 'facebookPostsList': set()}, 'lovers': {'browsing_history': {96}, 'schedule': set(), 'facebookPostsList': set()}, 'good': {'browsing_history': {96}, 'schedule': set(), 'facebookPostsList': set()}, 'housekeeping': {'browsing_history': {96}, 'schedule': set(), 'facebookPostsList': set()}, 'volunteer': {'browsing_history': {97, 108}, 'schedule': set(), 'facebookPostsList': set()}, 'portland': {'browsing_history': {97, 99, 104, 111, 112, 116}, 'schedule': set(), 'facebookPostsList': set()}, 'history': {'browsing_history': {99}, 'schedule': {46, 10, 34, 22}, 'facebookPostsList': set()}, 'museum': {'browsing_history': {99}, 'schedule': {46, 10, 34, 22}, 'facebookPostsList': set()}, 'exhibit': {'browsing_history': {99}, 'schedule': {46, 10, 34, 22}, 'facebookPostsList': set()}, 'historical': {'browsing_history': {99}, 'schedule': set(), 'facebookPostsList': set()}, 'society': {'browsing_history': {99}, 'schedule': set(), 'facebookPostsList': set()}, 'great': {'browsing_history': {100}, 'schedule': set(), 'facebookPostsList': set()}, 'gatsby': {'browsing_history': {100}, 'schedule': set(), 'facebookPostsList': set()}, 'beginners': {'browsing_history': {101}, 'schedule': set(), 'facebookPostsList': set()}, 'simple': {'browsing_history': {101}, 'schedule': set(), 'facebookPostsList': set()}, 'steps': {'browsing_history': {101}, 'schedule': set(), 'facebookPostsList': set()}, 'yarn': {'browsing_history': {102}, 'schedule': set(), 'facebookPostsList': set()}, 'public': {'browsing_history': {104, 116}, 'schedule': set(), 'facebookPostsList': set()}, 'apps': {'browsing_history': {105}, 'schedule': set(), 'facebookPostsList': set()}, 'free': {'browsing_history': {105}, 'schedule': set(), 'facebookPostsList': set()}, 'choices': {'browsing_history': {105}, 'schedule': set(), 'facebookPostsList': set()}, 'freemake': {'browsing_history': {105}, 'schedule': set(), 'facebookPostsList': set()}, 'meals': {'browsing_history': {106}, 'schedule': set(), 'facebookPostsList': set()}, 'spruce': {'browsing_history': {107}, 'schedule': set(), 'facebookPostsList': set()}, 'maps': {'browsing_history': {109}, 'schedule': set(), 'facebookPostsList': set()}, 'samantha': {'browsing_history': {110}, 'schedule': {0, 1, 2, 3, 5, 6, 9, 11, 12, 13, 14, 15, 17, 18, 21, 23, 24, 25, 26, 27, 29, 30, 33, 35, 36, 37, 38, 39, 41, 42, 45, 47}, 'facebookPostsList': set()}, 'oregon': {'browsing_history': {112, 111}, 'schedule': set(), 'facebookPostsList': set()}, 'weather': {'browsing_history': {112}, 'schedule': set(), 'facebookPostsList': set()}, 'forecast': {'browsing_history': {112}, 'schedule': set(), 'facebookPostsList': set()}, 'upcoming': {'browsing_history': {113}, 'schedule': set(), 'facebookPostsList': set()}, 'meetup': {'browsing_history': {113}, 'schedule': set(), 'facebookPostsList': set()}, 'knitting': {'browsing_history': {115}, 'schedule': set(), 'facebookPostsList': set()}, 'michaels': {'browsing_history': {115}, 'schedule': set(), 'facebookPostsList': set()}, 'arrivals': {'browsing_history': {116}, 'schedule': set(), 'facebookPostsList': set()}, 'charity': {'browsing_history': {119}, 'schedule': {8, 32, 20, 44}, 'facebookPostsList': set()}, 'organizations': {'browsing_history': {119}, 'schedule': set(), 'facebookPostsList': set()}, 'cup': {'browsing_history': set(), 'schedule': {0, 24, 12, 36}, 'facebookPostsList': set()}, 'coffee': {'browsing_history': set(), 'schedule': {0, 24, 12, 36}, 'facebookPostsList': set()}, 'walk': {'browsing_history': set(), 'schedule': {1, 37, 13, 25}, 'facebookPostsList': set()}, 'scarf': {'browsing_history': set(), 'schedule': {27, 3, 39, 15}, 'facebookPostsList': set()}, 'visits': {'browsing_history': set(), 'schedule': {16, 40, 4, 28}, 'facebookPostsList': set()}, 'friend': {'browsing_history': set(), 'schedule': {18, 42, 6, 30}, 'facebookPostsList': set()}, 'collection': {'browsing_history': set(), 'schedule': {43, 19, 31, 7}, 'facebookPostsList': set()}, 'volunteers': {'browsing_history': set(), 'schedule': {8, 32, 20, 44}, 'facebookPostsList': set()}, 'organization': {'browsing_history': set(), 'schedule': {8, 32, 20, 44}, 'facebookPostsList': set()}, 'nearby': {'browsing_history': set(), 'schedule': {9, 45, 21, 33}, 'facebookPostsList': set()}, 'store': {'browsing_history': set(), 'schedule': {9, 45, 21, 33}, 'facebookPostsList': set()}, 'practices': {'browsing_history': set(), 'schedule': {35, 11, 47, 23}, 'facebookPostsList': set()}, 'living': {'browsing_history': set(), 'schedule': {35, 11, 47, 23}, 'facebookPostsList': set()}, 'room': {'browsing_history': set(), 'schedule': {35, 11, 47, 23}, 'facebookPostsList': set()}}, '4b81a719-4d63-4a0d-92be-5087c71a40b0_': {'psychology': {'browsing_history': {0, 35, 38, 10, 11, 12, 30}, 'schedule': {0, 2, 8, 10, 16, 24}, 'facebookPostsList': set()}, 'today': {'browsing_history': {0, 35}, 'schedule': set(), 'facebookPostsList': set()}, 'therapist': {'browsing_history': {0}, 'schedule': set(), 'facebookPostsList': set()}, 'mental': {'browsing_history': {1, 4, 5, 13, 22, 29}, 'schedule': set(), 'facebookPostsList': set()}, 'health': {'browsing_history': {1, 4, 5, 13, 22, 29}, 'schedule': set(), 'facebookPostsList': set()}, 'blogs': {'browsing_history': {1, 13}, 'schedule': set(), 'facebookPostsList': set()}, 'stress': {'browsing_history': {8, 2, 27}, 'schedule': set(), 'facebookPostsList': set()}, 'anxiety': {'browsing_history': {2}, 'schedule': set(), 'facebookPostsList': set()}, 'best': {'browsing_history': {3, 6, 9, 17, 21, 23, 25, 28, 31}, 'schedule': set(), 'facebookPostsList': set()}, 'online': {'browsing_history': {3, 36, 15, 23, 28, 31}, 'schedule': {0, 8, 13, 16, 22, 24, 29}, 'facebookPostsList': set()}, 'clothing': {'browsing_history': {3, 28, 15}, 'schedule': set(), 'facebookPostsList': set()}, 'stores': {'browsing_history': {3, 28, 15}, 'schedule': set(), 'facebookPostsList': set()}, 'women': {'browsing_history': {3, 28}, 'schedule': set(), 'facebookPostsList': set()}, 'elle': {'browsing_history': {3, 28}, 'schedule': set(), 'facebookPostsList': set()}, 'benefits': {'browsing_history': {4, 22}, 'schedule': set(), 'facebookPostsList': set()}, 'exercise': {'browsing_history': {4}, 'schedule': set(), 'facebookPostsList': set()}, 'verywell': {'browsing_history': {4, 22}, 'schedule': set(), 'facebookPostsList': set()}, 'mind': {'browsing_history': {4, 22}, 'schedule': set(), 'facebookPostsList': set()}, 'self': {'browsing_history': {29, 37, 5, 14}, 'schedule': set(), 'facebookPostsList': set()}, 'care': {'browsing_history': {29, 37, 5, 14}, 'schedule': set(), 'facebookPostsList': set()}, 'tips': {'browsing_history': {37, 5, 14}, 'schedule': set(), 'facebookPostsList': set()}, 'better': {'browsing_history': {5}, 'schedule': set(), 'facebookPostsList': set()}, 'healthline': {'browsing_history': {24, 5, 14}, 'schedule': set(), 'facebookPostsList': set()}, 'movies': {'browsing_history': {34, 6, 17, 25, 26}, 'schedule': set(), 'facebookPostsList': set()}, 'platforms': {'browsing_history': {18, 6}, 'schedule': set(), 'facebookPostsList': set()}, 'imdb': {'browsing_history': {17, 6, 25}, 'schedule': set(), 'facebookPostsList': set()}, 'memory': {'browsing_history': {7}, 'schedule': set(), 'facebookPostsList': set()}, 'cognitive': {'browsing_history': {11, 7}, 'schedule': set(), 'facebookPostsList': set()}, 'function': {'browsing_history': {7}, 'schedule': set(), 'facebookPostsList': set()}, 'mayo': {'browsing_history': {27, 7}, 'schedule': set(), 'facebookPostsList': set()}, 'clinic': {'browsing_history': {27, 7}, 'schedule': set(), 'facebookPostsList': set()}, 'relaxation': {'browsing_history': {8}, 'schedule': set(), 'facebookPostsList': set()}, 'techniques': {'browsing_history': {8, 14}, 'schedule': set(), 'facebookPostsList': set()}, 'relief': {'browsing_history': {8}, 'schedule': set(), 'facebookPostsList': set()}, 'webmd': {'browsing_history': {8}, 'schedule': set(), 'facebookPostsList': set()}, 'bike': {'browsing_history': {9}, 'schedule': set(), 'facebookPostsList': set()}, 'deals': {'browsing_history': {9}, 'schedule': set(), 'facebookPostsList': set()}, 'amazon': {'browsing_history': {9, 36}, 'schedule': set(), 'facebookPostsList': set()}, 'research': {'browsing_history': {10, 12, 38}, 'schedule': {18, 26, 2, 10}, 'facebookPostsList': set()}, 'methods': {'browsing_history': {10}, 'schedule': set(), 'facebookPostsList': set()}, 'google': {'browsing_history': {32, 33, 35, 37, 38, 10, 12, 15, 18, 30, 31}, 'schedule': set(), 'facebookPostsList': set()}, 'search': {'browsing_history': {32, 33, 35, 37, 10, 15, 18, 30, 31}, 'schedule': set(), 'facebookPostsList': set()}, 'wikipedia': {'browsing_history': {11}, 'schedule': set(), 'facebookPostsList': set()}, 'articles': {'browsing_history': {35, 12, 38}, 'schedule': set(), 'facebookPostsList': set()}, 'scholar': {'browsing_history': {12, 38}, 'schedule': set(), 'facebookPostsList': set()}, 'medium': {'browsing_history': {13}, 'schedule': set(), 'facebookPostsList': set()}, 'fashion': {'browsing_history': {16}, 'schedule': set(), 'facebookPostsList': set()}, 'trends': {'browsing_history': {16}, 'schedule': set(), 'facebookPostsList': set()}, 'vogue': {'browsing_history': {16}, 'schedule': set(), 'facebookPostsList': set()}, 'movie': {'browsing_history': {18, 39}, 'schedule': {23, 31, 7}, 'facebookPostsList': set()}, 'streaming': {'browsing_history': {18}, 'schedule': set(), 'facebookPostsList': set()}, 'healthy': {'browsing_history': {19}, 'schedule': set(), 'facebookPostsList': set()}, 'dinner': {'browsing_history': {19}, 'schedule': set(), 'facebookPostsList': set()}, 'recipes': {'browsing_history': {19}, 'schedule': set(), 'facebookPostsList': set()}, 'food': {'browsing_history': {19}, 'schedule': set(), 'facebookPostsList': set()}, 'network': {'browsing_history': {19}, 'schedule': set(), 'facebookPostsList': set()}, 'internship': {'browsing_history': {20}, 'schedule': {18, 26}, 'facebookPostsList': set()}, 'opportunities': {'browsing_history': {20}, 'schedule': {18, 26}, 'facebookPostsList': set()}, 'balance': {'browsing_history': {20}, 'schedule': set(), 'facebookPostsList': set()}, 'careers': {'browsing_history': {20}, 'schedule': set(), 'facebookPostsList': set()}, 'yoga': {'browsing_history': {24, 21, 22, 23}, 'schedule': {22}, 'facebookPostsList': set()}, 'classes': {'browsing_history': {31, 21, 23}, 'schedule': {0, 8, 16, 24}, 'facebookPostsList': set()}, 'urbanclap': {'browsing_history': {21}, 'schedule': set(), 'facebookPostsList': set()}, 'right': {'browsing_history': {24}, 'schedule': set(), 'facebookPostsList': set()}, 'mat': {'browsing_history': {24}, 'schedule': set(), 'facebookPostsList': set()}, 'tomatoes': {'browsing_history': {26, 34}, 'schedule': set(), 'facebookPostsList': set()}, 'importance': {'browsing_history': {29}, 'schedule': set(), 'facebookPostsList': set()}, 'psychcentral': {'browsing_history': {29}, 'schedule': set(), 'facebookPostsList': set()}, 'fitness': {'browsing_history': {31}, 'schedule': {29}, 'facebookPostsList': set()}, 'diy': {'browsing_history': {32}, 'schedule': {30}, 'facebookPostsList': set()}, 'home': {'browsing_history': {32}, 'schedule': {5, 6, 30}, 'facebookPostsList': set()}, 'decor': {'browsing_history': {32}, 'schedule': {30}, 'facebookPostsList': set()}, 'ideas': {'browsing_history': {32}, 'schedule': set(), 'facebookPostsList': set()}, 'wreath': {'browsing_history': {33}, 'schedule': set(), 'facebookPostsList': set()}, 'shopping': {'browsing_history': {36}, 'schedule': set(), 'facebookPostsList': set()}, 'clothes': {'browsing_history': {36}, 'schedule': set(), 'facebookPostsList': set()}, 'tricks': {'browsing_history': {37}, 'schedule': set(), 'facebookPostsList': set()}, 'trailers': {'browsing_history': {39}, 'schedule': set(), 'facebookPostsList': set()}, 'youtube': {'browsing_history': {39}, 'schedule': set(), 'facebookPostsList': set()}, 'degree': {'browsing_history': set(), 'schedule': {0, 8, 16, 24}, 'facebookPostsList': set()}, 'sales': {'browsing_history': set(), 'schedule': {1, 4, 9, 12, 17, 20, 25, 28}, 'facebookPostsList': set()}, 'associate': {'browsing_history': set(), 'schedule': {1, 4, 9, 12, 17, 20, 25, 28}, 'facebookPostsList': set()}, 'retail': {'browsing_history': set(), 'schedule': {1, 4, 9, 12, 17, 20, 25, 28}, 'facebookPostsList': set()}, 'store': {'browsing_history': set(), 'schedule': {1, 4, 9, 12, 17, 20, 25, 28}, 'facebookPostsList': set()}, 'project': {'browsing_history': set(), 'schedule': {2, 10, 30}, 'facebookPostsList': set()}, 'lunch': {'browsing_history': set(), 'schedule': {11, 19, 3, 27}, 'facebookPostsList': set()}, 'local': {'browsing_history': set(), 'schedule': {11, 19, 3, 27}, 'facebookPostsList': set()}, 'cafe': {'browsing_history': set(), 'schedule': {11, 19, 3, 27}, 'facebookPostsList': set()}, 'twitter': {'browsing_history': set(), 'schedule': {5}, 'facebookPostsList': set()}, 'reddit': {'browsing_history': set(), 'schedule': {6}, 'facebookPostsList': set()}, 'platform': {'browsing_history': set(), 'schedule': {7}, 'facebookPostsList': set()}, 'chat': {'browsing_history': set(), 'schedule': {13}, 'facebookPostsList': set()}, 'family': {'browsing_history': set(), 'schedule': {13}, 'facebookPostsList': set()}, 'members': {'browsing_history': set(), 'schedule': {13}, 'facebookPostsList': set()}, 'favorite': {'browsing_history': set(), 'schedule': {14}, 'facebookPostsList': set()}, 'tv': {'browsing_history': set(), 'schedule': {14}, 'facebookPostsList': set()}, 'shows': {'browsing_history': set(), 'schedule': {14}, 'facebookPostsList': set()}, 'virtual': {'browsing_history': set(), 'schedule': {21, 15}, 'facebookPostsList': set()}, 'hangout': {'browsing_history': set(), 'schedule': {15}, 'facebookPostsList': set()}, 'friends': {'browsing_history': set(), 'schedule': {15}, 'facebookPostsList': set()}, 'book': {'browsing_history': set(), 'schedule': {21}, 'facebookPostsList': set()}, 'club': {'browsing_history': set(), 'schedule': {21}, 'facebookPostsList': set()}, 'meeting': {'browsing_history': set(), 'schedule': {21}, 'facebookPostsList': set()}, 'session': {'browsing_history': set(), 'schedule': {22}, 'facebookPostsList': set()}, 'class': {'browsing_history': set(), 'schedule': {29}, 'facebookPostsList': set()}}}\n"
          ]
        }
      ]
    },
    {
      "cell_type": "code",
      "source": [
        "def get_common_keywords(all_keywords):\n",
        "    common_keywords = None\n",
        "\n",
        "    for persona in all_keywords:\n",
        "        keywords = set(all_keywords[persona].keys())\n",
        "        if common_keywords is None:\n",
        "            common_keywords = keywords\n",
        "        else:\n",
        "            common_keywords = common_keywords.intersection(keywords)\n",
        "    print(f\"common kws: {len(common_keywords)}\")\n",
        "    return common_keywords"
      ],
      "metadata": {
        "id": "Q_QOnsQJ6-8G"
      },
      "execution_count": 22,
      "outputs": []
    },
    {
      "cell_type": "code",
      "source": [
        "def get_distinct_keywords(all_keywords, common_keywords, person_id_lst):\n",
        "    res = {}\n",
        "    for pid in person_id_lst:\n",
        "        res[pid] = set(all_keywords[pid].keys()) - common_keywords\n",
        "    return res\n",
        "    # {pid1: {w1, w2, ...}, pid2: {...}, ...}\n"
      ],
      "metadata": {
        "id": "q2QsVABKig0F"
      },
      "execution_count": 36,
      "outputs": []
    },
    {
      "cell_type": "code",
      "source": [
        "pid_20 = '4b81a719-4d63-4a0d-92be-5087c71a40b0_'\n",
        "pid_45 = '4b81a719-4d63-4a0d-92be-5087c71a40b0_a120fce9-2511-422b-9c80-cb739e59ef6a'\n",
        "pid_80 = '4b81a719-4d63-4a0d-92be-5087c71a40b0_199bea01-2cba-4381-9980-fad5a40da13e'"
      ],
      "metadata": {
        "id": "jZz7tXJrkyTz"
      },
      "execution_count": 33,
      "outputs": []
    },
    {
      "cell_type": "code",
      "source": [
        "common_keywords = get_common_keywords(all_persona_keywords)\n",
        "distinct_keywords = get_distinct_keywords(all_persona_keywords, common_keywords, [pid_20, pid_45, pid_80])"
      ],
      "metadata": {
        "colab": {
          "base_uri": "https://localhost:8080/"
        },
        "id": "yi3wSxzJWdug",
        "outputId": "f0b97c30-673f-4605-e51e-ff95a7ce5557"
      },
      "execution_count": 35,
      "outputs": [
        {
          "output_type": "stream",
          "name": "stdout",
          "text": [
            "common kws: 82\n"
          ]
        }
      ]
    },
    {
      "cell_type": "markdown",
      "source": [
        "reference: https://github.com/alexandres/lexvec?tab=readme-ov-file#pre-trained-vectors"
      ],
      "metadata": {
        "id": "RgAhMKiAOx9p"
      }
    },
    {
      "cell_type": "code",
      "source": [
        "import gensim\n",
        "model = gensim.models.KeyedVectors.load_word2vec_format('/content/drive/My Drive/adAuditing/lexvec.enwiki+newscrawl.300d.W.pos.vectors', binary=False)"
      ],
      "metadata": {
        "id": "2QV88AvM8ONG"
      },
      "execution_count": 10,
      "outputs": []
    },
    {
      "cell_type": "code",
      "source": [
        "def get_vec_word_dic(distinct_keywords, model):\n",
        "    vec_word_dic = {}       # {pid1: {vec1: word1, ...}, ...}\n",
        "    ignored_words = set()\n",
        "    for pid, words in distinct_keywords.items():\n",
        "        vec_word_dic[pid] = {}\n",
        "        for word in words:\n",
        "            try:\n",
        "                vec_word_dic[pid][tuple(model[word])] = word\n",
        "            except KeyError:\n",
        "                ignored_words.add(word)\n",
        "        print(f'encode {len(vec_word_dic[pid])} words for {pid}')\n",
        "    print(f'{len(ignored_words)} words ignored: {ignored_words}')\n",
        "    return vec_word_dic, ignored_words"
      ],
      "metadata": {
        "id": "qMb-kuXJgoX1"
      },
      "execution_count": 85,
      "outputs": []
    },
    {
      "cell_type": "code",
      "source": [
        "vec_word_dic, ignored_words = get_vec_word_dic(distinct_keywords, model)"
      ],
      "metadata": {
        "colab": {
          "base_uri": "https://localhost:8080/"
        },
        "id": "ZKxbXsuyhNEz",
        "outputId": "73547a0b-9013-4c8e-dfcf-dfee6fe2c710"
      },
      "execution_count": 86,
      "outputs": [
        {
          "output_type": "stream",
          "name": "stdout",
          "text": [
            "encode 23 words for 4b81a719-4d63-4a0d-92be-5087c71a40b0_\n",
            "encode 48 words for 4b81a719-4d63-4a0d-92be-5087c71a40b0_a120fce9-2511-422b-9c80-cb739e59ef6a\n",
            "encode 112 words for 4b81a719-4d63-4a0d-92be-5087c71a40b0_199bea01-2cba-4381-9980-fad5a40da13e\n",
            "3 words ignored: {'volunteermatch', 'ravelry', 'freemake'}\n"
          ]
        }
      ]
    },
    {
      "cell_type": "code",
      "source": [
        "from sklearn.neighbors import LocalOutlierFactor"
      ],
      "metadata": {
        "id": "KsQBLHPEb9oA"
      },
      "execution_count": 87,
      "outputs": []
    },
    {
      "cell_type": "code",
      "source": [
        "def get_outliers(vec_word_dic, pid):\n",
        "\n",
        "    all_vectors = list(vec_word_dic[pid].keys())\n",
        "    length = len(all_vectors)     # all_vectors[0:length] are vectors of target pid\n",
        "    # print(length)\n",
        "    for id, word_dic in vec_word_dic.items():\n",
        "        if id != pid:\n",
        "            all_vectors += list(word_dic.keys())\n",
        "    # print(len(all_vectors))\n",
        "\n",
        "    # Fit LocalOutlierFactor model\n",
        "    lof_model = LocalOutlierFactor(n_neighbors=40, contamination=0.2)\n",
        "    lof_model.fit(all_vectors)\n",
        "\n",
        "    # Predict outliers\n",
        "    outlier_labels = lof_model.fit_predict(all_vectors)\n",
        "\n",
        "    outlier_vectors_set = [word for idx, word in enumerate(all_vectors[0:length]) if outlier_labels[idx] == -1]\n",
        "    print(len(outlier_vectors_set), 'outliers found')\n",
        "\n",
        "    return {vec_word_dic[pid][vec] for vec in outlier_vectors_set}"
      ],
      "metadata": {
        "id": "ivWFP9SdR5NQ"
      },
      "execution_count": 126,
      "outputs": []
    },
    {
      "cell_type": "code",
      "source": [
        "get_outliers(vec_word_dic, pid_20)"
      ],
      "metadata": {
        "colab": {
          "base_uri": "https://localhost:8080/"
        },
        "id": "8A843kPMaQWy",
        "outputId": "b777925f-3783-4060-b9b7-96d7499b358d"
      },
      "execution_count": 127,
      "outputs": [
        {
          "output_type": "stream",
          "name": "stdout",
          "text": [
            "4 outliers found\n"
          ]
        },
        {
          "output_type": "execute_result",
          "data": {
            "text/plain": [
              "{'degree', 'hangout', 'reddit', 'virtual'}"
            ]
          },
          "metadata": {},
          "execution_count": 127
        }
      ]
    },
    {
      "cell_type": "code",
      "source": [
        "get_outliers(vec_word_dic, pid_45)"
      ],
      "metadata": {
        "colab": {
          "base_uri": "https://localhost:8080/"
        },
        "id": "nf2PbJUdniOi",
        "outputId": "f9c6b737-6f6e-438f-f59e-56f6a50c9430"
      },
      "execution_count": 128,
      "outputs": [
        {
          "output_type": "stream",
          "name": "stdout",
          "text": [
            "4 outliers found\n"
          ]
        },
        {
          "output_type": "execute_result",
          "data": {
            "text/plain": [
              "{'laundry', 'mattresses', 'therapy', 'wellness'}"
            ]
          },
          "metadata": {},
          "execution_count": 128
        }
      ]
    },
    {
      "cell_type": "code",
      "source": [
        "get_outliers(vec_word_dic, pid_80)"
      ],
      "metadata": {
        "colab": {
          "base_uri": "https://localhost:8080/"
        },
        "id": "HrbXELTCnlBL",
        "outputId": "fc69d813-17ef-4d74-aee3-9c303b52c198"
      },
      "execution_count": 129,
      "outputs": [
        {
          "output_type": "stream",
          "name": "stdout",
          "text": [
            "29 outliers found\n"
          ]
        },
        {
          "output_type": "execute_result",
          "data": {
            "text/plain": [
              "{'allrecipes',\n",
              " 'arrivals',\n",
              " 'beginners',\n",
              " 'catalog',\n",
              " 'cup',\n",
              " 'discussion',\n",
              " 'forecast',\n",
              " 'gatsby',\n",
              " 'goodreads',\n",
              " 'grandchildren',\n",
              " 'housekeeping',\n",
              " 'knitting',\n",
              " 'maps',\n",
              " 'mattresses',\n",
              " 'meetup',\n",
              " 'michaels',\n",
              " 'mockingbird',\n",
              " 'oregon',\n",
              " 'oregonian',\n",
              " 'portland',\n",
              " 'samantha',\n",
              " 'scarf',\n",
              " 'scarves',\n",
              " 'spruce',\n",
              " 'therapy',\n",
              " 'virtual',\n",
              " 'wellness',\n",
              " 'yarn',\n",
              " 'zoom'}"
            ]
          },
          "metadata": {},
          "execution_count": 129
        }
      ]
    }
  ]
}