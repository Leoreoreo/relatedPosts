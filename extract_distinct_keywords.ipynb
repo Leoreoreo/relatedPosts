{
  "nbformat": 4,
  "nbformat_minor": 0,
  "metadata": {
    "colab": {
      "provenance": []
    },
    "kernelspec": {
      "name": "python3",
      "display_name": "Python 3"
    },
    "language_info": {
      "name": "python"
    }
  },
  "cells": [
    {
      "cell_type": "code",
      "execution_count": 10,
      "metadata": {
        "colab": {
          "base_uri": "https://localhost:8080/"
        },
        "id": "vqSg16cpxhlp",
        "outputId": "deae1706-b356-4571-bf36-f7d1e4767f7a"
      },
      "outputs": [
        {
          "output_type": "stream",
          "name": "stdout",
          "text": [
            "Drive already mounted at /content/drive; to attempt to forcibly remount, call drive.mount(\"/content/drive\", force_remount=True).\n"
          ]
        }
      ],
      "source": [
        "from google.colab import drive\n",
        "\n",
        "drive.mount('/content/drive')"
      ]
    },
    {
      "cell_type": "code",
      "source": [
        "data_folder_path = '/content/drive/My Drive/adAuditing/personas_new/age'"
      ],
      "metadata": {
        "id": "0huPI5KYABHh"
      },
      "execution_count": 11,
      "outputs": []
    },
    {
      "cell_type": "code",
      "source": [
        "import json, os"
      ],
      "metadata": {
        "id": "OhP6Pcy9DRSH"
      },
      "execution_count": 12,
      "outputs": []
    },
    {
      "cell_type": "markdown",
      "source": [
        "reference: https://www.analyticsvidhya.com/blog/2022/03/keyword-extraction-methods-from-documents-in-nlp/"
      ],
      "metadata": {
        "id": "SOyCMp9ZdsUh"
      }
    },
    {
      "cell_type": "code",
      "source": [
        "extract_persona_info()"
      ],
      "metadata": {
        "colab": {
          "base_uri": "https://localhost:8080/"
        },
        "id": "I6WXBGhUDRSG",
        "outputId": "25209c35-2ad3-4a5c-f96b-da22cd6edfc3"
      },
      "execution_count": 14,
      "outputs": [
        {
          "output_type": "execute_result",
          "data": {
            "text/plain": [
              "[{'pid': '4b81a719-4d63-4a0d-92be-5087c71a40b0_a120fce9-2511-422b-9c80-cb739e59ef6a',\n",
              "  'first_name': 'Samantha',\n",
              "  'last_name': 'Miller',\n",
              "  'age': '45',\n",
              "  'profile': \"Samantha Miller is a 45-year-old Caucasian female living in 456 Oak St, Portland, Oregon 97201. She speaks English and holds a bachelor's degree in Psychology. Samantha's date of birth is 09/14/1979. She works full-time in the healthcare industry and is employed by a medium-sized employer (51-250 employees). She is a mental health counselor, with an annual income of $60,000. Samantha is a homeowner. She is divorced and has one teenage child. In her free time, she enjoys reading self-help books and watching classic movies. When using her computer, she prefers using a desktop for its larger screen and ease of navigation. On the internet, she likes to shop for household items and read articles on mental wellness and personal development.\"},\n",
              " {'pid': '4b81a719-4d63-4a0d-92be-5087c71a40b0_199bea01-2cba-4381-9980-fad5a40da13e',\n",
              "  'first_name': 'Samantha',\n",
              "  'last_name': 'Miller',\n",
              "  'age': '80',\n",
              "  'profile': \"Samantha Miller is an 80-year-old Caucasian female residing in 456 Oak St, Portland, Oregon 97201. She speaks English and holds a bachelor's degree in Psychology. Samantha was born on 09/14/1944. Having retired from a long career in the retail industry, where she worked as a store manager with a final annual income of $50,000, Samantha is now enjoying her golden years as a homeowner. She is widowed and has two grandchildren. Samantha spends her free time reading newspapers and watching classic movies on her television. She prefers using a desktop computer for its reliability and enjoys browsing online for books and knitting supplies.\"},\n",
              " {'pid': '4b81a719-4d63-4a0d-92be-5087c71a40b0_',\n",
              "  'first_name': 'Samantha',\n",
              "  'last_name': 'Miller',\n",
              "  'age': '20',\n",
              "  'profile': \"Samantha Miller is a 20-year-old Caucasian female living in 456 Oak St, Portland, Oregon 97201. She speaks English and is currently pursuing a bachelor's degree in Psychology. Samantha's date of birth is 09/14/2004. She works part-time in the retail industry and is employed by a small employer (1-50 employees). She is a sales associate, with an annual income of $25,000. Samantha is a renter. She is single and does not have any children. In her spare time, she enjoys browsing social media on her mobile phone and watching movies on streaming platforms. When using her computer, she prefers using a laptop for its convenience. On the internet, she likes to shop for clothes and read blogs about mental health and self-care.\"}]"
            ]
          },
          "metadata": {},
          "execution_count": 14
        }
      ]
    },
    {
      "cell_type": "code",
      "source": [
        "import spacy\n",
        "from collections import Counter\n",
        "from string import punctuation\n",
        "nlp = spacy.load(\"en_core_web_sm\")\n",
        "# nlp = en_core_web_sm.load()\n",
        "def get_hotwords(text):\n",
        "    result = []\n",
        "    pos_tag = ['PROPN', 'ADJ', 'NOUN']\n",
        "    doc = nlp(text.lower())\n",
        "    for token in doc:\n",
        "        if(token.text in nlp.Defaults.stop_words or token.text in punctuation):\n",
        "            continue\n",
        "        if(token.pos_ in pos_tag):\n",
        "            result.append(token.text)\n",
        "    return result\n"
      ],
      "metadata": {
        "id": "yTIsiT_1Gb5z"
      },
      "execution_count": 15,
      "outputs": []
    },
    {
      "cell_type": "code",
      "source": [
        "def extractKeywords():\n",
        "    res = {}\n",
        "    for file_name in os.listdir(data_folder_path):\n",
        "        if not file_name.endswith('.json'): continue\n",
        "        with open(os.path.join(data_folder_path, file_name), 'r') as file:\n",
        "            data = json.load(file)['data']\n",
        "            pid = file_name.split('.')[0]\n",
        "            res[pid] = {}\n",
        "            ignore = {data[\"first_name\"].lower(), data[\"last_name\"].lower()}\n",
        "            for bh in data['browsing_history']:\n",
        "                keywords = get_hotwords(bh['title'])\n",
        "                for kw in keywords:\n",
        "                    if kw.lower() in ignore: continue\n",
        "                    if kw in res[pid]:\n",
        "                        res[pid][kw]['browsing_history'].add(bh['id'])\n",
        "                    else:\n",
        "                        res[pid][kw] = {'browsing_history': {bh['id']}, 'schedule': set(), 'facebookPostsList': set()}\n",
        "            for sch in data['schedule']:\n",
        "                keywords = get_hotwords(sch['event'])\n",
        "                for kw in keywords:\n",
        "                    if kw.lower() in ignore: continue\n",
        "                    if kw in res[pid]:\n",
        "                        res[pid][kw]['schedule'].add(sch['id'])\n",
        "                    else:\n",
        "                        res[pid][kw] = {'browsing_history': set(), 'schedule': {sch['id']}, 'facebookPostsList': set()}\n",
        "    print(res)\n",
        "    return res\n",
        "\n",
        "# {pid1 : {kw1 : {'browsing_history' : {id1, id2...}, {'schedule' : {id1, id2...}}, {'facebookPostsList' : {id1, id2...}}}, kw2: ...}, pid2 : {...}, pid3 : {...}}\n",
        "\n",
        "\n",
        "            # for pc in data['facebookPostsList']:\n",
        "            #   passage_embedding = model.encode(pc['content'])\n",
        "            #   if util.dot_score(query_embedding, passage_embedding) > THRESHOLD:\n",
        "            #     result['facebookPostsList'].append(pc['id'])\n"
      ],
      "metadata": {
        "id": "XXyMX0MbI9KL"
      },
      "execution_count": 16,
      "outputs": []
    },
    {
      "cell_type": "code",
      "source": [
        "all_persona_keywords = extractKeywords()"
      ],
      "metadata": {
        "id": "7JiCzUOvNuXZ",
        "colab": {
          "base_uri": "https://localhost:8080/"
        },
        "outputId": "6d3a06f6-4863-4db2-a879-489008907b09"
      },
      "execution_count": 17,
      "outputs": [
        {
          "output_type": "stream",
          "name": "stdout",
          "text": [
            "{'4b81a719-4d63-4a0d-92be-5087c71a40b0_a120fce9-2511-422b-9c80-cb739e59ef6a': {'psychology': {'browsing_history': {0, 35, 38, 10, 11, 12, 45, 46, 30}, 'schedule': set(), 'facebookPostsList': set()}, 'today': {'browsing_history': {0, 35, 45, 46}, 'schedule': set(), 'facebookPostsList': set()}, 'therapist': {'browsing_history': {0}, 'schedule': set(), 'facebookPostsList': set()}, 'mental': {'browsing_history': {1, 4, 5, 13, 45, 22, 55, 59, 29}, 'schedule': set(), 'facebookPostsList': set()}, 'health': {'browsing_history': {1, 4, 5, 13, 22, 55, 29}, 'schedule': set(), 'facebookPostsList': set()}, 'blogs': {'browsing_history': {1, 13}, 'schedule': set(), 'facebookPostsList': set()}, 'stress': {'browsing_history': {8, 2, 27}, 'schedule': set(), 'facebookPostsList': set()}, 'anxiety': {'browsing_history': {2}, 'schedule': set(), 'facebookPostsList': set()}, 'best': {'browsing_history': {3, 6, 70, 40, 9, 60, 17, 50, 21, 23, 25, 28, 31}, 'schedule': set(), 'facebookPostsList': set()}, 'online': {'browsing_history': {3, 36, 15, 23, 28, 31}, 'schedule': set(), 'facebookPostsList': set()}, 'clothing': {'browsing_history': {3, 28, 15}, 'schedule': set(), 'facebookPostsList': set()}, 'stores': {'browsing_history': {3, 28, 15}, 'schedule': set(), 'facebookPostsList': set()}, 'women': {'browsing_history': {3, 28}, 'schedule': set(), 'facebookPostsList': set()}, 'elle': {'browsing_history': {3, 28}, 'schedule': set(), 'facebookPostsList': set()}, 'benefits': {'browsing_history': {48, 4, 22}, 'schedule': set(), 'facebookPostsList': set()}, 'exercise': {'browsing_history': {4}, 'schedule': set(), 'facebookPostsList': set()}, 'verywell': {'browsing_history': {4, 22}, 'schedule': set(), 'facebookPostsList': set()}, 'mind': {'browsing_history': {4, 22}, 'schedule': set(), 'facebookPostsList': set()}, 'self': {'browsing_history': {37, 5, 69, 14, 79, 58, 29}, 'schedule': {8, 41, 19, 30}, 'facebookPostsList': set()}, 'care': {'browsing_history': {29, 37, 5, 14}, 'schedule': set(), 'facebookPostsList': set()}, 'tips': {'browsing_history': {64, 37, 5, 74, 14, 53}, 'schedule': set(), 'facebookPostsList': set()}, 'better': {'browsing_history': {5}, 'schedule': set(), 'facebookPostsList': set()}, 'healthline': {'browsing_history': {24, 5, 14}, 'schedule': set(), 'facebookPostsList': set()}, 'movies': {'browsing_history': {34, 67, 6, 77, 17, 56, 25, 26}, 'schedule': set(), 'facebookPostsList': set()}, 'platforms': {'browsing_history': {18, 6}, 'schedule': set(), 'facebookPostsList': set()}, 'imdb': {'browsing_history': {67, 6, 77, 17, 25}, 'schedule': set(), 'facebookPostsList': set()}, 'memory': {'browsing_history': {7}, 'schedule': set(), 'facebookPostsList': set()}, 'cognitive': {'browsing_history': {11, 7}, 'schedule': set(), 'facebookPostsList': set()}, 'function': {'browsing_history': {7}, 'schedule': set(), 'facebookPostsList': set()}, 'mayo': {'browsing_history': {27, 7}, 'schedule': set(), 'facebookPostsList': set()}, 'clinic': {'browsing_history': {27, 7}, 'schedule': set(), 'facebookPostsList': set()}, 'relaxation': {'browsing_history': {8}, 'schedule': set(), 'facebookPostsList': set()}, 'techniques': {'browsing_history': {68, 8, 14, 47, 78, 57, 59}, 'schedule': {9, 42, 20, 31}, 'facebookPostsList': set()}, 'relief': {'browsing_history': {8}, 'schedule': set(), 'facebookPostsList': set()}, 'webmd': {'browsing_history': {8}, 'schedule': set(), 'facebookPostsList': set()}, 'bike': {'browsing_history': {9}, 'schedule': set(), 'facebookPostsList': set()}, 'deals': {'browsing_history': {9}, 'schedule': set(), 'facebookPostsList': set()}, 'amazon': {'browsing_history': {9, 36, 69, 79}, 'schedule': set(), 'facebookPostsList': set()}, 'research': {'browsing_history': {10, 12, 38}, 'schedule': set(), 'facebookPostsList': set()}, 'methods': {'browsing_history': {10}, 'schedule': set(), 'facebookPostsList': set()}, 'google': {'browsing_history': {10, 12, 15, 18, 30, 31, 32, 33, 35, 37, 38, 43, 44, 47, 48, 49, 63, 64, 65, 66, 68, 73, 74, 75, 76, 78}, 'schedule': set(), 'facebookPostsList': set()}, 'search': {'browsing_history': {10, 15, 18, 30, 31, 32, 33, 35, 37, 43, 44, 47, 48, 49, 63, 64, 65, 66, 68, 73, 74, 75, 76, 78}, 'schedule': set(), 'facebookPostsList': set()}, 'wikipedia': {'browsing_history': {11}, 'schedule': set(), 'facebookPostsList': set()}, 'articles': {'browsing_history': {35, 12, 38}, 'schedule': set(), 'facebookPostsList': set()}, 'scholar': {'browsing_history': {12, 38}, 'schedule': set(), 'facebookPostsList': set()}, 'medium': {'browsing_history': {13}, 'schedule': set(), 'facebookPostsList': set()}, 'fashion': {'browsing_history': {16}, 'schedule': set(), 'facebookPostsList': set()}, 'trends': {'browsing_history': {16}, 'schedule': set(), 'facebookPostsList': set()}, 'vogue': {'browsing_history': {16}, 'schedule': set(), 'facebookPostsList': set()}, 'movie': {'browsing_history': {18, 39}, 'schedule': {17, 28, 6, 39}, 'facebookPostsList': set()}, 'streaming': {'browsing_history': {18}, 'schedule': set(), 'facebookPostsList': set()}, 'healthy': {'browsing_history': {19, 54}, 'schedule': set(), 'facebookPostsList': set()}, 'dinner': {'browsing_history': {65, 75, 44, 19, 54}, 'schedule': {26, 4, 37, 15}, 'facebookPostsList': set()}, 'recipes': {'browsing_history': {65, 75, 44, 19, 54}, 'schedule': set(), 'facebookPostsList': set()}, 'food': {'browsing_history': {19}, 'schedule': set(), 'facebookPostsList': set()}, 'network': {'browsing_history': {19}, 'schedule': set(), 'facebookPostsList': set()}, 'internship': {'browsing_history': {20}, 'schedule': set(), 'facebookPostsList': set()}, 'opportunities': {'browsing_history': {20}, 'schedule': set(), 'facebookPostsList': set()}, 'balance': {'browsing_history': {20}, 'schedule': set(), 'facebookPostsList': set()}, 'careers': {'browsing_history': {20}, 'schedule': set(), 'facebookPostsList': set()}, 'yoga': {'browsing_history': {24, 21, 22, 23}, 'schedule': set(), 'facebookPostsList': set()}, 'classes': {'browsing_history': {31, 21, 23}, 'schedule': set(), 'facebookPostsList': set()}, 'urbanclap': {'browsing_history': {21}, 'schedule': set(), 'facebookPostsList': set()}, 'right': {'browsing_history': {24}, 'schedule': set(), 'facebookPostsList': set()}, 'mat': {'browsing_history': {24}, 'schedule': set(), 'facebookPostsList': set()}, 'tomatoes': {'browsing_history': {26, 34}, 'schedule': set(), 'facebookPostsList': set()}, 'importance': {'browsing_history': {45, 29}, 'schedule': set(), 'facebookPostsList': set()}, 'psychcentral': {'browsing_history': {29}, 'schedule': set(), 'facebookPostsList': set()}, 'fitness': {'browsing_history': {31}, 'schedule': set(), 'facebookPostsList': set()}, 'diy': {'browsing_history': {32}, 'schedule': set(), 'facebookPostsList': set()}, 'home': {'browsing_history': {32}, 'schedule': {0, 2, 4, 6, 8, 10, 11, 13, 15, 17, 19, 21, 22, 24, 26, 28, 30, 32, 33, 35, 37, 39, 41, 43}, 'facebookPostsList': set()}, 'decor': {'browsing_history': {32}, 'schedule': set(), 'facebookPostsList': set()}, 'ideas': {'browsing_history': {32}, 'schedule': set(), 'facebookPostsList': set()}, 'wreath': {'browsing_history': {33}, 'schedule': set(), 'facebookPostsList': set()}, 'shopping': {'browsing_history': {36}, 'schedule': set(), 'facebookPostsList': set()}, 'clothes': {'browsing_history': {36}, 'schedule': set(), 'facebookPostsList': set()}, 'tricks': {'browsing_history': {53, 37}, 'schedule': set(), 'facebookPostsList': set()}, 'trailers': {'browsing_history': {39}, 'schedule': set(), 'facebookPostsList': set()}, 'youtube': {'browsing_history': {39}, 'schedule': set(), 'facebookPostsList': set()}, 'consumer': {'browsing_history': {70, 71, 40, 41, 50, 51, 60, 61}, 'schedule': set(), 'facebookPostsList': set()}, 'reports': {'browsing_history': {70, 71, 40, 41, 50, 51, 60, 61}, 'schedule': set(), 'facebookPostsList': set()}, 'mattresses': {'browsing_history': {40, 50, 60, 70}, 'schedule': set(), 'facebookPostsList': set()}, 'product': {'browsing_history': {41, 51, 61, 71}, 'schedule': set(), 'facebookPostsList': set()}, 'reviews': {'browsing_history': {71, 72, 41, 42, 51, 52, 61, 62}, 'schedule': set(), 'facebookPostsList': set()}, 'ratings': {'browsing_history': {41, 51, 61, 71}, 'schedule': set(), 'facebookPostsList': set()}, 'examples': {'browsing_history': {72, 42, 52, 62}, 'schedule': set(), 'facebookPostsList': set()}, 'customer': {'browsing_history': {72, 42, 52, 62}, 'schedule': set(), 'facebookPostsList': set()}, 'business': {'browsing_history': {72, 42, 52, 62}, 'schedule': set(), 'facebookPostsList': set()}, 'house': {'browsing_history': {73, 43, 53, 63}, 'schedule': {0, 33, 11, 22}, 'facebookPostsList': set()}, 'quick': {'browsing_history': {44}, 'schedule': set(), 'facebookPostsList': set()}, 'easy': {'browsing_history': {65, 75, 44}, 'schedule': set(), 'facebookPostsList': set()}, 'wellness': {'browsing_history': {59, 45}, 'schedule': set(), 'facebookPostsList': set()}, 'strategies': {'browsing_history': {46}, 'schedule': set(), 'facebookPostsList': set()}, 'personal': {'browsing_history': {49, 58, 46}, 'schedule': {32, 10, 43, 21}, 'facebookPostsList': set()}, 'development': {'browsing_history': {58, 46}, 'schedule': set(), 'facebookPostsList': set()}, 'effective': {'browsing_history': {57, 68, 78, 47}, 'schedule': set(), 'facebookPostsList': set()}, 'communication': {'browsing_history': {47}, 'schedule': set(), 'facebookPostsList': set()}, 'therapy': {'browsing_history': {64, 74, 47}, 'schedule': {1, 34, 12, 23}, 'facebookPostsList': set()}, 'counseling': {'browsing_history': {48, 59, 55}, 'schedule': {9, 42, 20, 31}, 'facebookPostsList': set()}, 'training': {'browsing_history': {48}, 'schedule': {9, 42, 20, 31}, 'facebookPostsList': set()}, 'sessions': {'browsing_history': {48, 74, 64}, 'schedule': set(), 'facebookPostsList': set()}, 'documents': {'browsing_history': {49}, 'schedule': {32, 10, 43, 21}, 'facebookPostsList': set()}, 'bills': {'browsing_history': {49}, 'schedule': {32, 10, 43, 21}, 'facebookPostsList': set()}, 'family': {'browsing_history': {65, 75, 54}, 'schedule': {26, 4, 37, 15}, 'facebookPostsList': set()}, 'progress': {'browsing_history': {66, 76, 55}, 'schedule': {16, 27, 5, 38}, 'facebookPostsList': set()}, 'notes': {'browsing_history': {66, 76, 55}, 'schedule': {16, 27, 5, 38}, 'facebookPostsList': set()}, 'classic': {'browsing_history': {56, 67, 77}, 'schedule': {17, 28, 6, 39}, 'facebookPostsList': set()}, 'film': {'browsing_history': {56}, 'schedule': set(), 'facebookPostsList': set()}, 'lover': {'browsing_history': {56}, 'schedule': set(), 'facebookPostsList': set()}, 'collaboration': {'browsing_history': {57, 68, 78}, 'schedule': set(), 'facebookPostsList': set()}, 'teams': {'browsing_history': {57}, 'schedule': set(), 'facebookPostsList': set()}, 'help': {'browsing_history': {58, 69, 79}, 'schedule': {8, 41, 19, 30}, 'facebookPostsList': set()}, 'books': {'browsing_history': {58, 69, 79}, 'schedule': set(), 'facebookPostsList': set()}, 'new': {'browsing_history': {59}, 'schedule': {7, 40, 9, 42, 18, 20, 29, 31}, 'facebookPostsList': set()}, 'clients': {'browsing_history': {66, 76}, 'schedule': {16, 27, 5, 38}, 'facebookPostsList': set()}, 'time': {'browsing_history': {67, 77}, 'schedule': set(), 'facebookPostsList': set()}, 'projects': {'browsing_history': {68, 78}, 'schedule': set(), 'facebookPostsList': set()}, 'laundry': {'browsing_history': set(), 'schedule': {0, 33, 11, 22}, 'facebookPostsList': set()}, 'workplace': {'browsing_history': set(), 'schedule': {1, 3, 5, 7, 9, 12, 14, 16, 18, 20, 23, 25, 27, 29, 31, 34, 36, 38, 40, 42}, 'facebookPostsList': set()}, 'session': {'browsing_history': set(), 'schedule': {1, 34, 9, 42, 12, 20, 23, 31}, 'facebookPostsList': set()}, 'client': {'browsing_history': set(), 'schedule': {1, 34, 12, 23}, 'facebookPostsList': set()}, 'child': {'browsing_history': set(), 'schedule': {24, 2, 35, 13}, 'facebookPostsList': set()}, 'homework': {'browsing_history': set(), 'schedule': {24, 2, 35, 13}, 'facebookPostsList': set()}, 'team': {'browsing_history': set(), 'schedule': {25, 3, 36, 14}, 'facebookPostsList': set()}, 'meeting': {'browsing_history': set(), 'schedule': {25, 3, 36, 14}, 'facebookPostsList': set()}, 'complete': {'browsing_history': set(), 'schedule': {16, 27, 5, 38}, 'facebookPostsList': set()}, 'collaborate': {'browsing_history': set(), 'schedule': {40, 18, 29, 7}, 'facebookPostsList': set()}, 'colleagues': {'browsing_history': set(), 'schedule': {40, 18, 29, 7}, 'facebookPostsList': set()}, 'project': {'browsing_history': set(), 'schedule': {40, 18, 29, 7}, 'facebookPostsList': set()}, 'book': {'browsing_history': set(), 'schedule': {8, 41, 19, 30}, 'facebookPostsList': set()}}, '4b81a719-4d63-4a0d-92be-5087c71a40b0_199bea01-2cba-4381-9980-fad5a40da13e': {'psychology': {'browsing_history': {0, 35, 38, 10, 11, 12, 45, 46, 30}, 'schedule': set(), 'facebookPostsList': set()}, 'today': {'browsing_history': {0, 35, 45, 46}, 'schedule': set(), 'facebookPostsList': set()}, 'therapist': {'browsing_history': {0}, 'schedule': set(), 'facebookPostsList': set()}, 'mental': {'browsing_history': {1, 4, 5, 13, 45, 22, 55, 59, 29}, 'schedule': set(), 'facebookPostsList': set()}, 'health': {'browsing_history': {1, 4, 5, 13, 22, 55, 29}, 'schedule': set(), 'facebookPostsList': set()}, 'blogs': {'browsing_history': {1, 13}, 'schedule': set(), 'facebookPostsList': set()}, 'stress': {'browsing_history': {8, 2, 27}, 'schedule': set(), 'facebookPostsList': set()}, 'anxiety': {'browsing_history': {2}, 'schedule': set(), 'facebookPostsList': set()}, 'best': {'browsing_history': {3, 6, 70, 40, 9, 103, 60, 17, 50, 21, 23, 25, 28, 31}, 'schedule': set(), 'facebookPostsList': set()}, 'online': {'browsing_history': {3, 36, 15, 115, 23, 28, 31}, 'schedule': {38, 2, 26, 14}, 'facebookPostsList': set()}, 'clothing': {'browsing_history': {3, 28, 15}, 'schedule': set(), 'facebookPostsList': set()}, 'stores': {'browsing_history': {3, 28, 109, 15}, 'schedule': set(), 'facebookPostsList': set()}, 'women': {'browsing_history': {3, 28}, 'schedule': set(), 'facebookPostsList': set()}, 'elle': {'browsing_history': {3, 28}, 'schedule': set(), 'facebookPostsList': set()}, 'benefits': {'browsing_history': {48, 4, 22}, 'schedule': set(), 'facebookPostsList': set()}, 'exercise': {'browsing_history': {4}, 'schedule': set(), 'facebookPostsList': set()}, 'verywell': {'browsing_history': {4, 22}, 'schedule': set(), 'facebookPostsList': set()}, 'mind': {'browsing_history': {4, 22}, 'schedule': set(), 'facebookPostsList': set()}, 'self': {'browsing_history': {37, 5, 69, 14, 79, 58, 29}, 'schedule': set(), 'facebookPostsList': set()}, 'care': {'browsing_history': {29, 37, 5, 14}, 'schedule': set(), 'facebookPostsList': set()}, 'tips': {'browsing_history': {64, 96, 37, 5, 74, 14, 53, 87}, 'schedule': set(), 'facebookPostsList': set()}, 'better': {'browsing_history': {5}, 'schedule': set(), 'facebookPostsList': set()}, 'healthline': {'browsing_history': {24, 5, 14}, 'schedule': set(), 'facebookPostsList': set()}, 'movies': {'browsing_history': {34, 67, 6, 103, 77, 17, 114, 56, 25, 26}, 'schedule': set(), 'facebookPostsList': set()}, 'platforms': {'browsing_history': {18, 6}, 'schedule': set(), 'facebookPostsList': set()}, 'imdb': {'browsing_history': {67, 6, 77, 17, 114, 83, 25}, 'schedule': set(), 'facebookPostsList': set()}, 'memory': {'browsing_history': {7}, 'schedule': set(), 'facebookPostsList': set()}, 'cognitive': {'browsing_history': {11, 7}, 'schedule': set(), 'facebookPostsList': set()}, 'function': {'browsing_history': {7}, 'schedule': set(), 'facebookPostsList': set()}, 'mayo': {'browsing_history': {27, 7}, 'schedule': set(), 'facebookPostsList': set()}, 'clinic': {'browsing_history': {27, 7}, 'schedule': set(), 'facebookPostsList': set()}, 'relaxation': {'browsing_history': {8}, 'schedule': set(), 'facebookPostsList': set()}, 'techniques': {'browsing_history': {68, 8, 14, 47, 78, 57, 59}, 'schedule': set(), 'facebookPostsList': set()}, 'relief': {'browsing_history': {8}, 'schedule': set(), 'facebookPostsList': set()}, 'webmd': {'browsing_history': {8}, 'schedule': set(), 'facebookPostsList': set()}, 'bike': {'browsing_history': {9}, 'schedule': set(), 'facebookPostsList': set()}, 'deals': {'browsing_history': {9, 98}, 'schedule': set(), 'facebookPostsList': set()}, 'amazon': {'browsing_history': {36, 69, 9, 79, 93}, 'schedule': set(), 'facebookPostsList': set()}, 'research': {'browsing_history': {10, 12, 38}, 'schedule': set(), 'facebookPostsList': set()}, 'methods': {'browsing_history': {10}, 'schedule': set(), 'facebookPostsList': set()}, 'google': {'browsing_history': {10, 12, 15, 18, 30, 31, 32, 33, 35, 37, 38, 43, 44, 47, 48, 49, 63, 64, 65, 66, 68, 73, 74, 75, 76, 78, 81, 109}, 'schedule': set(), 'facebookPostsList': set()}, 'search': {'browsing_history': {10, 15, 18, 30, 31, 32, 33, 35, 37, 43, 44, 47, 48, 49, 63, 64, 65, 66, 68, 73, 74, 75, 76, 78, 81}, 'schedule': set(), 'facebookPostsList': set()}, 'wikipedia': {'browsing_history': {11, 100}, 'schedule': set(), 'facebookPostsList': set()}, 'articles': {'browsing_history': {35, 12, 38}, 'schedule': set(), 'facebookPostsList': set()}, 'scholar': {'browsing_history': {12, 38}, 'schedule': set(), 'facebookPostsList': set()}, 'medium': {'browsing_history': {13}, 'schedule': set(), 'facebookPostsList': set()}, 'fashion': {'browsing_history': {16}, 'schedule': set(), 'facebookPostsList': set()}, 'trends': {'browsing_history': {16}, 'schedule': set(), 'facebookPostsList': set()}, 'vogue': {'browsing_history': {16}, 'schedule': set(), 'facebookPostsList': set()}, 'movie': {'browsing_history': {18, 83, 39}, 'schedule': {27, 3, 39, 15}, 'facebookPostsList': set()}, 'streaming': {'browsing_history': {18}, 'schedule': set(), 'facebookPostsList': set()}, 'healthy': {'browsing_history': {19, 54}, 'schedule': set(), 'facebookPostsList': set()}, 'dinner': {'browsing_history': {65, 75, 44, 19, 54}, 'schedule': set(), 'facebookPostsList': set()}, 'recipes': {'browsing_history': {65, 75, 44, 19, 54, 86, 118, 95}, 'schedule': set(), 'facebookPostsList': set()}, 'food': {'browsing_history': {19}, 'schedule': set(), 'facebookPostsList': set()}, 'network': {'browsing_history': {19}, 'schedule': set(), 'facebookPostsList': set()}, 'internship': {'browsing_history': {20}, 'schedule': set(), 'facebookPostsList': set()}, 'opportunities': {'browsing_history': {88, 97, 20, 108}, 'schedule': set(), 'facebookPostsList': set()}, 'balance': {'browsing_history': {20}, 'schedule': set(), 'facebookPostsList': set()}, 'careers': {'browsing_history': {20}, 'schedule': set(), 'facebookPostsList': set()}, 'yoga': {'browsing_history': {24, 21, 22, 23}, 'schedule': {35, 11, 47, 23}, 'facebookPostsList': set()}, 'classes': {'browsing_history': {31, 21, 23}, 'schedule': set(), 'facebookPostsList': set()}, 'urbanclap': {'browsing_history': {21}, 'schedule': set(), 'facebookPostsList': set()}, 'right': {'browsing_history': {24}, 'schedule': set(), 'facebookPostsList': set()}, 'mat': {'browsing_history': {24}, 'schedule': set(), 'facebookPostsList': set()}, 'tomatoes': {'browsing_history': {26, 34, 103}, 'schedule': set(), 'facebookPostsList': set()}, 'importance': {'browsing_history': {45, 29}, 'schedule': set(), 'facebookPostsList': set()}, 'psychcentral': {'browsing_history': {29}, 'schedule': set(), 'facebookPostsList': set()}, 'fitness': {'browsing_history': {31}, 'schedule': set(), 'facebookPostsList': set()}, 'diy': {'browsing_history': {32}, 'schedule': set(), 'facebookPostsList': set()}, 'home': {'browsing_history': {32, 106}, 'schedule': {18, 42, 6, 30}, 'facebookPostsList': set()}, 'decor': {'browsing_history': {32}, 'schedule': set(), 'facebookPostsList': set()}, 'ideas': {'browsing_history': {32}, 'schedule': set(), 'facebookPostsList': set()}, 'wreath': {'browsing_history': {33}, 'schedule': set(), 'facebookPostsList': set()}, 'shopping': {'browsing_history': {89, 98, 36}, 'schedule': {9, 45, 21, 33}, 'facebookPostsList': set()}, 'clothes': {'browsing_history': {36}, 'schedule': set(), 'facebookPostsList': set()}, 'tricks': {'browsing_history': {53, 37, 87}, 'schedule': set(), 'facebookPostsList': set()}, 'trailers': {'browsing_history': {39}, 'schedule': set(), 'facebookPostsList': set()}, 'youtube': {'browsing_history': {39}, 'schedule': set(), 'facebookPostsList': set()}, 'consumer': {'browsing_history': {70, 71, 40, 41, 50, 51, 60, 61}, 'schedule': set(), 'facebookPostsList': set()}, 'reports': {'browsing_history': {70, 71, 40, 41, 50, 51, 60, 61}, 'schedule': set(), 'facebookPostsList': set()}, 'mattresses': {'browsing_history': {40, 50, 60, 70}, 'schedule': set(), 'facebookPostsList': set()}, 'product': {'browsing_history': {41, 51, 61, 71}, 'schedule': set(), 'facebookPostsList': set()}, 'reviews': {'browsing_history': {71, 72, 41, 42, 51, 52, 61, 62}, 'schedule': set(), 'facebookPostsList': set()}, 'ratings': {'browsing_history': {41, 51, 61, 71}, 'schedule': set(), 'facebookPostsList': set()}, 'examples': {'browsing_history': {72, 42, 52, 62}, 'schedule': set(), 'facebookPostsList': set()}, 'customer': {'browsing_history': {72, 42, 52, 62}, 'schedule': set(), 'facebookPostsList': set()}, 'business': {'browsing_history': {72, 42, 52, 62}, 'schedule': set(), 'facebookPostsList': set()}, 'house': {'browsing_history': {73, 43, 53, 63}, 'schedule': set(), 'facebookPostsList': set()}, 'quick': {'browsing_history': {44}, 'schedule': set(), 'facebookPostsList': set()}, 'easy': {'browsing_history': {65, 75, 44}, 'schedule': set(), 'facebookPostsList': set()}, 'wellness': {'browsing_history': {59, 45}, 'schedule': set(), 'facebookPostsList': set()}, 'strategies': {'browsing_history': {46}, 'schedule': set(), 'facebookPostsList': set()}, 'personal': {'browsing_history': {49, 58, 46}, 'schedule': set(), 'facebookPostsList': set()}, 'development': {'browsing_history': {58, 46}, 'schedule': set(), 'facebookPostsList': set()}, 'effective': {'browsing_history': {57, 68, 78, 47}, 'schedule': set(), 'facebookPostsList': set()}, 'communication': {'browsing_history': {47}, 'schedule': set(), 'facebookPostsList': set()}, 'therapy': {'browsing_history': {64, 74, 47}, 'schedule': set(), 'facebookPostsList': set()}, 'counseling': {'browsing_history': {48, 59, 55}, 'schedule': set(), 'facebookPostsList': set()}, 'training': {'browsing_history': {48}, 'schedule': set(), 'facebookPostsList': set()}, 'sessions': {'browsing_history': {48, 74, 64}, 'schedule': set(), 'facebookPostsList': set()}, 'documents': {'browsing_history': {49}, 'schedule': set(), 'facebookPostsList': set()}, 'bills': {'browsing_history': {49}, 'schedule': set(), 'facebookPostsList': set()}, 'family': {'browsing_history': {65, 75, 54}, 'schedule': set(), 'facebookPostsList': set()}, 'progress': {'browsing_history': {66, 76, 55}, 'schedule': set(), 'facebookPostsList': set()}, 'notes': {'browsing_history': {66, 76, 55}, 'schedule': set(), 'facebookPostsList': set()}, 'classic': {'browsing_history': {67, 103, 77, 114, 83, 56}, 'schedule': {27, 3, 39, 15}, 'facebookPostsList': set()}, 'film': {'browsing_history': {56}, 'schedule': set(), 'facebookPostsList': set()}, 'lover': {'browsing_history': {56}, 'schedule': set(), 'facebookPostsList': set()}, 'collaboration': {'browsing_history': {57, 68, 78}, 'schedule': set(), 'facebookPostsList': set()}, 'teams': {'browsing_history': {57}, 'schedule': set(), 'facebookPostsList': set()}, 'help': {'browsing_history': {58, 69, 79}, 'schedule': set(), 'facebookPostsList': set()}, 'books': {'browsing_history': {69, 107, 79, 87, 58, 93}, 'schedule': {16, 40, 4, 28}, 'facebookPostsList': set()}, 'new': {'browsing_history': {116, 90, 59, 84}, 'schedule': {16, 40, 4, 28}, 'facebookPostsList': set()}, 'clients': {'browsing_history': {66, 76}, 'schedule': set(), 'facebookPostsList': set()}, 'time': {'browsing_history': {114, 67, 77, 103}, 'schedule': set(), 'facebookPostsList': set()}, 'projects': {'browsing_history': {68, 78}, 'schedule': set(), 'facebookPostsList': set()}, 'morning': {'browsing_history': {80, 90, 110}, 'schedule': {0, 24, 12, 36}, 'facebookPostsList': set()}, 'newspaper': {'browsing_history': {80, 110}, 'schedule': {0, 24, 12, 36}, 'facebookPostsList': set()}, 'oregonian': {'browsing_history': {80, 110}, 'schedule': set(), 'facebookPostsList': set()}, 'neighborhood': {'browsing_history': {81}, 'schedule': {1, 37, 13, 25}, 'facebookPostsList': set()}, 'virtual': {'browsing_history': {113, 82}, 'schedule': {38, 2, 26, 14}, 'facebookPostsList': set()}, 'book': {'browsing_history': {96, 113, 82, 91}, 'schedule': {2, 38, 7, 43, 14, 19, 26, 31}, 'facebookPostsList': set()}, 'club': {'browsing_history': {113, 82, 91}, 'schedule': {38, 2, 26, 14}, 'facebookPostsList': set()}, 'meeting': {'browsing_history': {113, 82}, 'schedule': {38, 2, 26, 14}, 'facebookPostsList': set()}, 'goodreads': {'browsing_history': {82}, 'schedule': set(), 'facebookPostsList': set()}, 'recommendations': {'browsing_history': {83}, 'schedule': set(), 'facebookPostsList': set()}, 'releases': {'browsing_history': {84}, 'schedule': set(), 'facebookPostsList': set()}, 'local': {'browsing_history': {99, 84, 119, 111}, 'schedule': {32, 34, 4, 8, 40, 10, 44, 46, 16, 20, 22, 28}, 'facebookPostsList': set()}, 'library': {'browsing_history': {104, 116, 84}, 'schedule': {16, 40, 4, 28}, 'facebookPostsList': set()}, 'catalog': {'browsing_history': {84}, 'schedule': set(), 'facebookPostsList': set()}, 'video': {'browsing_history': {105, 117, 85, 94}, 'schedule': {17, 29, 5, 41}, 'facebookPostsList': set()}, 'grandchildren': {'browsing_history': {117, 85, 94}, 'schedule': {17, 29, 5, 41}, 'facebookPostsList': set()}, 'zoom': {'browsing_history': {117, 85, 94}, 'schedule': set(), 'facebookPostsList': set()}, 'meal': {'browsing_history': {118, 86, 95}, 'schedule': {18, 42, 6, 30}, 'facebookPostsList': set()}, 'allrecipes': {'browsing_history': {106, 118, 86, 95}, 'schedule': set(), 'facebookPostsList': set()}, 'volunteermatch': {'browsing_history': {88, 97, 108, 119}, 'schedule': set(), 'facebookPostsList': set()}, 'grocery': {'browsing_history': {89, 98, 109}, 'schedule': {9, 45, 21, 33}, 'facebookPostsList': set()}, 'list': {'browsing_history': {89}, 'schedule': set(), 'facebookPostsList': set()}, 'news': {'browsing_history': {90, 111}, 'schedule': set(), 'facebookPostsList': set()}, 'highlights': {'browsing_history': {90}, 'schedule': set(), 'facebookPostsList': set()}, 'york': {'browsing_history': {90}, 'schedule': set(), 'facebookPostsList': set()}, 'times': {'browsing_history': {90}, 'schedule': set(), 'facebookPostsList': set()}, 'discussion': {'browsing_history': {91}, 'schedule': set(), 'facebookPostsList': set()}, 'mockingbird': {'browsing_history': {91}, 'schedule': set(), 'facebookPostsList': set()}, 'patterns': {'browsing_history': {92}, 'schedule': set(), 'facebookPostsList': set()}, 'scarves': {'browsing_history': {92}, 'schedule': set(), 'facebookPostsList': set()}, 'ravelry': {'browsing_history': {92}, 'schedule': set(), 'facebookPostsList': set()}, 'lovers': {'browsing_history': {96}, 'schedule': set(), 'facebookPostsList': set()}, 'good': {'browsing_history': {96}, 'schedule': set(), 'facebookPostsList': set()}, 'housekeeping': {'browsing_history': {96}, 'schedule': set(), 'facebookPostsList': set()}, 'volunteer': {'browsing_history': {97, 108}, 'schedule': set(), 'facebookPostsList': set()}, 'portland': {'browsing_history': {97, 99, 104, 111, 112, 116}, 'schedule': set(), 'facebookPostsList': set()}, 'history': {'browsing_history': {99}, 'schedule': {46, 10, 34, 22}, 'facebookPostsList': set()}, 'museum': {'browsing_history': {99}, 'schedule': {46, 10, 34, 22}, 'facebookPostsList': set()}, 'exhibit': {'browsing_history': {99}, 'schedule': {46, 10, 34, 22}, 'facebookPostsList': set()}, 'historical': {'browsing_history': {99}, 'schedule': set(), 'facebookPostsList': set()}, 'society': {'browsing_history': {99}, 'schedule': set(), 'facebookPostsList': set()}, 'great': {'browsing_history': {100}, 'schedule': set(), 'facebookPostsList': set()}, 'gatsby': {'browsing_history': {100}, 'schedule': set(), 'facebookPostsList': set()}, 'beginners': {'browsing_history': {101}, 'schedule': set(), 'facebookPostsList': set()}, 'simple': {'browsing_history': {101}, 'schedule': set(), 'facebookPostsList': set()}, 'steps': {'browsing_history': {101}, 'schedule': set(), 'facebookPostsList': set()}, 'yarn': {'browsing_history': {102}, 'schedule': set(), 'facebookPostsList': set()}, 'public': {'browsing_history': {104, 116}, 'schedule': set(), 'facebookPostsList': set()}, 'apps': {'browsing_history': {105}, 'schedule': set(), 'facebookPostsList': set()}, 'free': {'browsing_history': {105}, 'schedule': set(), 'facebookPostsList': set()}, 'choices': {'browsing_history': {105}, 'schedule': set(), 'facebookPostsList': set()}, 'freemake': {'browsing_history': {105}, 'schedule': set(), 'facebookPostsList': set()}, 'meals': {'browsing_history': {106}, 'schedule': set(), 'facebookPostsList': set()}, 'spruce': {'browsing_history': {107}, 'schedule': set(), 'facebookPostsList': set()}, 'maps': {'browsing_history': {109}, 'schedule': set(), 'facebookPostsList': set()}, 'oregon': {'browsing_history': {112, 111}, 'schedule': set(), 'facebookPostsList': set()}, 'weather': {'browsing_history': {112}, 'schedule': set(), 'facebookPostsList': set()}, 'forecast': {'browsing_history': {112}, 'schedule': set(), 'facebookPostsList': set()}, 'upcoming': {'browsing_history': {113}, 'schedule': set(), 'facebookPostsList': set()}, 'meetup': {'browsing_history': {113}, 'schedule': set(), 'facebookPostsList': set()}, 'knitting': {'browsing_history': {115}, 'schedule': set(), 'facebookPostsList': set()}, 'michaels': {'browsing_history': {115}, 'schedule': set(), 'facebookPostsList': set()}, 'arrivals': {'browsing_history': {116}, 'schedule': set(), 'facebookPostsList': set()}, 'charity': {'browsing_history': {119}, 'schedule': {8, 32, 20, 44}, 'facebookPostsList': set()}, 'organizations': {'browsing_history': {119}, 'schedule': set(), 'facebookPostsList': set()}, 'cup': {'browsing_history': set(), 'schedule': {0, 24, 12, 36}, 'facebookPostsList': set()}, 'coffee': {'browsing_history': set(), 'schedule': {0, 24, 12, 36}, 'facebookPostsList': set()}, 'walk': {'browsing_history': set(), 'schedule': {1, 37, 13, 25}, 'facebookPostsList': set()}, 'scarf': {'browsing_history': set(), 'schedule': {27, 3, 39, 15}, 'facebookPostsList': set()}, 'visits': {'browsing_history': set(), 'schedule': {16, 40, 4, 28}, 'facebookPostsList': set()}, 'friend': {'browsing_history': set(), 'schedule': {18, 42, 6, 30}, 'facebookPostsList': set()}, 'collection': {'browsing_history': set(), 'schedule': {43, 19, 31, 7}, 'facebookPostsList': set()}, 'volunteers': {'browsing_history': set(), 'schedule': {8, 32, 20, 44}, 'facebookPostsList': set()}, 'organization': {'browsing_history': set(), 'schedule': {8, 32, 20, 44}, 'facebookPostsList': set()}, 'nearby': {'browsing_history': set(), 'schedule': {9, 45, 21, 33}, 'facebookPostsList': set()}, 'store': {'browsing_history': set(), 'schedule': {9, 45, 21, 33}, 'facebookPostsList': set()}, 'practices': {'browsing_history': set(), 'schedule': {35, 11, 47, 23}, 'facebookPostsList': set()}, 'living': {'browsing_history': set(), 'schedule': {35, 11, 47, 23}, 'facebookPostsList': set()}, 'room': {'browsing_history': set(), 'schedule': {35, 11, 47, 23}, 'facebookPostsList': set()}}, '4b81a719-4d63-4a0d-92be-5087c71a40b0_': {'psychology': {'browsing_history': {0, 35, 38, 10, 11, 12, 30}, 'schedule': {0, 2, 8, 10, 16, 24}, 'facebookPostsList': set()}, 'today': {'browsing_history': {0, 35}, 'schedule': set(), 'facebookPostsList': set()}, 'therapist': {'browsing_history': {0}, 'schedule': set(), 'facebookPostsList': set()}, 'mental': {'browsing_history': {1, 4, 5, 13, 22, 29}, 'schedule': set(), 'facebookPostsList': set()}, 'health': {'browsing_history': {1, 4, 5, 13, 22, 29}, 'schedule': set(), 'facebookPostsList': set()}, 'blogs': {'browsing_history': {1, 13}, 'schedule': set(), 'facebookPostsList': set()}, 'stress': {'browsing_history': {8, 2, 27}, 'schedule': set(), 'facebookPostsList': set()}, 'anxiety': {'browsing_history': {2}, 'schedule': set(), 'facebookPostsList': set()}, 'best': {'browsing_history': {3, 6, 9, 17, 21, 23, 25, 28, 31}, 'schedule': set(), 'facebookPostsList': set()}, 'online': {'browsing_history': {3, 36, 15, 23, 28, 31}, 'schedule': {0, 8, 13, 16, 22, 24, 29}, 'facebookPostsList': set()}, 'clothing': {'browsing_history': {3, 28, 15}, 'schedule': set(), 'facebookPostsList': set()}, 'stores': {'browsing_history': {3, 28, 15}, 'schedule': set(), 'facebookPostsList': set()}, 'women': {'browsing_history': {3, 28}, 'schedule': set(), 'facebookPostsList': set()}, 'elle': {'browsing_history': {3, 28}, 'schedule': set(), 'facebookPostsList': set()}, 'benefits': {'browsing_history': {4, 22}, 'schedule': set(), 'facebookPostsList': set()}, 'exercise': {'browsing_history': {4}, 'schedule': set(), 'facebookPostsList': set()}, 'verywell': {'browsing_history': {4, 22}, 'schedule': set(), 'facebookPostsList': set()}, 'mind': {'browsing_history': {4, 22}, 'schedule': set(), 'facebookPostsList': set()}, 'self': {'browsing_history': {29, 37, 5, 14}, 'schedule': set(), 'facebookPostsList': set()}, 'care': {'browsing_history': {29, 37, 5, 14}, 'schedule': set(), 'facebookPostsList': set()}, 'tips': {'browsing_history': {37, 5, 14}, 'schedule': set(), 'facebookPostsList': set()}, 'better': {'browsing_history': {5}, 'schedule': set(), 'facebookPostsList': set()}, 'healthline': {'browsing_history': {24, 5, 14}, 'schedule': set(), 'facebookPostsList': set()}, 'movies': {'browsing_history': {34, 6, 17, 25, 26}, 'schedule': set(), 'facebookPostsList': set()}, 'platforms': {'browsing_history': {18, 6}, 'schedule': set(), 'facebookPostsList': set()}, 'imdb': {'browsing_history': {17, 6, 25}, 'schedule': set(), 'facebookPostsList': set()}, 'memory': {'browsing_history': {7}, 'schedule': set(), 'facebookPostsList': set()}, 'cognitive': {'browsing_history': {11, 7}, 'schedule': set(), 'facebookPostsList': set()}, 'function': {'browsing_history': {7}, 'schedule': set(), 'facebookPostsList': set()}, 'mayo': {'browsing_history': {27, 7}, 'schedule': set(), 'facebookPostsList': set()}, 'clinic': {'browsing_history': {27, 7}, 'schedule': set(), 'facebookPostsList': set()}, 'relaxation': {'browsing_history': {8}, 'schedule': set(), 'facebookPostsList': set()}, 'techniques': {'browsing_history': {8, 14}, 'schedule': set(), 'facebookPostsList': set()}, 'relief': {'browsing_history': {8}, 'schedule': set(), 'facebookPostsList': set()}, 'webmd': {'browsing_history': {8}, 'schedule': set(), 'facebookPostsList': set()}, 'bike': {'browsing_history': {9}, 'schedule': set(), 'facebookPostsList': set()}, 'deals': {'browsing_history': {9}, 'schedule': set(), 'facebookPostsList': set()}, 'amazon': {'browsing_history': {9, 36}, 'schedule': set(), 'facebookPostsList': set()}, 'research': {'browsing_history': {10, 12, 38}, 'schedule': {18, 26, 2, 10}, 'facebookPostsList': set()}, 'methods': {'browsing_history': {10}, 'schedule': set(), 'facebookPostsList': set()}, 'google': {'browsing_history': {32, 33, 35, 37, 38, 10, 12, 15, 18, 30, 31}, 'schedule': set(), 'facebookPostsList': set()}, 'search': {'browsing_history': {32, 33, 35, 37, 10, 15, 18, 30, 31}, 'schedule': set(), 'facebookPostsList': set()}, 'wikipedia': {'browsing_history': {11}, 'schedule': set(), 'facebookPostsList': set()}, 'articles': {'browsing_history': {35, 12, 38}, 'schedule': set(), 'facebookPostsList': set()}, 'scholar': {'browsing_history': {12, 38}, 'schedule': set(), 'facebookPostsList': set()}, 'medium': {'browsing_history': {13}, 'schedule': set(), 'facebookPostsList': set()}, 'fashion': {'browsing_history': {16}, 'schedule': set(), 'facebookPostsList': set()}, 'trends': {'browsing_history': {16}, 'schedule': set(), 'facebookPostsList': set()}, 'vogue': {'browsing_history': {16}, 'schedule': set(), 'facebookPostsList': set()}, 'movie': {'browsing_history': {18, 39}, 'schedule': {23, 31, 7}, 'facebookPostsList': set()}, 'streaming': {'browsing_history': {18}, 'schedule': set(), 'facebookPostsList': set()}, 'healthy': {'browsing_history': {19}, 'schedule': set(), 'facebookPostsList': set()}, 'dinner': {'browsing_history': {19}, 'schedule': set(), 'facebookPostsList': set()}, 'recipes': {'browsing_history': {19}, 'schedule': set(), 'facebookPostsList': set()}, 'food': {'browsing_history': {19}, 'schedule': set(), 'facebookPostsList': set()}, 'network': {'browsing_history': {19}, 'schedule': set(), 'facebookPostsList': set()}, 'internship': {'browsing_history': {20}, 'schedule': {18, 26}, 'facebookPostsList': set()}, 'opportunities': {'browsing_history': {20}, 'schedule': {18, 26}, 'facebookPostsList': set()}, 'balance': {'browsing_history': {20}, 'schedule': set(), 'facebookPostsList': set()}, 'careers': {'browsing_history': {20}, 'schedule': set(), 'facebookPostsList': set()}, 'yoga': {'browsing_history': {24, 21, 22, 23}, 'schedule': {22}, 'facebookPostsList': set()}, 'classes': {'browsing_history': {31, 21, 23}, 'schedule': {0, 8, 16, 24}, 'facebookPostsList': set()}, 'urbanclap': {'browsing_history': {21}, 'schedule': set(), 'facebookPostsList': set()}, 'right': {'browsing_history': {24}, 'schedule': set(), 'facebookPostsList': set()}, 'mat': {'browsing_history': {24}, 'schedule': set(), 'facebookPostsList': set()}, 'tomatoes': {'browsing_history': {26, 34}, 'schedule': set(), 'facebookPostsList': set()}, 'importance': {'browsing_history': {29}, 'schedule': set(), 'facebookPostsList': set()}, 'psychcentral': {'browsing_history': {29}, 'schedule': set(), 'facebookPostsList': set()}, 'fitness': {'browsing_history': {31}, 'schedule': {29}, 'facebookPostsList': set()}, 'diy': {'browsing_history': {32}, 'schedule': {30}, 'facebookPostsList': set()}, 'home': {'browsing_history': {32}, 'schedule': {5, 6, 30}, 'facebookPostsList': set()}, 'decor': {'browsing_history': {32}, 'schedule': {30}, 'facebookPostsList': set()}, 'ideas': {'browsing_history': {32}, 'schedule': set(), 'facebookPostsList': set()}, 'wreath': {'browsing_history': {33}, 'schedule': set(), 'facebookPostsList': set()}, 'shopping': {'browsing_history': {36}, 'schedule': set(), 'facebookPostsList': set()}, 'clothes': {'browsing_history': {36}, 'schedule': set(), 'facebookPostsList': set()}, 'tricks': {'browsing_history': {37}, 'schedule': set(), 'facebookPostsList': set()}, 'trailers': {'browsing_history': {39}, 'schedule': set(), 'facebookPostsList': set()}, 'youtube': {'browsing_history': {39}, 'schedule': set(), 'facebookPostsList': set()}, 'degree': {'browsing_history': set(), 'schedule': {0, 8, 16, 24}, 'facebookPostsList': set()}, 'sales': {'browsing_history': set(), 'schedule': {1, 4, 9, 12, 17, 20, 25, 28}, 'facebookPostsList': set()}, 'associate': {'browsing_history': set(), 'schedule': {1, 4, 9, 12, 17, 20, 25, 28}, 'facebookPostsList': set()}, 'retail': {'browsing_history': set(), 'schedule': {1, 4, 9, 12, 17, 20, 25, 28}, 'facebookPostsList': set()}, 'store': {'browsing_history': set(), 'schedule': {1, 4, 9, 12, 17, 20, 25, 28}, 'facebookPostsList': set()}, 'project': {'browsing_history': set(), 'schedule': {2, 10, 30}, 'facebookPostsList': set()}, 'lunch': {'browsing_history': set(), 'schedule': {11, 19, 3, 27}, 'facebookPostsList': set()}, 'local': {'browsing_history': set(), 'schedule': {11, 19, 3, 27}, 'facebookPostsList': set()}, 'cafe': {'browsing_history': set(), 'schedule': {11, 19, 3, 27}, 'facebookPostsList': set()}, 'twitter': {'browsing_history': set(), 'schedule': {5}, 'facebookPostsList': set()}, 'reddit': {'browsing_history': set(), 'schedule': {6}, 'facebookPostsList': set()}, 'platform': {'browsing_history': set(), 'schedule': {7}, 'facebookPostsList': set()}, 'chat': {'browsing_history': set(), 'schedule': {13}, 'facebookPostsList': set()}, 'family': {'browsing_history': set(), 'schedule': {13}, 'facebookPostsList': set()}, 'members': {'browsing_history': set(), 'schedule': {13}, 'facebookPostsList': set()}, 'favorite': {'browsing_history': set(), 'schedule': {14}, 'facebookPostsList': set()}, 'tv': {'browsing_history': set(), 'schedule': {14}, 'facebookPostsList': set()}, 'shows': {'browsing_history': set(), 'schedule': {14}, 'facebookPostsList': set()}, 'virtual': {'browsing_history': set(), 'schedule': {21, 15}, 'facebookPostsList': set()}, 'hangout': {'browsing_history': set(), 'schedule': {15}, 'facebookPostsList': set()}, 'friends': {'browsing_history': set(), 'schedule': {15}, 'facebookPostsList': set()}, 'book': {'browsing_history': set(), 'schedule': {21}, 'facebookPostsList': set()}, 'club': {'browsing_history': set(), 'schedule': {21}, 'facebookPostsList': set()}, 'meeting': {'browsing_history': set(), 'schedule': {21}, 'facebookPostsList': set()}, 'session': {'browsing_history': set(), 'schedule': {22}, 'facebookPostsList': set()}, 'class': {'browsing_history': set(), 'schedule': {29}, 'facebookPostsList': set()}}}\n"
          ]
        }
      ]
    },
    {
      "cell_type": "code",
      "source": [
        "def get_common_keywords(all_keywords):\n",
        "    common_keywords = None\n",
        "\n",
        "    for persona in all_keywords:\n",
        "        keywords = set(all_keywords[persona].keys())\n",
        "        if common_keywords is None:\n",
        "            common_keywords = keywords\n",
        "        else:\n",
        "            common_keywords = common_keywords.intersection(keywords)\n",
        "    print(f\"common kws: {len(common_keywords)}\")\n",
        "    return common_keywords"
      ],
      "metadata": {
        "id": "Q_QOnsQJ6-8G"
      },
      "execution_count": 18,
      "outputs": []
    },
    {
      "cell_type": "code",
      "source": [
        "def get_distinct_keywords(all_keywords, common_keywords, person_id_lst):\n",
        "    res = {}\n",
        "    for pid in person_id_lst:\n",
        "        res[pid] = set(all_keywords[pid].keys()) - common_keywords\n",
        "    return res\n",
        "    # {pid1: {w1, w2, ...}, pid2: {...}, ...}\n"
      ],
      "metadata": {
        "id": "q2QsVABKig0F"
      },
      "execution_count": 19,
      "outputs": []
    },
    {
      "cell_type": "code",
      "source": [
        "pid_20 = '4b81a719-4d63-4a0d-92be-5087c71a40b0_'\n",
        "pid_45 = '4b81a719-4d63-4a0d-92be-5087c71a40b0_a120fce9-2511-422b-9c80-cb739e59ef6a'\n",
        "pid_80 = '4b81a719-4d63-4a0d-92be-5087c71a40b0_199bea01-2cba-4381-9980-fad5a40da13e'"
      ],
      "metadata": {
        "id": "jZz7tXJrkyTz"
      },
      "execution_count": 20,
      "outputs": []
    },
    {
      "cell_type": "code",
      "source": [
        "common_keywords = get_common_keywords(all_persona_keywords)\n",
        "# distinct_keywords = get_distinct_keywords(all_persona_keywords, common_keywords, [pid_20, pid_45, pid_80]))\n",
        "distinct_keywords = get_distinct_keywords(all_persona_keywords, set(), [pid_20, pid_45, pid_80])"
      ],
      "metadata": {
        "id": "yi3wSxzJWdug",
        "colab": {
          "base_uri": "https://localhost:8080/"
        },
        "outputId": "43147040-314b-490b-8d2f-90c98d844fea"
      },
      "execution_count": 22,
      "outputs": [
        {
          "output_type": "stream",
          "name": "stdout",
          "text": [
            "common kws: 82\n"
          ]
        }
      ]
    },
    {
      "cell_type": "markdown",
      "source": [
        "reference: https://github.com/alexandres/lexvec?tab=readme-ov-file#pre-trained-vectors"
      ],
      "metadata": {
        "id": "RgAhMKiAOx9p"
      }
    },
    {
      "cell_type": "code",
      "source": [
        "import gensim\n",
        "model = gensim.models.KeyedVectors.load_word2vec_format('/content/drive/My Drive/adAuditing/lexvec.enwiki+newscrawl.300d.W.pos.vectors', binary=False)"
      ],
      "metadata": {
        "id": "2QV88AvM8ONG"
      },
      "execution_count": 21,
      "outputs": []
    },
    {
      "cell_type": "code",
      "source": [
        "def get_vec_word_dic(distinct_keywords, model):\n",
        "    vec_word_dic = {}       # {pid1: {vec1: word1, ...}, ...}\n",
        "    ignored_words = set()\n",
        "    for pid, words in distinct_keywords.items():\n",
        "        vec_word_dic[pid] = {}\n",
        "        for word in words:\n",
        "            try:\n",
        "                vec_word_dic[pid][tuple(model[word])] = word\n",
        "            except KeyError:\n",
        "                ignored_words.add(word)\n",
        "        print(f'encode {len(vec_word_dic[pid])} words for {pid}')\n",
        "    print(f'{len(ignored_words)} words ignored: {ignored_words}')\n",
        "    return vec_word_dic, ignored_words"
      ],
      "metadata": {
        "id": "qMb-kuXJgoX1"
      },
      "execution_count": 23,
      "outputs": []
    },
    {
      "cell_type": "code",
      "source": [
        "vec_word_dic, ignored_words = get_vec_word_dic(distinct_keywords, model)"
      ],
      "metadata": {
        "id": "ZKxbXsuyhNEz",
        "colab": {
          "base_uri": "https://localhost:8080/"
        },
        "outputId": "dd197db7-9e66-4789-f649-934cef6764f7"
      },
      "execution_count": 24,
      "outputs": [
        {
          "output_type": "stream",
          "name": "stdout",
          "text": [
            "encode 102 words for 4b81a719-4d63-4a0d-92be-5087c71a40b0_\n",
            "encode 127 words for 4b81a719-4d63-4a0d-92be-5087c71a40b0_a120fce9-2511-422b-9c80-cb739e59ef6a\n",
            "encode 190 words for 4b81a719-4d63-4a0d-92be-5087c71a40b0_199bea01-2cba-4381-9980-fad5a40da13e\n",
            "6 words ignored: {'psychcentral', 'verywell', 'freemake', 'ravelry', 'urbanclap', 'volunteermatch'}\n"
          ]
        }
      ]
    },
    {
      "cell_type": "code",
      "source": [
        "from sklearn.neighbors import LocalOutlierFactor"
      ],
      "metadata": {
        "id": "KsQBLHPEb9oA"
      },
      "execution_count": 25,
      "outputs": []
    },
    {
      "cell_type": "code",
      "source": [
        "def get_outliers(vec_word_dic, pid):\n",
        "\n",
        "    all_vectors = list(vec_word_dic[pid].keys())\n",
        "    length = len(all_vectors)     # all_vectors[0:length] are vectors of target pid\n",
        "    for id, word_dic in vec_word_dic.items():\n",
        "        if id != pid:\n",
        "            all_vectors += list(word_dic.keys())\n",
        "\n",
        "    # Fit LocalOutlierFactor model\n",
        "    lof_model = LocalOutlierFactor(n_neighbors=60, contamination=0.3)\n",
        "    lof_model.fit(all_vectors)\n",
        "\n",
        "    # Predict outliers\n",
        "    outlier_labels = lof_model.fit_predict(all_vectors)\n",
        "\n",
        "    outlier_vectors_set = [word for idx, word in enumerate(all_vectors[0:length]) if outlier_labels[idx] == -1]\n",
        "    print(len(outlier_vectors_set), 'outliers found')\n",
        "\n",
        "    return [vec_word_dic[pid][vec] for vec in outlier_vectors_set]"
      ],
      "metadata": {
        "id": "ivWFP9SdR5NQ"
      },
      "execution_count": 26,
      "outputs": []
    },
    {
      "cell_type": "code",
      "source": [
        "outliers_20 = get_outliers(vec_word_dic, pid_20)\n",
        "outliers_45 = get_outliers(vec_word_dic, pid_45)\n",
        "outliers_80 = get_outliers(vec_word_dic, pid_80)"
      ],
      "metadata": {
        "id": "8A843kPMaQWy",
        "colab": {
          "base_uri": "https://localhost:8080/"
        },
        "outputId": "802a4e41-f9cd-48d2-b44f-10195a9dd1bc"
      },
      "execution_count": 27,
      "outputs": [
        {
          "output_type": "stream",
          "name": "stdout",
          "text": [
            "33 outliers found\n",
            "32 outliers found\n",
            "61 outliers found\n"
          ]
        }
      ]
    },
    {
      "cell_type": "code",
      "source": [
        "def extract_top_n_kw(outliers, pid, n):\n",
        "    return sorted(outliers, key=lambda x : -sum([len(ids) for _, ids in all_persona_keywords[pid][x].items()]))[:n]"
      ],
      "metadata": {
        "id": "fyVe2RQiwI0U"
      },
      "execution_count": 28,
      "outputs": []
    },
    {
      "cell_type": "code",
      "source": [
        "extract_top_n_kw(outliers_80, pid_80, 5)"
      ],
      "metadata": {
        "id": "QQ_W9YhsxzMa",
        "colab": {
          "base_uri": "https://localhost:8080/"
        },
        "outputId": "28d8ce7c-a15e-40a1-fa1d-3ae61131b681"
      },
      "execution_count": 29,
      "outputs": [
        {
          "output_type": "execute_result",
          "data": {
            "text/plain": [
              "['yoga', 'grandchildren', 'self', 'virtual', 'portland']"
            ]
          },
          "metadata": {},
          "execution_count": 29
        }
      ]
    },
    {
      "cell_type": "markdown",
      "source": [
        "combine"
      ],
      "metadata": {
        "id": "_PN6XEB1R9UL"
      }
    },
    {
      "cell_type": "code",
      "source": [
        "data_folder_path = '/content/drive/My Drive/adAuditing/personas_new/age'\n",
        "pid_20 = '4b81a719-4d63-4a0d-92be-5087c71a40b0_'\n",
        "pid_45 = '4b81a719-4d63-4a0d-92be-5087c71a40b0_a120fce9-2511-422b-9c80-cb739e59ef6a'\n",
        "pid_80 = '4b81a719-4d63-4a0d-92be-5087c71a40b0_199bea01-2cba-4381-9980-fad5a40da13e'\n",
        "\n",
        "import json, os\n",
        "import spacy\n",
        "from collections import Counter\n",
        "from string import punctuation\n",
        "nlp = spacy.load(\"en_core_web_sm\")\n",
        "from sklearn.neighbors import LocalOutlierFactor\n",
        "all_persona_keywords = extractKeywords()"
      ],
      "metadata": {
        "colab": {
          "base_uri": "https://localhost:8080/"
        },
        "id": "kJiTP-OxSXQc",
        "outputId": "98571216-80db-48bc-f18d-8016afb5ecaa"
      },
      "execution_count": 31,
      "outputs": [
        {
          "output_type": "stream",
          "name": "stdout",
          "text": [
            "{'4b81a719-4d63-4a0d-92be-5087c71a40b0_a120fce9-2511-422b-9c80-cb739e59ef6a': {'psychology': {'browsing_history': {0, 35, 38, 10, 11, 12, 45, 46, 30}, 'schedule': set(), 'facebookPostsList': set()}, 'today': {'browsing_history': {0, 35, 45, 46}, 'schedule': set(), 'facebookPostsList': set()}, 'therapist': {'browsing_history': {0}, 'schedule': set(), 'facebookPostsList': set()}, 'mental': {'browsing_history': {1, 4, 5, 13, 45, 22, 55, 59, 29}, 'schedule': set(), 'facebookPostsList': set()}, 'health': {'browsing_history': {1, 4, 5, 13, 22, 55, 29}, 'schedule': set(), 'facebookPostsList': set()}, 'blogs': {'browsing_history': {1, 13}, 'schedule': set(), 'facebookPostsList': set()}, 'stress': {'browsing_history': {8, 2, 27}, 'schedule': set(), 'facebookPostsList': set()}, 'anxiety': {'browsing_history': {2}, 'schedule': set(), 'facebookPostsList': set()}, 'best': {'browsing_history': {3, 6, 70, 40, 9, 60, 17, 50, 21, 23, 25, 28, 31}, 'schedule': set(), 'facebookPostsList': set()}, 'online': {'browsing_history': {3, 36, 15, 23, 28, 31}, 'schedule': set(), 'facebookPostsList': set()}, 'clothing': {'browsing_history': {3, 28, 15}, 'schedule': set(), 'facebookPostsList': set()}, 'stores': {'browsing_history': {3, 28, 15}, 'schedule': set(), 'facebookPostsList': set()}, 'women': {'browsing_history': {3, 28}, 'schedule': set(), 'facebookPostsList': set()}, 'elle': {'browsing_history': {3, 28}, 'schedule': set(), 'facebookPostsList': set()}, 'benefits': {'browsing_history': {48, 4, 22}, 'schedule': set(), 'facebookPostsList': set()}, 'exercise': {'browsing_history': {4}, 'schedule': set(), 'facebookPostsList': set()}, 'verywell': {'browsing_history': {4, 22}, 'schedule': set(), 'facebookPostsList': set()}, 'mind': {'browsing_history': {4, 22}, 'schedule': set(), 'facebookPostsList': set()}, 'self': {'browsing_history': {37, 5, 69, 14, 79, 58, 29}, 'schedule': {8, 41, 19, 30}, 'facebookPostsList': set()}, 'care': {'browsing_history': {29, 37, 5, 14}, 'schedule': set(), 'facebookPostsList': set()}, 'tips': {'browsing_history': {64, 37, 5, 74, 14, 53}, 'schedule': set(), 'facebookPostsList': set()}, 'better': {'browsing_history': {5}, 'schedule': set(), 'facebookPostsList': set()}, 'healthline': {'browsing_history': {24, 5, 14}, 'schedule': set(), 'facebookPostsList': set()}, 'movies': {'browsing_history': {34, 67, 6, 77, 17, 56, 25, 26}, 'schedule': set(), 'facebookPostsList': set()}, 'platforms': {'browsing_history': {18, 6}, 'schedule': set(), 'facebookPostsList': set()}, 'imdb': {'browsing_history': {67, 6, 77, 17, 25}, 'schedule': set(), 'facebookPostsList': set()}, 'memory': {'browsing_history': {7}, 'schedule': set(), 'facebookPostsList': set()}, 'cognitive': {'browsing_history': {11, 7}, 'schedule': set(), 'facebookPostsList': set()}, 'function': {'browsing_history': {7}, 'schedule': set(), 'facebookPostsList': set()}, 'mayo': {'browsing_history': {27, 7}, 'schedule': set(), 'facebookPostsList': set()}, 'clinic': {'browsing_history': {27, 7}, 'schedule': set(), 'facebookPostsList': set()}, 'relaxation': {'browsing_history': {8}, 'schedule': set(), 'facebookPostsList': set()}, 'techniques': {'browsing_history': {68, 8, 14, 47, 78, 57, 59}, 'schedule': {9, 42, 20, 31}, 'facebookPostsList': set()}, 'relief': {'browsing_history': {8}, 'schedule': set(), 'facebookPostsList': set()}, 'webmd': {'browsing_history': {8}, 'schedule': set(), 'facebookPostsList': set()}, 'bike': {'browsing_history': {9}, 'schedule': set(), 'facebookPostsList': set()}, 'deals': {'browsing_history': {9}, 'schedule': set(), 'facebookPostsList': set()}, 'amazon': {'browsing_history': {9, 36, 69, 79}, 'schedule': set(), 'facebookPostsList': set()}, 'research': {'browsing_history': {10, 12, 38}, 'schedule': set(), 'facebookPostsList': set()}, 'methods': {'browsing_history': {10}, 'schedule': set(), 'facebookPostsList': set()}, 'google': {'browsing_history': {10, 12, 15, 18, 30, 31, 32, 33, 35, 37, 38, 43, 44, 47, 48, 49, 63, 64, 65, 66, 68, 73, 74, 75, 76, 78}, 'schedule': set(), 'facebookPostsList': set()}, 'search': {'browsing_history': {10, 15, 18, 30, 31, 32, 33, 35, 37, 43, 44, 47, 48, 49, 63, 64, 65, 66, 68, 73, 74, 75, 76, 78}, 'schedule': set(), 'facebookPostsList': set()}, 'wikipedia': {'browsing_history': {11}, 'schedule': set(), 'facebookPostsList': set()}, 'articles': {'browsing_history': {35, 12, 38}, 'schedule': set(), 'facebookPostsList': set()}, 'scholar': {'browsing_history': {12, 38}, 'schedule': set(), 'facebookPostsList': set()}, 'medium': {'browsing_history': {13}, 'schedule': set(), 'facebookPostsList': set()}, 'fashion': {'browsing_history': {16}, 'schedule': set(), 'facebookPostsList': set()}, 'trends': {'browsing_history': {16}, 'schedule': set(), 'facebookPostsList': set()}, 'vogue': {'browsing_history': {16}, 'schedule': set(), 'facebookPostsList': set()}, 'movie': {'browsing_history': {18, 39}, 'schedule': {17, 28, 6, 39}, 'facebookPostsList': set()}, 'streaming': {'browsing_history': {18}, 'schedule': set(), 'facebookPostsList': set()}, 'healthy': {'browsing_history': {19, 54}, 'schedule': set(), 'facebookPostsList': set()}, 'dinner': {'browsing_history': {65, 75, 44, 19, 54}, 'schedule': {26, 4, 37, 15}, 'facebookPostsList': set()}, 'recipes': {'browsing_history': {65, 75, 44, 19, 54}, 'schedule': set(), 'facebookPostsList': set()}, 'food': {'browsing_history': {19}, 'schedule': set(), 'facebookPostsList': set()}, 'network': {'browsing_history': {19}, 'schedule': set(), 'facebookPostsList': set()}, 'internship': {'browsing_history': {20}, 'schedule': set(), 'facebookPostsList': set()}, 'opportunities': {'browsing_history': {20}, 'schedule': set(), 'facebookPostsList': set()}, 'balance': {'browsing_history': {20}, 'schedule': set(), 'facebookPostsList': set()}, 'careers': {'browsing_history': {20}, 'schedule': set(), 'facebookPostsList': set()}, 'yoga': {'browsing_history': {24, 21, 22, 23}, 'schedule': set(), 'facebookPostsList': set()}, 'classes': {'browsing_history': {31, 21, 23}, 'schedule': set(), 'facebookPostsList': set()}, 'urbanclap': {'browsing_history': {21}, 'schedule': set(), 'facebookPostsList': set()}, 'right': {'browsing_history': {24}, 'schedule': set(), 'facebookPostsList': set()}, 'mat': {'browsing_history': {24}, 'schedule': set(), 'facebookPostsList': set()}, 'tomatoes': {'browsing_history': {26, 34}, 'schedule': set(), 'facebookPostsList': set()}, 'importance': {'browsing_history': {45, 29}, 'schedule': set(), 'facebookPostsList': set()}, 'psychcentral': {'browsing_history': {29}, 'schedule': set(), 'facebookPostsList': set()}, 'fitness': {'browsing_history': {31}, 'schedule': set(), 'facebookPostsList': set()}, 'diy': {'browsing_history': {32}, 'schedule': set(), 'facebookPostsList': set()}, 'home': {'browsing_history': {32}, 'schedule': {0, 2, 4, 6, 8, 10, 11, 13, 15, 17, 19, 21, 22, 24, 26, 28, 30, 32, 33, 35, 37, 39, 41, 43}, 'facebookPostsList': set()}, 'decor': {'browsing_history': {32}, 'schedule': set(), 'facebookPostsList': set()}, 'ideas': {'browsing_history': {32}, 'schedule': set(), 'facebookPostsList': set()}, 'wreath': {'browsing_history': {33}, 'schedule': set(), 'facebookPostsList': set()}, 'shopping': {'browsing_history': {36}, 'schedule': set(), 'facebookPostsList': set()}, 'clothes': {'browsing_history': {36}, 'schedule': set(), 'facebookPostsList': set()}, 'tricks': {'browsing_history': {53, 37}, 'schedule': set(), 'facebookPostsList': set()}, 'trailers': {'browsing_history': {39}, 'schedule': set(), 'facebookPostsList': set()}, 'youtube': {'browsing_history': {39}, 'schedule': set(), 'facebookPostsList': set()}, 'consumer': {'browsing_history': {70, 71, 40, 41, 50, 51, 60, 61}, 'schedule': set(), 'facebookPostsList': set()}, 'reports': {'browsing_history': {70, 71, 40, 41, 50, 51, 60, 61}, 'schedule': set(), 'facebookPostsList': set()}, 'mattresses': {'browsing_history': {40, 50, 60, 70}, 'schedule': set(), 'facebookPostsList': set()}, 'product': {'browsing_history': {41, 51, 61, 71}, 'schedule': set(), 'facebookPostsList': set()}, 'reviews': {'browsing_history': {71, 72, 41, 42, 51, 52, 61, 62}, 'schedule': set(), 'facebookPostsList': set()}, 'ratings': {'browsing_history': {41, 51, 61, 71}, 'schedule': set(), 'facebookPostsList': set()}, 'examples': {'browsing_history': {72, 42, 52, 62}, 'schedule': set(), 'facebookPostsList': set()}, 'customer': {'browsing_history': {72, 42, 52, 62}, 'schedule': set(), 'facebookPostsList': set()}, 'business': {'browsing_history': {72, 42, 52, 62}, 'schedule': set(), 'facebookPostsList': set()}, 'house': {'browsing_history': {73, 43, 53, 63}, 'schedule': {0, 33, 11, 22}, 'facebookPostsList': set()}, 'quick': {'browsing_history': {44}, 'schedule': set(), 'facebookPostsList': set()}, 'easy': {'browsing_history': {65, 75, 44}, 'schedule': set(), 'facebookPostsList': set()}, 'wellness': {'browsing_history': {59, 45}, 'schedule': set(), 'facebookPostsList': set()}, 'strategies': {'browsing_history': {46}, 'schedule': set(), 'facebookPostsList': set()}, 'personal': {'browsing_history': {49, 58, 46}, 'schedule': {32, 10, 43, 21}, 'facebookPostsList': set()}, 'development': {'browsing_history': {58, 46}, 'schedule': set(), 'facebookPostsList': set()}, 'effective': {'browsing_history': {57, 68, 78, 47}, 'schedule': set(), 'facebookPostsList': set()}, 'communication': {'browsing_history': {47}, 'schedule': set(), 'facebookPostsList': set()}, 'therapy': {'browsing_history': {64, 74, 47}, 'schedule': {1, 34, 12, 23}, 'facebookPostsList': set()}, 'counseling': {'browsing_history': {48, 59, 55}, 'schedule': {9, 42, 20, 31}, 'facebookPostsList': set()}, 'training': {'browsing_history': {48}, 'schedule': {9, 42, 20, 31}, 'facebookPostsList': set()}, 'sessions': {'browsing_history': {48, 74, 64}, 'schedule': set(), 'facebookPostsList': set()}, 'documents': {'browsing_history': {49}, 'schedule': {32, 10, 43, 21}, 'facebookPostsList': set()}, 'bills': {'browsing_history': {49}, 'schedule': {32, 10, 43, 21}, 'facebookPostsList': set()}, 'family': {'browsing_history': {65, 75, 54}, 'schedule': {26, 4, 37, 15}, 'facebookPostsList': set()}, 'progress': {'browsing_history': {66, 76, 55}, 'schedule': {16, 27, 5, 38}, 'facebookPostsList': set()}, 'notes': {'browsing_history': {66, 76, 55}, 'schedule': {16, 27, 5, 38}, 'facebookPostsList': set()}, 'classic': {'browsing_history': {56, 67, 77}, 'schedule': {17, 28, 6, 39}, 'facebookPostsList': set()}, 'film': {'browsing_history': {56}, 'schedule': set(), 'facebookPostsList': set()}, 'lover': {'browsing_history': {56}, 'schedule': set(), 'facebookPostsList': set()}, 'collaboration': {'browsing_history': {57, 68, 78}, 'schedule': set(), 'facebookPostsList': set()}, 'teams': {'browsing_history': {57}, 'schedule': set(), 'facebookPostsList': set()}, 'help': {'browsing_history': {58, 69, 79}, 'schedule': {8, 41, 19, 30}, 'facebookPostsList': set()}, 'books': {'browsing_history': {58, 69, 79}, 'schedule': set(), 'facebookPostsList': set()}, 'new': {'browsing_history': {59}, 'schedule': {7, 40, 9, 42, 18, 20, 29, 31}, 'facebookPostsList': set()}, 'clients': {'browsing_history': {66, 76}, 'schedule': {16, 27, 5, 38}, 'facebookPostsList': set()}, 'time': {'browsing_history': {67, 77}, 'schedule': set(), 'facebookPostsList': set()}, 'projects': {'browsing_history': {68, 78}, 'schedule': set(), 'facebookPostsList': set()}, 'laundry': {'browsing_history': set(), 'schedule': {0, 33, 11, 22}, 'facebookPostsList': set()}, 'workplace': {'browsing_history': set(), 'schedule': {1, 3, 5, 7, 9, 12, 14, 16, 18, 20, 23, 25, 27, 29, 31, 34, 36, 38, 40, 42}, 'facebookPostsList': set()}, 'session': {'browsing_history': set(), 'schedule': {1, 34, 9, 42, 12, 20, 23, 31}, 'facebookPostsList': set()}, 'client': {'browsing_history': set(), 'schedule': {1, 34, 12, 23}, 'facebookPostsList': set()}, 'child': {'browsing_history': set(), 'schedule': {24, 2, 35, 13}, 'facebookPostsList': set()}, 'homework': {'browsing_history': set(), 'schedule': {24, 2, 35, 13}, 'facebookPostsList': set()}, 'team': {'browsing_history': set(), 'schedule': {25, 3, 36, 14}, 'facebookPostsList': set()}, 'meeting': {'browsing_history': set(), 'schedule': {25, 3, 36, 14}, 'facebookPostsList': set()}, 'complete': {'browsing_history': set(), 'schedule': {16, 27, 5, 38}, 'facebookPostsList': set()}, 'collaborate': {'browsing_history': set(), 'schedule': {40, 18, 29, 7}, 'facebookPostsList': set()}, 'colleagues': {'browsing_history': set(), 'schedule': {40, 18, 29, 7}, 'facebookPostsList': set()}, 'project': {'browsing_history': set(), 'schedule': {40, 18, 29, 7}, 'facebookPostsList': set()}, 'book': {'browsing_history': set(), 'schedule': {8, 41, 19, 30}, 'facebookPostsList': set()}}, '4b81a719-4d63-4a0d-92be-5087c71a40b0_199bea01-2cba-4381-9980-fad5a40da13e': {'psychology': {'browsing_history': {0, 35, 38, 10, 11, 12, 45, 46, 30}, 'schedule': set(), 'facebookPostsList': set()}, 'today': {'browsing_history': {0, 35, 45, 46}, 'schedule': set(), 'facebookPostsList': set()}, 'therapist': {'browsing_history': {0}, 'schedule': set(), 'facebookPostsList': set()}, 'mental': {'browsing_history': {1, 4, 5, 13, 45, 22, 55, 59, 29}, 'schedule': set(), 'facebookPostsList': set()}, 'health': {'browsing_history': {1, 4, 5, 13, 22, 55, 29}, 'schedule': set(), 'facebookPostsList': set()}, 'blogs': {'browsing_history': {1, 13}, 'schedule': set(), 'facebookPostsList': set()}, 'stress': {'browsing_history': {8, 2, 27}, 'schedule': set(), 'facebookPostsList': set()}, 'anxiety': {'browsing_history': {2}, 'schedule': set(), 'facebookPostsList': set()}, 'best': {'browsing_history': {3, 6, 70, 40, 9, 103, 60, 17, 50, 21, 23, 25, 28, 31}, 'schedule': set(), 'facebookPostsList': set()}, 'online': {'browsing_history': {3, 36, 15, 115, 23, 28, 31}, 'schedule': {38, 2, 26, 14}, 'facebookPostsList': set()}, 'clothing': {'browsing_history': {3, 28, 15}, 'schedule': set(), 'facebookPostsList': set()}, 'stores': {'browsing_history': {3, 28, 109, 15}, 'schedule': set(), 'facebookPostsList': set()}, 'women': {'browsing_history': {3, 28}, 'schedule': set(), 'facebookPostsList': set()}, 'elle': {'browsing_history': {3, 28}, 'schedule': set(), 'facebookPostsList': set()}, 'benefits': {'browsing_history': {48, 4, 22}, 'schedule': set(), 'facebookPostsList': set()}, 'exercise': {'browsing_history': {4}, 'schedule': set(), 'facebookPostsList': set()}, 'verywell': {'browsing_history': {4, 22}, 'schedule': set(), 'facebookPostsList': set()}, 'mind': {'browsing_history': {4, 22}, 'schedule': set(), 'facebookPostsList': set()}, 'self': {'browsing_history': {37, 5, 69, 14, 79, 58, 29}, 'schedule': set(), 'facebookPostsList': set()}, 'care': {'browsing_history': {29, 37, 5, 14}, 'schedule': set(), 'facebookPostsList': set()}, 'tips': {'browsing_history': {64, 96, 37, 5, 74, 14, 53, 87}, 'schedule': set(), 'facebookPostsList': set()}, 'better': {'browsing_history': {5}, 'schedule': set(), 'facebookPostsList': set()}, 'healthline': {'browsing_history': {24, 5, 14}, 'schedule': set(), 'facebookPostsList': set()}, 'movies': {'browsing_history': {34, 67, 6, 103, 77, 17, 114, 56, 25, 26}, 'schedule': set(), 'facebookPostsList': set()}, 'platforms': {'browsing_history': {18, 6}, 'schedule': set(), 'facebookPostsList': set()}, 'imdb': {'browsing_history': {67, 6, 77, 17, 114, 83, 25}, 'schedule': set(), 'facebookPostsList': set()}, 'memory': {'browsing_history': {7}, 'schedule': set(), 'facebookPostsList': set()}, 'cognitive': {'browsing_history': {11, 7}, 'schedule': set(), 'facebookPostsList': set()}, 'function': {'browsing_history': {7}, 'schedule': set(), 'facebookPostsList': set()}, 'mayo': {'browsing_history': {27, 7}, 'schedule': set(), 'facebookPostsList': set()}, 'clinic': {'browsing_history': {27, 7}, 'schedule': set(), 'facebookPostsList': set()}, 'relaxation': {'browsing_history': {8}, 'schedule': set(), 'facebookPostsList': set()}, 'techniques': {'browsing_history': {68, 8, 14, 47, 78, 57, 59}, 'schedule': set(), 'facebookPostsList': set()}, 'relief': {'browsing_history': {8}, 'schedule': set(), 'facebookPostsList': set()}, 'webmd': {'browsing_history': {8}, 'schedule': set(), 'facebookPostsList': set()}, 'bike': {'browsing_history': {9}, 'schedule': set(), 'facebookPostsList': set()}, 'deals': {'browsing_history': {9, 98}, 'schedule': set(), 'facebookPostsList': set()}, 'amazon': {'browsing_history': {36, 69, 9, 79, 93}, 'schedule': set(), 'facebookPostsList': set()}, 'research': {'browsing_history': {10, 12, 38}, 'schedule': set(), 'facebookPostsList': set()}, 'methods': {'browsing_history': {10}, 'schedule': set(), 'facebookPostsList': set()}, 'google': {'browsing_history': {10, 12, 15, 18, 30, 31, 32, 33, 35, 37, 38, 43, 44, 47, 48, 49, 63, 64, 65, 66, 68, 73, 74, 75, 76, 78, 81, 109}, 'schedule': set(), 'facebookPostsList': set()}, 'search': {'browsing_history': {10, 15, 18, 30, 31, 32, 33, 35, 37, 43, 44, 47, 48, 49, 63, 64, 65, 66, 68, 73, 74, 75, 76, 78, 81}, 'schedule': set(), 'facebookPostsList': set()}, 'wikipedia': {'browsing_history': {11, 100}, 'schedule': set(), 'facebookPostsList': set()}, 'articles': {'browsing_history': {35, 12, 38}, 'schedule': set(), 'facebookPostsList': set()}, 'scholar': {'browsing_history': {12, 38}, 'schedule': set(), 'facebookPostsList': set()}, 'medium': {'browsing_history': {13}, 'schedule': set(), 'facebookPostsList': set()}, 'fashion': {'browsing_history': {16}, 'schedule': set(), 'facebookPostsList': set()}, 'trends': {'browsing_history': {16}, 'schedule': set(), 'facebookPostsList': set()}, 'vogue': {'browsing_history': {16}, 'schedule': set(), 'facebookPostsList': set()}, 'movie': {'browsing_history': {18, 83, 39}, 'schedule': {27, 3, 39, 15}, 'facebookPostsList': set()}, 'streaming': {'browsing_history': {18}, 'schedule': set(), 'facebookPostsList': set()}, 'healthy': {'browsing_history': {19, 54}, 'schedule': set(), 'facebookPostsList': set()}, 'dinner': {'browsing_history': {65, 75, 44, 19, 54}, 'schedule': set(), 'facebookPostsList': set()}, 'recipes': {'browsing_history': {65, 75, 44, 19, 54, 86, 118, 95}, 'schedule': set(), 'facebookPostsList': set()}, 'food': {'browsing_history': {19}, 'schedule': set(), 'facebookPostsList': set()}, 'network': {'browsing_history': {19}, 'schedule': set(), 'facebookPostsList': set()}, 'internship': {'browsing_history': {20}, 'schedule': set(), 'facebookPostsList': set()}, 'opportunities': {'browsing_history': {88, 97, 20, 108}, 'schedule': set(), 'facebookPostsList': set()}, 'balance': {'browsing_history': {20}, 'schedule': set(), 'facebookPostsList': set()}, 'careers': {'browsing_history': {20}, 'schedule': set(), 'facebookPostsList': set()}, 'yoga': {'browsing_history': {24, 21, 22, 23}, 'schedule': {35, 11, 47, 23}, 'facebookPostsList': set()}, 'classes': {'browsing_history': {31, 21, 23}, 'schedule': set(), 'facebookPostsList': set()}, 'urbanclap': {'browsing_history': {21}, 'schedule': set(), 'facebookPostsList': set()}, 'right': {'browsing_history': {24}, 'schedule': set(), 'facebookPostsList': set()}, 'mat': {'browsing_history': {24}, 'schedule': set(), 'facebookPostsList': set()}, 'tomatoes': {'browsing_history': {26, 34, 103}, 'schedule': set(), 'facebookPostsList': set()}, 'importance': {'browsing_history': {45, 29}, 'schedule': set(), 'facebookPostsList': set()}, 'psychcentral': {'browsing_history': {29}, 'schedule': set(), 'facebookPostsList': set()}, 'fitness': {'browsing_history': {31}, 'schedule': set(), 'facebookPostsList': set()}, 'diy': {'browsing_history': {32}, 'schedule': set(), 'facebookPostsList': set()}, 'home': {'browsing_history': {32, 106}, 'schedule': {18, 42, 6, 30}, 'facebookPostsList': set()}, 'decor': {'browsing_history': {32}, 'schedule': set(), 'facebookPostsList': set()}, 'ideas': {'browsing_history': {32}, 'schedule': set(), 'facebookPostsList': set()}, 'wreath': {'browsing_history': {33}, 'schedule': set(), 'facebookPostsList': set()}, 'shopping': {'browsing_history': {89, 98, 36}, 'schedule': {9, 45, 21, 33}, 'facebookPostsList': set()}, 'clothes': {'browsing_history': {36}, 'schedule': set(), 'facebookPostsList': set()}, 'tricks': {'browsing_history': {53, 37, 87}, 'schedule': set(), 'facebookPostsList': set()}, 'trailers': {'browsing_history': {39}, 'schedule': set(), 'facebookPostsList': set()}, 'youtube': {'browsing_history': {39}, 'schedule': set(), 'facebookPostsList': set()}, 'consumer': {'browsing_history': {70, 71, 40, 41, 50, 51, 60, 61}, 'schedule': set(), 'facebookPostsList': set()}, 'reports': {'browsing_history': {70, 71, 40, 41, 50, 51, 60, 61}, 'schedule': set(), 'facebookPostsList': set()}, 'mattresses': {'browsing_history': {40, 50, 60, 70}, 'schedule': set(), 'facebookPostsList': set()}, 'product': {'browsing_history': {41, 51, 61, 71}, 'schedule': set(), 'facebookPostsList': set()}, 'reviews': {'browsing_history': {71, 72, 41, 42, 51, 52, 61, 62}, 'schedule': set(), 'facebookPostsList': set()}, 'ratings': {'browsing_history': {41, 51, 61, 71}, 'schedule': set(), 'facebookPostsList': set()}, 'examples': {'browsing_history': {72, 42, 52, 62}, 'schedule': set(), 'facebookPostsList': set()}, 'customer': {'browsing_history': {72, 42, 52, 62}, 'schedule': set(), 'facebookPostsList': set()}, 'business': {'browsing_history': {72, 42, 52, 62}, 'schedule': set(), 'facebookPostsList': set()}, 'house': {'browsing_history': {73, 43, 53, 63}, 'schedule': set(), 'facebookPostsList': set()}, 'quick': {'browsing_history': {44}, 'schedule': set(), 'facebookPostsList': set()}, 'easy': {'browsing_history': {65, 75, 44}, 'schedule': set(), 'facebookPostsList': set()}, 'wellness': {'browsing_history': {59, 45}, 'schedule': set(), 'facebookPostsList': set()}, 'strategies': {'browsing_history': {46}, 'schedule': set(), 'facebookPostsList': set()}, 'personal': {'browsing_history': {49, 58, 46}, 'schedule': set(), 'facebookPostsList': set()}, 'development': {'browsing_history': {58, 46}, 'schedule': set(), 'facebookPostsList': set()}, 'effective': {'browsing_history': {57, 68, 78, 47}, 'schedule': set(), 'facebookPostsList': set()}, 'communication': {'browsing_history': {47}, 'schedule': set(), 'facebookPostsList': set()}, 'therapy': {'browsing_history': {64, 74, 47}, 'schedule': set(), 'facebookPostsList': set()}, 'counseling': {'browsing_history': {48, 59, 55}, 'schedule': set(), 'facebookPostsList': set()}, 'training': {'browsing_history': {48}, 'schedule': set(), 'facebookPostsList': set()}, 'sessions': {'browsing_history': {48, 74, 64}, 'schedule': set(), 'facebookPostsList': set()}, 'documents': {'browsing_history': {49}, 'schedule': set(), 'facebookPostsList': set()}, 'bills': {'browsing_history': {49}, 'schedule': set(), 'facebookPostsList': set()}, 'family': {'browsing_history': {65, 75, 54}, 'schedule': set(), 'facebookPostsList': set()}, 'progress': {'browsing_history': {66, 76, 55}, 'schedule': set(), 'facebookPostsList': set()}, 'notes': {'browsing_history': {66, 76, 55}, 'schedule': set(), 'facebookPostsList': set()}, 'classic': {'browsing_history': {67, 103, 77, 114, 83, 56}, 'schedule': {27, 3, 39, 15}, 'facebookPostsList': set()}, 'film': {'browsing_history': {56}, 'schedule': set(), 'facebookPostsList': set()}, 'lover': {'browsing_history': {56}, 'schedule': set(), 'facebookPostsList': set()}, 'collaboration': {'browsing_history': {57, 68, 78}, 'schedule': set(), 'facebookPostsList': set()}, 'teams': {'browsing_history': {57}, 'schedule': set(), 'facebookPostsList': set()}, 'help': {'browsing_history': {58, 69, 79}, 'schedule': set(), 'facebookPostsList': set()}, 'books': {'browsing_history': {69, 107, 79, 87, 58, 93}, 'schedule': {16, 40, 4, 28}, 'facebookPostsList': set()}, 'new': {'browsing_history': {116, 90, 59, 84}, 'schedule': {16, 40, 4, 28}, 'facebookPostsList': set()}, 'clients': {'browsing_history': {66, 76}, 'schedule': set(), 'facebookPostsList': set()}, 'time': {'browsing_history': {114, 67, 77, 103}, 'schedule': set(), 'facebookPostsList': set()}, 'projects': {'browsing_history': {68, 78}, 'schedule': set(), 'facebookPostsList': set()}, 'morning': {'browsing_history': {80, 90, 110}, 'schedule': {0, 24, 12, 36}, 'facebookPostsList': set()}, 'newspaper': {'browsing_history': {80, 110}, 'schedule': {0, 24, 12, 36}, 'facebookPostsList': set()}, 'oregonian': {'browsing_history': {80, 110}, 'schedule': set(), 'facebookPostsList': set()}, 'neighborhood': {'browsing_history': {81}, 'schedule': {1, 37, 13, 25}, 'facebookPostsList': set()}, 'virtual': {'browsing_history': {113, 82}, 'schedule': {38, 2, 26, 14}, 'facebookPostsList': set()}, 'book': {'browsing_history': {96, 113, 82, 91}, 'schedule': {2, 38, 7, 43, 14, 19, 26, 31}, 'facebookPostsList': set()}, 'club': {'browsing_history': {113, 82, 91}, 'schedule': {38, 2, 26, 14}, 'facebookPostsList': set()}, 'meeting': {'browsing_history': {113, 82}, 'schedule': {38, 2, 26, 14}, 'facebookPostsList': set()}, 'goodreads': {'browsing_history': {82}, 'schedule': set(), 'facebookPostsList': set()}, 'recommendations': {'browsing_history': {83}, 'schedule': set(), 'facebookPostsList': set()}, 'releases': {'browsing_history': {84}, 'schedule': set(), 'facebookPostsList': set()}, 'local': {'browsing_history': {99, 84, 119, 111}, 'schedule': {32, 34, 4, 8, 40, 10, 44, 46, 16, 20, 22, 28}, 'facebookPostsList': set()}, 'library': {'browsing_history': {104, 116, 84}, 'schedule': {16, 40, 4, 28}, 'facebookPostsList': set()}, 'catalog': {'browsing_history': {84}, 'schedule': set(), 'facebookPostsList': set()}, 'video': {'browsing_history': {105, 117, 85, 94}, 'schedule': {17, 29, 5, 41}, 'facebookPostsList': set()}, 'grandchildren': {'browsing_history': {117, 85, 94}, 'schedule': {17, 29, 5, 41}, 'facebookPostsList': set()}, 'zoom': {'browsing_history': {117, 85, 94}, 'schedule': set(), 'facebookPostsList': set()}, 'meal': {'browsing_history': {118, 86, 95}, 'schedule': {18, 42, 6, 30}, 'facebookPostsList': set()}, 'allrecipes': {'browsing_history': {106, 118, 86, 95}, 'schedule': set(), 'facebookPostsList': set()}, 'volunteermatch': {'browsing_history': {88, 97, 108, 119}, 'schedule': set(), 'facebookPostsList': set()}, 'grocery': {'browsing_history': {89, 98, 109}, 'schedule': {9, 45, 21, 33}, 'facebookPostsList': set()}, 'list': {'browsing_history': {89}, 'schedule': set(), 'facebookPostsList': set()}, 'news': {'browsing_history': {90, 111}, 'schedule': set(), 'facebookPostsList': set()}, 'highlights': {'browsing_history': {90}, 'schedule': set(), 'facebookPostsList': set()}, 'york': {'browsing_history': {90}, 'schedule': set(), 'facebookPostsList': set()}, 'times': {'browsing_history': {90}, 'schedule': set(), 'facebookPostsList': set()}, 'discussion': {'browsing_history': {91}, 'schedule': set(), 'facebookPostsList': set()}, 'mockingbird': {'browsing_history': {91}, 'schedule': set(), 'facebookPostsList': set()}, 'patterns': {'browsing_history': {92}, 'schedule': set(), 'facebookPostsList': set()}, 'scarves': {'browsing_history': {92}, 'schedule': set(), 'facebookPostsList': set()}, 'ravelry': {'browsing_history': {92}, 'schedule': set(), 'facebookPostsList': set()}, 'lovers': {'browsing_history': {96}, 'schedule': set(), 'facebookPostsList': set()}, 'good': {'browsing_history': {96}, 'schedule': set(), 'facebookPostsList': set()}, 'housekeeping': {'browsing_history': {96}, 'schedule': set(), 'facebookPostsList': set()}, 'volunteer': {'browsing_history': {97, 108}, 'schedule': set(), 'facebookPostsList': set()}, 'portland': {'browsing_history': {97, 99, 104, 111, 112, 116}, 'schedule': set(), 'facebookPostsList': set()}, 'history': {'browsing_history': {99}, 'schedule': {46, 10, 34, 22}, 'facebookPostsList': set()}, 'museum': {'browsing_history': {99}, 'schedule': {46, 10, 34, 22}, 'facebookPostsList': set()}, 'exhibit': {'browsing_history': {99}, 'schedule': {46, 10, 34, 22}, 'facebookPostsList': set()}, 'historical': {'browsing_history': {99}, 'schedule': set(), 'facebookPostsList': set()}, 'society': {'browsing_history': {99}, 'schedule': set(), 'facebookPostsList': set()}, 'great': {'browsing_history': {100}, 'schedule': set(), 'facebookPostsList': set()}, 'gatsby': {'browsing_history': {100}, 'schedule': set(), 'facebookPostsList': set()}, 'beginners': {'browsing_history': {101}, 'schedule': set(), 'facebookPostsList': set()}, 'simple': {'browsing_history': {101}, 'schedule': set(), 'facebookPostsList': set()}, 'steps': {'browsing_history': {101}, 'schedule': set(), 'facebookPostsList': set()}, 'yarn': {'browsing_history': {102}, 'schedule': set(), 'facebookPostsList': set()}, 'public': {'browsing_history': {104, 116}, 'schedule': set(), 'facebookPostsList': set()}, 'apps': {'browsing_history': {105}, 'schedule': set(), 'facebookPostsList': set()}, 'free': {'browsing_history': {105}, 'schedule': set(), 'facebookPostsList': set()}, 'choices': {'browsing_history': {105}, 'schedule': set(), 'facebookPostsList': set()}, 'freemake': {'browsing_history': {105}, 'schedule': set(), 'facebookPostsList': set()}, 'meals': {'browsing_history': {106}, 'schedule': set(), 'facebookPostsList': set()}, 'spruce': {'browsing_history': {107}, 'schedule': set(), 'facebookPostsList': set()}, 'maps': {'browsing_history': {109}, 'schedule': set(), 'facebookPostsList': set()}, 'oregon': {'browsing_history': {112, 111}, 'schedule': set(), 'facebookPostsList': set()}, 'weather': {'browsing_history': {112}, 'schedule': set(), 'facebookPostsList': set()}, 'forecast': {'browsing_history': {112}, 'schedule': set(), 'facebookPostsList': set()}, 'upcoming': {'browsing_history': {113}, 'schedule': set(), 'facebookPostsList': set()}, 'meetup': {'browsing_history': {113}, 'schedule': set(), 'facebookPostsList': set()}, 'knitting': {'browsing_history': {115}, 'schedule': set(), 'facebookPostsList': set()}, 'michaels': {'browsing_history': {115}, 'schedule': set(), 'facebookPostsList': set()}, 'arrivals': {'browsing_history': {116}, 'schedule': set(), 'facebookPostsList': set()}, 'charity': {'browsing_history': {119}, 'schedule': {8, 32, 20, 44}, 'facebookPostsList': set()}, 'organizations': {'browsing_history': {119}, 'schedule': set(), 'facebookPostsList': set()}, 'cup': {'browsing_history': set(), 'schedule': {0, 24, 12, 36}, 'facebookPostsList': set()}, 'coffee': {'browsing_history': set(), 'schedule': {0, 24, 12, 36}, 'facebookPostsList': set()}, 'walk': {'browsing_history': set(), 'schedule': {1, 37, 13, 25}, 'facebookPostsList': set()}, 'scarf': {'browsing_history': set(), 'schedule': {27, 3, 39, 15}, 'facebookPostsList': set()}, 'visits': {'browsing_history': set(), 'schedule': {16, 40, 4, 28}, 'facebookPostsList': set()}, 'friend': {'browsing_history': set(), 'schedule': {18, 42, 6, 30}, 'facebookPostsList': set()}, 'collection': {'browsing_history': set(), 'schedule': {43, 19, 31, 7}, 'facebookPostsList': set()}, 'volunteers': {'browsing_history': set(), 'schedule': {8, 32, 20, 44}, 'facebookPostsList': set()}, 'organization': {'browsing_history': set(), 'schedule': {8, 32, 20, 44}, 'facebookPostsList': set()}, 'nearby': {'browsing_history': set(), 'schedule': {9, 45, 21, 33}, 'facebookPostsList': set()}, 'store': {'browsing_history': set(), 'schedule': {9, 45, 21, 33}, 'facebookPostsList': set()}, 'practices': {'browsing_history': set(), 'schedule': {35, 11, 47, 23}, 'facebookPostsList': set()}, 'living': {'browsing_history': set(), 'schedule': {35, 11, 47, 23}, 'facebookPostsList': set()}, 'room': {'browsing_history': set(), 'schedule': {35, 11, 47, 23}, 'facebookPostsList': set()}}, '4b81a719-4d63-4a0d-92be-5087c71a40b0_': {'psychology': {'browsing_history': {0, 35, 38, 10, 11, 12, 30}, 'schedule': {0, 2, 8, 10, 16, 24}, 'facebookPostsList': set()}, 'today': {'browsing_history': {0, 35}, 'schedule': set(), 'facebookPostsList': set()}, 'therapist': {'browsing_history': {0}, 'schedule': set(), 'facebookPostsList': set()}, 'mental': {'browsing_history': {1, 4, 5, 13, 22, 29}, 'schedule': set(), 'facebookPostsList': set()}, 'health': {'browsing_history': {1, 4, 5, 13, 22, 29}, 'schedule': set(), 'facebookPostsList': set()}, 'blogs': {'browsing_history': {1, 13}, 'schedule': set(), 'facebookPostsList': set()}, 'stress': {'browsing_history': {8, 2, 27}, 'schedule': set(), 'facebookPostsList': set()}, 'anxiety': {'browsing_history': {2}, 'schedule': set(), 'facebookPostsList': set()}, 'best': {'browsing_history': {3, 6, 9, 17, 21, 23, 25, 28, 31}, 'schedule': set(), 'facebookPostsList': set()}, 'online': {'browsing_history': {3, 36, 15, 23, 28, 31}, 'schedule': {0, 8, 13, 16, 22, 24, 29}, 'facebookPostsList': set()}, 'clothing': {'browsing_history': {3, 28, 15}, 'schedule': set(), 'facebookPostsList': set()}, 'stores': {'browsing_history': {3, 28, 15}, 'schedule': set(), 'facebookPostsList': set()}, 'women': {'browsing_history': {3, 28}, 'schedule': set(), 'facebookPostsList': set()}, 'elle': {'browsing_history': {3, 28}, 'schedule': set(), 'facebookPostsList': set()}, 'benefits': {'browsing_history': {4, 22}, 'schedule': set(), 'facebookPostsList': set()}, 'exercise': {'browsing_history': {4}, 'schedule': set(), 'facebookPostsList': set()}, 'verywell': {'browsing_history': {4, 22}, 'schedule': set(), 'facebookPostsList': set()}, 'mind': {'browsing_history': {4, 22}, 'schedule': set(), 'facebookPostsList': set()}, 'self': {'browsing_history': {29, 37, 5, 14}, 'schedule': set(), 'facebookPostsList': set()}, 'care': {'browsing_history': {29, 37, 5, 14}, 'schedule': set(), 'facebookPostsList': set()}, 'tips': {'browsing_history': {37, 5, 14}, 'schedule': set(), 'facebookPostsList': set()}, 'better': {'browsing_history': {5}, 'schedule': set(), 'facebookPostsList': set()}, 'healthline': {'browsing_history': {24, 5, 14}, 'schedule': set(), 'facebookPostsList': set()}, 'movies': {'browsing_history': {34, 6, 17, 25, 26}, 'schedule': set(), 'facebookPostsList': set()}, 'platforms': {'browsing_history': {18, 6}, 'schedule': set(), 'facebookPostsList': set()}, 'imdb': {'browsing_history': {17, 6, 25}, 'schedule': set(), 'facebookPostsList': set()}, 'memory': {'browsing_history': {7}, 'schedule': set(), 'facebookPostsList': set()}, 'cognitive': {'browsing_history': {11, 7}, 'schedule': set(), 'facebookPostsList': set()}, 'function': {'browsing_history': {7}, 'schedule': set(), 'facebookPostsList': set()}, 'mayo': {'browsing_history': {27, 7}, 'schedule': set(), 'facebookPostsList': set()}, 'clinic': {'browsing_history': {27, 7}, 'schedule': set(), 'facebookPostsList': set()}, 'relaxation': {'browsing_history': {8}, 'schedule': set(), 'facebookPostsList': set()}, 'techniques': {'browsing_history': {8, 14}, 'schedule': set(), 'facebookPostsList': set()}, 'relief': {'browsing_history': {8}, 'schedule': set(), 'facebookPostsList': set()}, 'webmd': {'browsing_history': {8}, 'schedule': set(), 'facebookPostsList': set()}, 'bike': {'browsing_history': {9}, 'schedule': set(), 'facebookPostsList': set()}, 'deals': {'browsing_history': {9}, 'schedule': set(), 'facebookPostsList': set()}, 'amazon': {'browsing_history': {9, 36}, 'schedule': set(), 'facebookPostsList': set()}, 'research': {'browsing_history': {10, 12, 38}, 'schedule': {18, 26, 2, 10}, 'facebookPostsList': set()}, 'methods': {'browsing_history': {10}, 'schedule': set(), 'facebookPostsList': set()}, 'google': {'browsing_history': {32, 33, 35, 37, 38, 10, 12, 15, 18, 30, 31}, 'schedule': set(), 'facebookPostsList': set()}, 'search': {'browsing_history': {32, 33, 35, 37, 10, 15, 18, 30, 31}, 'schedule': set(), 'facebookPostsList': set()}, 'wikipedia': {'browsing_history': {11}, 'schedule': set(), 'facebookPostsList': set()}, 'articles': {'browsing_history': {35, 12, 38}, 'schedule': set(), 'facebookPostsList': set()}, 'scholar': {'browsing_history': {12, 38}, 'schedule': set(), 'facebookPostsList': set()}, 'medium': {'browsing_history': {13}, 'schedule': set(), 'facebookPostsList': set()}, 'fashion': {'browsing_history': {16}, 'schedule': set(), 'facebookPostsList': set()}, 'trends': {'browsing_history': {16}, 'schedule': set(), 'facebookPostsList': set()}, 'vogue': {'browsing_history': {16}, 'schedule': set(), 'facebookPostsList': set()}, 'movie': {'browsing_history': {18, 39}, 'schedule': {23, 31, 7}, 'facebookPostsList': set()}, 'streaming': {'browsing_history': {18}, 'schedule': set(), 'facebookPostsList': set()}, 'healthy': {'browsing_history': {19}, 'schedule': set(), 'facebookPostsList': set()}, 'dinner': {'browsing_history': {19}, 'schedule': set(), 'facebookPostsList': set()}, 'recipes': {'browsing_history': {19}, 'schedule': set(), 'facebookPostsList': set()}, 'food': {'browsing_history': {19}, 'schedule': set(), 'facebookPostsList': set()}, 'network': {'browsing_history': {19}, 'schedule': set(), 'facebookPostsList': set()}, 'internship': {'browsing_history': {20}, 'schedule': {18, 26}, 'facebookPostsList': set()}, 'opportunities': {'browsing_history': {20}, 'schedule': {18, 26}, 'facebookPostsList': set()}, 'balance': {'browsing_history': {20}, 'schedule': set(), 'facebookPostsList': set()}, 'careers': {'browsing_history': {20}, 'schedule': set(), 'facebookPostsList': set()}, 'yoga': {'browsing_history': {24, 21, 22, 23}, 'schedule': {22}, 'facebookPostsList': set()}, 'classes': {'browsing_history': {31, 21, 23}, 'schedule': {0, 8, 16, 24}, 'facebookPostsList': set()}, 'urbanclap': {'browsing_history': {21}, 'schedule': set(), 'facebookPostsList': set()}, 'right': {'browsing_history': {24}, 'schedule': set(), 'facebookPostsList': set()}, 'mat': {'browsing_history': {24}, 'schedule': set(), 'facebookPostsList': set()}, 'tomatoes': {'browsing_history': {26, 34}, 'schedule': set(), 'facebookPostsList': set()}, 'importance': {'browsing_history': {29}, 'schedule': set(), 'facebookPostsList': set()}, 'psychcentral': {'browsing_history': {29}, 'schedule': set(), 'facebookPostsList': set()}, 'fitness': {'browsing_history': {31}, 'schedule': {29}, 'facebookPostsList': set()}, 'diy': {'browsing_history': {32}, 'schedule': {30}, 'facebookPostsList': set()}, 'home': {'browsing_history': {32}, 'schedule': {5, 6, 30}, 'facebookPostsList': set()}, 'decor': {'browsing_history': {32}, 'schedule': {30}, 'facebookPostsList': set()}, 'ideas': {'browsing_history': {32}, 'schedule': set(), 'facebookPostsList': set()}, 'wreath': {'browsing_history': {33}, 'schedule': set(), 'facebookPostsList': set()}, 'shopping': {'browsing_history': {36}, 'schedule': set(), 'facebookPostsList': set()}, 'clothes': {'browsing_history': {36}, 'schedule': set(), 'facebookPostsList': set()}, 'tricks': {'browsing_history': {37}, 'schedule': set(), 'facebookPostsList': set()}, 'trailers': {'browsing_history': {39}, 'schedule': set(), 'facebookPostsList': set()}, 'youtube': {'browsing_history': {39}, 'schedule': set(), 'facebookPostsList': set()}, 'degree': {'browsing_history': set(), 'schedule': {0, 8, 16, 24}, 'facebookPostsList': set()}, 'sales': {'browsing_history': set(), 'schedule': {1, 4, 9, 12, 17, 20, 25, 28}, 'facebookPostsList': set()}, 'associate': {'browsing_history': set(), 'schedule': {1, 4, 9, 12, 17, 20, 25, 28}, 'facebookPostsList': set()}, 'retail': {'browsing_history': set(), 'schedule': {1, 4, 9, 12, 17, 20, 25, 28}, 'facebookPostsList': set()}, 'store': {'browsing_history': set(), 'schedule': {1, 4, 9, 12, 17, 20, 25, 28}, 'facebookPostsList': set()}, 'project': {'browsing_history': set(), 'schedule': {2, 10, 30}, 'facebookPostsList': set()}, 'lunch': {'browsing_history': set(), 'schedule': {11, 19, 3, 27}, 'facebookPostsList': set()}, 'local': {'browsing_history': set(), 'schedule': {11, 19, 3, 27}, 'facebookPostsList': set()}, 'cafe': {'browsing_history': set(), 'schedule': {11, 19, 3, 27}, 'facebookPostsList': set()}, 'twitter': {'browsing_history': set(), 'schedule': {5}, 'facebookPostsList': set()}, 'reddit': {'browsing_history': set(), 'schedule': {6}, 'facebookPostsList': set()}, 'platform': {'browsing_history': set(), 'schedule': {7}, 'facebookPostsList': set()}, 'chat': {'browsing_history': set(), 'schedule': {13}, 'facebookPostsList': set()}, 'family': {'browsing_history': set(), 'schedule': {13}, 'facebookPostsList': set()}, 'members': {'browsing_history': set(), 'schedule': {13}, 'facebookPostsList': set()}, 'favorite': {'browsing_history': set(), 'schedule': {14}, 'facebookPostsList': set()}, 'tv': {'browsing_history': set(), 'schedule': {14}, 'facebookPostsList': set()}, 'shows': {'browsing_history': set(), 'schedule': {14}, 'facebookPostsList': set()}, 'virtual': {'browsing_history': set(), 'schedule': {21, 15}, 'facebookPostsList': set()}, 'hangout': {'browsing_history': set(), 'schedule': {15}, 'facebookPostsList': set()}, 'friends': {'browsing_history': set(), 'schedule': {15}, 'facebookPostsList': set()}, 'book': {'browsing_history': set(), 'schedule': {21}, 'facebookPostsList': set()}, 'club': {'browsing_history': set(), 'schedule': {21}, 'facebookPostsList': set()}, 'meeting': {'browsing_history': set(), 'schedule': {21}, 'facebookPostsList': set()}, 'session': {'browsing_history': set(), 'schedule': {22}, 'facebookPostsList': set()}, 'class': {'browsing_history': set(), 'schedule': {29}, 'facebookPostsList': set()}}}\n"
          ]
        }
      ]
    },
    {
      "cell_type": "code",
      "source": [
        "import gensim\n",
        "model = gensim.models.KeyedVectors.load_word2vec_format('/content/drive/My Drive/adAuditing/lexvec.enwiki+newscrawl.300d.W.pos.vectors', binary=False)"
      ],
      "metadata": {
        "id": "z-OEFQhESmuv"
      },
      "execution_count": null,
      "outputs": []
    },
    {
      "cell_type": "code",
      "source": [
        "def extract_outliers(pid, max_kw_num):\n",
        "    common_keywords = get_common_keywords(all_persona_keywords)\n",
        "    distinct_keywords = get_distinct_keywords(all_persona_keywords, common_keywords, all_persona_keywords.keys())\n",
        "    # distinct_keywords = get_distinct_keywords(all_persona_keywords, set(), all_persona_keywords.keys())\n",
        "    vec_word_dic, ignored_words = get_vec_word_dic(distinct_keywords, model)\n",
        "    outliers = get_outliers(vec_word_dic, pid)\n",
        "    if len(outliers) > max_kw_num:\n",
        "        outliers = extract_top_n_kw(outliers, pid, max_kw_num)\n",
        "    return outliers\n"
      ],
      "metadata": {
        "id": "kbZgMjYER7M-"
      },
      "execution_count": 32,
      "outputs": []
    },
    {
      "cell_type": "code",
      "source": [
        "pid20_kws = extract_outliers(pid_20, 7)"
      ],
      "metadata": {
        "colab": {
          "base_uri": "https://localhost:8080/"
        },
        "id": "lng0f_ryUhco",
        "outputId": "8431fffe-7a03-43c7-eae0-e40a4942b300"
      },
      "execution_count": 33,
      "outputs": [
        {
          "output_type": "stream",
          "name": "stdout",
          "text": [
            "common kws: 82\n",
            "encode 48 words for 4b81a719-4d63-4a0d-92be-5087c71a40b0_a120fce9-2511-422b-9c80-cb739e59ef6a\n",
            "encode 111 words for 4b81a719-4d63-4a0d-92be-5087c71a40b0_199bea01-2cba-4381-9980-fad5a40da13e\n",
            "encode 23 words for 4b81a719-4d63-4a0d-92be-5087c71a40b0_\n",
            "3 words ignored: {'freemake', 'ravelry', 'volunteermatch'}\n",
            "8 outliers found\n"
          ]
        }
      ]
    },
    {
      "cell_type": "code",
      "source": [
        "pid80_kws = extract_outliers(pid_80, 7)"
      ],
      "metadata": {
        "colab": {
          "base_uri": "https://localhost:8080/"
        },
        "id": "NX-q5zBxWaYA",
        "outputId": "e85afe43-f11b-4cf2-b473-41fc2492fcb7"
      },
      "execution_count": 34,
      "outputs": [
        {
          "output_type": "stream",
          "name": "stdout",
          "text": [
            "common kws: 82\n",
            "encode 48 words for 4b81a719-4d63-4a0d-92be-5087c71a40b0_a120fce9-2511-422b-9c80-cb739e59ef6a\n",
            "encode 111 words for 4b81a719-4d63-4a0d-92be-5087c71a40b0_199bea01-2cba-4381-9980-fad5a40da13e\n",
            "encode 23 words for 4b81a719-4d63-4a0d-92be-5087c71a40b0_\n",
            "3 words ignored: {'freemake', 'ravelry', 'volunteermatch'}\n",
            "38 outliers found\n"
          ]
        }
      ]
    },
    {
      "cell_type": "code",
      "source": [
        "def get_kw_info(outliers, pid, keyword):\n",
        "  dic = {outlier: all_persona_keywords[pid][keyword] for outlier in outliers}\n",
        "  file_path = f\"{data_folder_path}/{pid}.json\"\n",
        "  res = []\n",
        "  with open(file_path, 'r') as json_file:\n",
        "    data = json.load(json_file)['data']\n",
        "\n",
        "    for bh in data['browsing_history']:\n",
        "      if bh['id'] in dic[keyword]['browsing_history']:\n",
        "        res.append(['browsing_history', bh['id'], bh['title']])\n",
        "\n",
        "    # for pc in data['facebookPostsList']:\n",
        "    #   if pc['id'] in dic['facebookPostsList']:\n",
        "    #     res.append(['facebookPostsList', pc['id'], pc['content']])\n",
        "\n",
        "    for sch in data['schedule']:\n",
        "      if sch['id'] in dic[keyword]['schedule']:\n",
        "        res.append(['schedule', sch['id'], sch['event']])\n",
        "  return res"
      ],
      "metadata": {
        "id": "jQLyUMoYdLTE"
      },
      "execution_count": null,
      "outputs": []
    },
    {
      "cell_type": "code",
      "source": [
        "def get_kw_info(pid, keyword):\n",
        "  dic = all_persona_keywords[pid][keyword]\n",
        "  file_path = f\"{data_folder_path}/{pid}.json\"\n",
        "  res = []\n",
        "  with open(file_path, 'r') as json_file:\n",
        "    data = json.load(json_file)['data']\n",
        "\n",
        "    for bh in data['browsing_history']:\n",
        "      if bh['id'] in dic['browsing_history']:\n",
        "        res.append(['browsing_history', bh['id'], bh['title']])\n",
        "\n",
        "    # for pc in data['facebookPostsList']:\n",
        "    #   if pc['id'] in dic['facebookPostsList']:\n",
        "    #     res.append(['facebookPostsList', pc['id'], pc['content']])\n",
        "\n",
        "    for sch in data['schedule']:\n",
        "      if sch['id'] in dic['schedule']:\n",
        "        res.append(['schedule', sch['id'], sch['event']])\n",
        "  return res"
      ],
      "metadata": {
        "id": "GEbWFNW6d9UN"
      },
      "execution_count": 41,
      "outputs": []
    },
    {
      "cell_type": "code",
      "source": [
        "get_kw_info(pid_80, 'grandchildren')"
      ],
      "metadata": {
        "colab": {
          "base_uri": "https://localhost:8080/"
        },
        "id": "PWwzlgI9eSaP",
        "outputId": "f02a08e4-2bda-4720-b6af-1345b2aef5d6"
      },
      "execution_count": 42,
      "outputs": [
        {
          "output_type": "execute_result",
          "data": {
            "text/plain": [
              "[['browsing_history', 85, 'Video Call with Grandchildren - Zoom'],\n",
              " ['browsing_history', 94, 'Video call with grandchildren - Zoom'],\n",
              " ['browsing_history', 117, 'Video Call with Grandchildren - Zoom'],\n",
              " ['schedule', 5, 'Samantha has a video call with her grandchildren'],\n",
              " ['schedule', 17, 'Samantha has a video call with her grandchildren'],\n",
              " ['schedule', 29, 'Samantha has a video call with her grandchildren'],\n",
              " ['schedule', 41, 'Samantha has a video call with her grandchildren']]"
            ]
          },
          "metadata": {},
          "execution_count": 42
        }
      ]
    },
    {
      "cell_type": "code",
      "source": [
        "get_kw_info(pid80_kws, pid_80, 'grandchildren')"
      ],
      "metadata": {
        "colab": {
          "base_uri": "https://localhost:8080/",
          "height": 144
        },
        "id": "5-2NFpPvf82N",
        "outputId": "125c11de-8cb4-465d-a8e4-a96b93475315"
      },
      "execution_count": 38,
      "outputs": [
        {
          "output_type": "error",
          "ename": "TypeError",
          "evalue": "get_kw_info() takes 2 positional arguments but 3 were given",
          "traceback": [
            "\u001b[0;31m---------------------------------------------------------------------------\u001b[0m",
            "\u001b[0;31mTypeError\u001b[0m                                 Traceback (most recent call last)",
            "\u001b[0;32m<ipython-input-38-67a53b91ae69>\u001b[0m in \u001b[0;36m<cell line: 1>\u001b[0;34m()\u001b[0m\n\u001b[0;32m----> 1\u001b[0;31m \u001b[0mget_kw_info\u001b[0m\u001b[0;34m(\u001b[0m\u001b[0mpid80_kws\u001b[0m\u001b[0;34m,\u001b[0m \u001b[0mpid_80\u001b[0m\u001b[0;34m,\u001b[0m \u001b[0;34m'grandchildren'\u001b[0m\u001b[0;34m)\u001b[0m\u001b[0;34m\u001b[0m\u001b[0;34m\u001b[0m\u001b[0m\n\u001b[0m",
            "\u001b[0;31mTypeError\u001b[0m: get_kw_info() takes 2 positional arguments but 3 were given"
          ]
        }
      ]
    },
    {
      "cell_type": "code",
      "source": [
        "def extract_persona_info():\n",
        "    res = []\n",
        "    for file_name in os.listdir(data_folder_path):\n",
        "        cur = {}\n",
        "        if not file_name.endswith('.json'): continue\n",
        "        with open(os.path.join(data_folder_path, file_name), 'r') as file:\n",
        "            data = json.load(file)['data']\n",
        "            pid = file_name.split('.')[0]\n",
        "            cur['pid'] = pid\n",
        "            cur['first_name'] = data['first_name']\n",
        "            cur['last_name'] = data['last_name']\n",
        "            cur['age'] = data['age']\n",
        "            cur['profile'] = data['profile']\n",
        "            cur['keywords'] = extract_outliers(pid, 7)\n",
        "            res.append(cur)\n",
        "    return res"
      ],
      "metadata": {
        "id": "L8KSIk8IDGVj"
      },
      "execution_count": 35,
      "outputs": []
    },
    {
      "cell_type": "code",
      "source": [
        "extract_persona_info()"
      ],
      "metadata": {
        "colab": {
          "base_uri": "https://localhost:8080/"
        },
        "id": "A41R3RovU-8C",
        "outputId": "6f45477f-4589-43a7-c627-baf7ad5c5c6e"
      },
      "execution_count": 36,
      "outputs": [
        {
          "output_type": "stream",
          "name": "stdout",
          "text": [
            "common kws: 82\n",
            "encode 48 words for 4b81a719-4d63-4a0d-92be-5087c71a40b0_a120fce9-2511-422b-9c80-cb739e59ef6a\n",
            "encode 111 words for 4b81a719-4d63-4a0d-92be-5087c71a40b0_199bea01-2cba-4381-9980-fad5a40da13e\n",
            "encode 23 words for 4b81a719-4d63-4a0d-92be-5087c71a40b0_\n",
            "3 words ignored: {'freemake', 'ravelry', 'volunteermatch'}\n",
            "9 outliers found\n",
            "common kws: 82\n",
            "encode 48 words for 4b81a719-4d63-4a0d-92be-5087c71a40b0_a120fce9-2511-422b-9c80-cb739e59ef6a\n",
            "encode 111 words for 4b81a719-4d63-4a0d-92be-5087c71a40b0_199bea01-2cba-4381-9980-fad5a40da13e\n",
            "encode 23 words for 4b81a719-4d63-4a0d-92be-5087c71a40b0_\n",
            "3 words ignored: {'freemake', 'ravelry', 'volunteermatch'}\n",
            "38 outliers found\n",
            "common kws: 82\n",
            "encode 48 words for 4b81a719-4d63-4a0d-92be-5087c71a40b0_a120fce9-2511-422b-9c80-cb739e59ef6a\n",
            "encode 111 words for 4b81a719-4d63-4a0d-92be-5087c71a40b0_199bea01-2cba-4381-9980-fad5a40da13e\n",
            "encode 23 words for 4b81a719-4d63-4a0d-92be-5087c71a40b0_\n",
            "3 words ignored: {'freemake', 'ravelry', 'volunteermatch'}\n",
            "8 outliers found\n"
          ]
        },
        {
          "output_type": "execute_result",
          "data": {
            "text/plain": [
              "[{'pid': '4b81a719-4d63-4a0d-92be-5087c71a40b0_a120fce9-2511-422b-9c80-cb739e59ef6a',\n",
              "  'first_name': 'Samantha',\n",
              "  'last_name': 'Miller',\n",
              "  'age': '45',\n",
              "  'profile': \"Samantha Miller is a 45-year-old Caucasian female living in 456 Oak St, Portland, Oregon 97201. She speaks English and holds a bachelor's degree in Psychology. Samantha's date of birth is 09/14/1979. She works full-time in the healthcare industry and is employed by a medium-sized employer (51-250 employees). She is a mental health counselor, with an annual income of $60,000. Samantha is a homeowner. She is divorced and has one teenage child. In her free time, she enjoys reading self-help books and watching classic movies. When using her computer, she prefers using a desktop for its larger screen and ease of navigation. On the internet, she likes to shop for household items and read articles on mental wellness and personal development.\",\n",
              "  'keywords': ['session',\n",
              "   'reviews',\n",
              "   'counseling',\n",
              "   'therapy',\n",
              "   'bills',\n",
              "   'ratings',\n",
              "   'laundry']},\n",
              " {'pid': '4b81a719-4d63-4a0d-92be-5087c71a40b0_199bea01-2cba-4381-9980-fad5a40da13e',\n",
              "  'first_name': 'Samantha',\n",
              "  'last_name': 'Miller',\n",
              "  'age': '80',\n",
              "  'profile': \"Samantha Miller is an 80-year-old Caucasian female residing in 456 Oak St, Portland, Oregon 97201. She speaks English and holds a bachelor's degree in Psychology. Samantha was born on 09/14/1944. Having retired from a long career in the retail industry, where she worked as a store manager with a final annual income of $50,000, Samantha is now enjoying her golden years as a homeowner. She is widowed and has two grandchildren. Samantha spends her free time reading newspapers and watching classic movies on her television. She prefers using a desktop computer for its reliability and enjoys browsing online for books and knitting supplies.\",\n",
              "  'keywords': ['reviews',\n",
              "   'grandchildren',\n",
              "   'virtual',\n",
              "   'portland',\n",
              "   'exhibit',\n",
              "   'ratings',\n",
              "   'coffee']},\n",
              " {'pid': '4b81a719-4d63-4a0d-92be-5087c71a40b0_',\n",
              "  'first_name': 'Samantha',\n",
              "  'last_name': 'Miller',\n",
              "  'age': '20',\n",
              "  'profile': \"Samantha Miller is a 20-year-old Caucasian female living in 456 Oak St, Portland, Oregon 97201. She speaks English and is currently pursuing a bachelor's degree in Psychology. Samantha's date of birth is 09/14/2004. She works part-time in the retail industry and is employed by a small employer (1-50 employees). She is a sales associate, with an annual income of $25,000. Samantha is a renter. She is single and does not have any children. In her spare time, she enjoys browsing social media on her mobile phone and watching movies on streaming platforms. When using her computer, she prefers using a laptop for its convenience. On the internet, she likes to shop for clothes and read blogs about mental health and self-care.\",\n",
              "  'keywords': ['associate',\n",
              "   'cafe',\n",
              "   'degree',\n",
              "   'virtual',\n",
              "   'chat',\n",
              "   'reddit',\n",
              "   'session']}]"
            ]
          },
          "metadata": {},
          "execution_count": 36
        }
      ]
    }
  ]
}